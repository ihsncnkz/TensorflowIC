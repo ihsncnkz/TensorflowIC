{
  "nbformat": 4,
  "nbformat_minor": 0,
  "metadata": {
    "colab": {
      "provenance": []
    },
    "kernelspec": {
      "name": "python3",
      "display_name": "Python 3"
    },
    "language_info": {
      "name": "python"
    }
  },
  "cells": [
    {
      "cell_type": "markdown",
      "source": [
        "# Giris\n",
        "Yeni çalışmadan herkese merhaba! Bu bölümde, ileri seviye konulardan biri olan Özelleştirme (Customization) bölümüne giriş yapıyoruz.\n",
        "\n",
        "**Özelleştirme Temelleri: Tensörler ve İşlemler**<br>\n",
        "Bu bölümde aşağıdaki konular üzerinde örnekler yapacağız:\n",
        "\n",
        "- Gerekli paketlerin içe aktarımı\n",
        "- Tensörleri oluşturma ve kullanma\n",
        "- GPU hızlandırma kullanımı\n",
        "- **tf.data.Dataset** ile bir veri hattı oluşturma"
      ],
      "metadata": {
        "id": "RGX8Q7FzZcj8"
      }
    },
    {
      "cell_type": "markdown",
      "source": [
        "# TensorFlow'u içe aktar"
      ],
      "metadata": {
        "id": "KJR84oMmldS2"
      }
    },
    {
      "cell_type": "code",
      "execution_count": 1,
      "metadata": {
        "id": "4wjMv3trZMbs"
      },
      "outputs": [],
      "source": [
        "import tensorflow as tf"
      ]
    },
    {
      "cell_type": "markdown",
      "source": [
        "# Tensors\n",
        "**Tensör Nedir? (Tensors in TensorFlow)**\n",
        "Tensör (Tensor), çok boyutlu dizileri (arrays) temsil eden temel veri yapısıdır ve TensorFlow gibi derin öğrenme kütüphanelerinde kullanılır. Tensörler, skaler, vektör, matris ve daha yüksek boyutlu dizilerin genelleştirilmiş halidir.\n",
        "\n",
        "**Tensörlerin Temel Türleri**<br>\n",
        "Tensörler, boyutlarına (rank) göre sınıflandırılır:\n",
        "\n",
        "- Skaler (Rank-0 Tensör) → Tek bir sayıyı temsil eder.<br>\n",
        "  Örnek: tf.constant(5)\n",
        "\n",
        "- Vektör (Rank-1 Tensör) → Tek boyutlu dizidir.<br>\n",
        "  Örnek: tf.constant([1, 2, 3])\n",
        "\n",
        "- Matris (Rank-2 Tensör) → 2 boyutlu dizidir.<br>\n",
        "  Örnek: tf.constant([[1, 2], [3, 4]])\n",
        "  \n",
        "- Yüksek Boyutlu Tensörler (Rank-3, 4, 5...) → Derin öğrenme ve görüntü işleme gibi alanlarda kullanılır.<br>\n",
        "  Örnek: tf.constant([[[1, 2], [3, 4]], [[5, 6], [7, 8]]])\n",
        "\n",
        "**Tensörlerin Özellikleri**\n",
        "- Boyut (Shape) → Tensörün boyutlarını gösterir.<br>\n",
        "  Örnek: (3, 2, 4) → 3 boyutlu tensör.\n",
        "- Tip (Data Type) → TensorFlow'daki veri türlerini belirtir.<br>\n",
        "  Örnek: tf.float32, tf.int32, tf.bool\n",
        "- Cihaz Kullanımı → Tensörler CPU ve GPU üzerinde çalıştırılabilir."
      ],
      "metadata": {
        "id": "cgM9-vsnlksU"
      }
    },
    {
      "cell_type": "code",
      "source": [
        "print(tf.math.add(1,2))\n",
        "print(tf.math.add([1,2], [3,4]))\n",
        "print(tf.math.square(5))\n",
        "print(tf.math.reduce_sum([1,2,3]))\n",
        "\n",
        "print(tf.math.square(2) + tf.math.square(3))"
      ],
      "metadata": {
        "colab": {
          "base_uri": "https://localhost:8080/"
        },
        "id": "BujqB0khljG1",
        "outputId": "7eb38193-798f-4711-db44-7d4c5b7b472b"
      },
      "execution_count": 2,
      "outputs": [
        {
          "output_type": "stream",
          "name": "stdout",
          "text": [
            "tf.Tensor(3, shape=(), dtype=int32)\n",
            "tf.Tensor([4 6], shape=(2,), dtype=int32)\n",
            "tf.Tensor(25, shape=(), dtype=int32)\n",
            "tf.Tensor(6, shape=(), dtype=int32)\n",
            "tf.Tensor(13, shape=(), dtype=int32)\n"
          ]
        }
      ]
    },
    {
      "cell_type": "code",
      "source": [
        "# Her tf.Tensor'un bir şekli ve bir veri türü vardır:\n",
        "x = tf.linalg.matmul([[1]], [[2, 3]])\n",
        "print(x)\n",
        "print(x.shape)\n",
        "print(x.dtype)"
      ],
      "metadata": {
        "colab": {
          "base_uri": "https://localhost:8080/"
        },
        "id": "-hTnEsgvnRbA",
        "outputId": "2d578595-80a4-43e7-e0f0-cefd28fba1ea"
      },
      "execution_count": 3,
      "outputs": [
        {
          "output_type": "stream",
          "name": "stdout",
          "text": [
            "tf.Tensor([[2 3]], shape=(1, 2), dtype=int32)\n",
            "(1, 2)\n",
            "<dtype: 'int32'>\n"
          ]
        }
      ]
    },
    {
      "cell_type": "markdown",
      "source": [
        "NumPy dizileri ile tf.Tensors arasındaki en belirgin farklar şunlardır:\n",
        "- Tensörler hızlandırıcı belleklerle (GPU, TPU gibi) desteklenebilir.\n",
        "- Tensörler değişmezdir"
      ],
      "metadata": {
        "id": "hOV248KMoFqW"
      }
    },
    {
      "cell_type": "markdown",
      "source": [
        "## NumPy uyumluluğu\n",
        "TensorFlow tf.Tensor ile NumPy ndarray arasında dönüşüm yapmak kolaydır:\n",
        "- TensorFlow işlemleri NumPy ndarray'lerini otomatik olarak Tensörlere dönüştürür.\n",
        "- NumPy işlemleri Tensörleri otomatik olarak NumPy ndarrays'lerine dönüştürür.\n",
        "\n",
        "Tensörler, .numpy() metodu kullanılarak açıkça NumPy ndarrays'lerine dönüştürülür."
      ],
      "metadata": {
        "id": "foCuaHB5oU7m"
      }
    },
    {
      "cell_type": "code",
      "source": [
        "import numpy as np\n",
        "\n",
        "ndarray = np.ones([3, 3])\n",
        "\n",
        "print('TensorFlow işlemleri numpy dizilerini otomatik olarak Tensörlere dönüştürür')\n",
        "tensor = tf.math.multiply(ndarray, 42)\n",
        "print(tensor)\n",
        "\n",
        "print('Ve NumPy işlemleri Tensörleri NumPy dizilerine otomatik olarak dönüştürür')\n",
        "print(np.add(tensor, 1))\n",
        "\n",
        "print('.numpy() yöntemi bir Tensörü açıkça bir numpy dizisine dönüştürür')\n",
        "print(tensor.numpy())"
      ],
      "metadata": {
        "colab": {
          "base_uri": "https://localhost:8080/"
        },
        "id": "Dh5SAxRrn-Lf",
        "outputId": "078fbba6-1120-4638-eaec-b2f5afa326b0"
      },
      "execution_count": 6,
      "outputs": [
        {
          "output_type": "stream",
          "name": "stdout",
          "text": [
            "TensorFlow işlemleri numpy dizilerini otomatik olarak Tensörlere dönüştürür\n",
            "tf.Tensor(\n",
            "[[42. 42. 42.]\n",
            " [42. 42. 42.]\n",
            " [42. 42. 42.]], shape=(3, 3), dtype=float64)\n",
            "Ve NumPy işlemleri Tensörleri NumPy dizilerine otomatik olarak dönüştürür\n",
            "[[43. 43. 43.]\n",
            " [43. 43. 43.]\n",
            " [43. 43. 43.]]\n",
            ".numpy() yöntemi bir Tensörü açıkça bir numpy dizisine dönüştürür\n",
            "[[42. 42. 42.]\n",
            " [42. 42. 42.]\n",
            " [42. 42. 42.]]\n"
          ]
        }
      ]
    },
    {
      "cell_type": "markdown",
      "source": [
        "# GPU hızlandırma\n",
        "Birçok TensorFlow işlemi hesaplama için GPU kullanılarak hızlandırılır. TensorFlow, herhangi bir açıklama olmaksızın, bir işlem için GPU'yu mu yoksa CPU'yu mu kullanacağına otomatik olarak karar verir; gerekirse tensörü CPU ve GPU belleği arasında kopyalar. Bir işlem tarafından üretilen tensörler genellikle işlemin yürütüldüğü cihazın belleği tarafından desteklenir. Örneğin:"
      ],
      "metadata": {
        "id": "Fay1bOt6pqUU"
      }
    },
    {
      "cell_type": "code",
      "source": [
        "x = tf.random.uniform([3, 3])\n",
        "\n",
        "print('Kullanılabilir bir GPU var mı: ', tf.config.list_physical_devices('GPU')) # Ben suanda colab uzerinde ekran kartlarini kullanmadigim icin her hangi bir ekran kartina erisimim yok!\n",
        "print(\"GPU #0'daki Tensör:\", x.device.endswith('GPU:0'))"
      ],
      "metadata": {
        "colab": {
          "base_uri": "https://localhost:8080/"
        },
        "id": "pe2u7RaFpSo3",
        "outputId": "867c5e4a-e052-4b01-8023-63cb938d8c6c"
      },
      "execution_count": 7,
      "outputs": [
        {
          "output_type": "stream",
          "name": "stdout",
          "text": [
            "Kullanılabilir bir GPU var mı:  []\n",
            "GPU #0'daki Tensör: False\n"
          ]
        }
      ]
    },
    {
      "cell_type": "markdown",
      "source": [
        "## Cihaz adları\n",
        "Tensor.device özelliği, tensörün içeriğini barındıran cihazın tam nitelikli dize adını sağlar. Bu ad, bu programın yürütüldüğü ana bilgisayarın ağ adresinin tanımlayıcısı ve o ana bilgisayardaki cihaz gibi birçok ayrıntıyı kodlar. Bu, TensorFlow programının dağıtılmış yürütülmesi için gereklidir. Tensör ana bilgisayardaki N'inci GPU'ya yerleştirilirse dize GPU:<N> ile biter."
      ],
      "metadata": {
        "id": "kDCIVxA2rYGm"
      }
    },
    {
      "cell_type": "markdown",
      "source": [
        "## Açık cihaz yerleşimi\n",
        "\n",
        "TensorFlow'da yerleştirme, bireysel işlemlerin yürütülmek üzere bir cihaza nasıl atandığını (yerleştirildiğini) ifade eder. Daha önce de belirtildiği gibi, açık bir kılavuz sağlanmadığında, TensorFlow bir işlemi hangi cihazda yürüteceğine otomatik olarak karar verir ve gerekirse tensörleri o cihaza kopyalar."
      ],
      "metadata": {
        "id": "KFHw1qvartmW"
      }
    },
    {
      "cell_type": "code",
      "source": [
        "import time\n",
        "def time_matmul(x):\n",
        "  start = time.time()\n",
        "  for loop in range(10):\n",
        "    tf.linalg.matmul(x, x)\n",
        "\n",
        "  result = time.time()-start\n",
        "\n",
        "  print('10 dongu: {:0.2f}ms'.format(1000*result))\n",
        "\n",
        "# CPU uzerinde uygulamak\n",
        "print('CPU uzerinde: ')\n",
        "with tf.device('CPU:0'):\n",
        "  X = tf.random.uniform([1000, 1000])\n",
        "  assert x.device.endswith('CPU:0')\n",
        "  time_matmul(x)\n",
        "\n",
        "# GPU uzerinde uygulamak\n",
        "if tf.config.list_physical_devices('GPU'):\n",
        "  print('GPU uzerinde: ')\n",
        "  with tf.device('GPU:0'): # 0 burada 1. GPU uzerinde calisacak demektir eger birden fazla GPU'ya sahipseniz GPU:1 yazark 2. gpu uzerinde calistirabilirsiniz!\n",
        "    x = tf.device.endswith('GPU:0')\n",
        "    time_matmul(x)"
      ],
      "metadata": {
        "colab": {
          "base_uri": "https://localhost:8080/"
        },
        "id": "aYno51byrMXJ",
        "outputId": "223b8d1d-6125-4949-f3ca-64e63439df2b"
      },
      "execution_count": 8,
      "outputs": [
        {
          "output_type": "stream",
          "name": "stdout",
          "text": [
            "CPU uzerinde: \n",
            "10 dongu: 61.72ms\n"
          ]
        }
      ]
    },
    {
      "cell_type": "markdown",
      "source": [
        "# Veri setleri\n",
        "Bu bölüm, modelinize veri beslemek için bir işlem hattı oluşturmak amacıyla tf.data.Dataset API'sini kullanır.tf.data.Dataset, modelinizin eğitim veya değerlendirme döngülerini besleyecek basit, yeniden kullanılabilir parçalardan performanslı, karmaşık giriş hatları oluşturmak için kullanılır."
      ],
      "metadata": {
        "id": "luwsaXISuiNt"
      }
    },
    {
      "cell_type": "markdown",
      "source": [
        "## Bir kaynak Veri Kümesi Oluşturun\n",
        "**tf.data.Dataset.from_tensors**, **tf.data.Dataset.from_tensor_slices** gibi fabrika fonksiyonlarından birini kullanarak veya **tf.data.TextLineDataset** veya **tf.data.TFRecordDataset** gibi dosyalardan okuyan nesneleri kullanarak bir kaynak veri kümesi oluşturun."
      ],
      "metadata": {
        "id": "vQT38HIGu1jO"
      }
    },
    {
      "cell_type": "code",
      "source": [
        "ds_tensors = tf.data.Dataset.from_tensor_slices([1, 2, 3, 4, 5, 6])\n",
        "\n",
        "# CSV dosyasi olustur\n",
        "import tempfile\n",
        "_, filename = tempfile.mkstemp()\n",
        "\n",
        "with open(filename, 'w') as f:\n",
        "  f.write(\"\"\"Line 1\n",
        "  Line 2\n",
        "  Line 3\n",
        "  \"\"\")\n",
        "\n",
        "ds_file = tf.data.TextLineDataset(filename)"
      ],
      "metadata": {
        "id": "LeTKiJ87uTCP"
      },
      "execution_count": 9,
      "outputs": []
    },
    {
      "cell_type": "markdown",
      "source": [
        "## Dönüşümleri uygula\n",
        "Veri kümesi kayıtlarına dönüşümler uygulamak için tf.data.Dataset.map, tf.data.Dataset.batch ve tf.data.Dataset.shuffle gibi dönüşüm fonksiyonlarını kullanın."
      ],
      "metadata": {
        "id": "6x1PpgSuv75F"
      }
    },
    {
      "cell_type": "code",
      "source": [
        "ds_tensors = ds_tensors.map(tf.math.square).shuffle(2).batch(2)\n",
        "\n",
        "ds_file = ds_file.batch(2)"
      ],
      "metadata": {
        "id": "XdLjthXav08u"
      },
      "execution_count": 11,
      "outputs": []
    },
    {
      "cell_type": "markdown",
      "source": [
        "## Tekrarla"
      ],
      "metadata": {
        "id": "-OPhVRHVwSXU"
      }
    },
    {
      "cell_type": "code",
      "source": [
        "print('Elements of ds_tensors:')\n",
        "for x in ds_tensors:\n",
        "  print(x)\n",
        "\n",
        "print('\\nElements in ds_file:')\n",
        "for x in ds_file:\n",
        "  print(x)"
      ],
      "metadata": {
        "colab": {
          "base_uri": "https://localhost:8080/"
        },
        "id": "stYrigSBv2D7",
        "outputId": "6c4de890-12a0-41c5-b933-0ed802e49a16"
      },
      "execution_count": 12,
      "outputs": [
        {
          "output_type": "stream",
          "name": "stdout",
          "text": [
            "Elements of ds_tensors:\n",
            "tf.Tensor([4 9], shape=(2,), dtype=int32)\n",
            "tf.Tensor([16  1], shape=(2,), dtype=int32)\n",
            "tf.Tensor([25 36], shape=(2,), dtype=int32)\n",
            "\n",
            "Elements in ds_file:\n",
            "tf.Tensor([b'Line 1' b'  Line 2'], shape=(2,), dtype=string)\n",
            "tf.Tensor([b'  Line 3' b'  '], shape=(2,), dtype=string)\n"
          ]
        }
      ]
    },
    {
      "cell_type": "markdown",
      "source": [
        "# Sonuc\n",
        "Bu bölümün sonuna geldik. Tensörler ile ilgili önemli bilgiler edindiğimiz bir çalışma oldu. Aynı zamanda, kodları CPU ve GPU üzerinde nasıl çalıştırabileceğimizi de görmüş olduk.\n",
        "\n",
        "Umarım bu çalışma sizin için faydalı olmuştur. Eğer sormak istediğiniz herhangi bir soru varsa, aşağıdaki linklerden bana ulaşabilirsiniz.\n",
        "\n",
        "İyi çalışmalar dilerim!\n",
        "\n",
        "[Linkedin](https://www.linkedin.com/in/ihsancenkiz/)<br>\n",
        "[Github](https://github.com/ihsncnkz)<br>\n",
        "[Kaggle](https://www.kaggle.com/ihsncnkz)"
      ],
      "metadata": {
        "id": "0rWRVMwXxhfN"
      }
    }
  ]
}