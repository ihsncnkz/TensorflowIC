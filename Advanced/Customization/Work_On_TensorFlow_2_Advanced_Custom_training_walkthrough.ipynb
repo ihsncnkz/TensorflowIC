{
  "nbformat": 4,
  "nbformat_minor": 0,
  "metadata": {
    "colab": {
      "provenance": [],
      "toc_visible": true
    },
    "kernelspec": {
      "name": "python3",
      "display_name": "Python 3"
    },
    "language_info": {
      "name": "python"
    }
  },
  "cells": [
    {
      "cell_type": "markdown",
      "source": [
        "# Giris\n",
        "**Özel eğitim: adım adım anlatım**<br>\n",
        "Yeni bir bölümden merhaba! Bu bölümde, özelleştirme (customization) konusunun son çalışmasını gerçekleştireceğiz. Bu eğitimde, penguenleri türlerine göre kategorilere ayırmak için özel bir eğitim döngüsüyle bir makine öğrenimi modelinin nasıl eğitileceği gösterilmektedir. Bu not defterinde, TensorFlow'u kullanarak aşağıdakileri gerçekleştireceksiniz:\n",
        "- Bir veri kümesini içe aktarın\n",
        "- Basit bir doğrusal model oluşturun\n",
        "- Modeli eğit\n",
        "- Modelin etkinliğini değerlendirin\n",
        "- Tahminlerde bulunmak için eğitilmiş modeli kullanın"
      ],
      "metadata": {
        "id": "B3PXqnB9wQjN"
      }
    },
    {
      "cell_type": "markdown",
      "source": [
        "# Penguen sınıflandırma problemi\n",
        "Her pengueni kategorize etmenin otomatik bir yolunu arayan bir ornitolog olduğunuzu hayal edin. Makine öğrenmesi penguenleri istatistiksel olarak sınıflandırmak için birçok algoritma sağlar. Örneğin, gelişmiş bir makine öğrenmesi programı penguenleri fotoğraflara göre sınıflandırabilir. Bu eğitimde inşa edeceğiniz model biraz daha basittir. Penguenleri vücut ağırlıklarına, yüzgeç uzunluklarına ve gagalarına, özellikle de culmenlerinin uzunluk ve genişlik ölçümlerine göre sınıflandırır.\n",
        "\n",
        "18 tür penguen vardır, ancak bu eğitimde yalnızca aşağıdaki üç türü sınıflandırmaya çalışacaksınız:\n",
        "- Chinstrap penguins(Çene kayışlı penguenler)\n",
        "- Gentoo penguins(Gentoo penguenleri)\n",
        "- Adélie penguins(Adelie penguenleri)"
      ],
      "metadata": {
        "id": "6quGL8yoxTms"
      }
    },
    {
      "cell_type": "markdown",
      "source": [
        "# Kurmak"
      ],
      "metadata": {
        "id": "Up7yb1bex9Dz"
      }
    },
    {
      "cell_type": "code",
      "execution_count": 1,
      "metadata": {
        "id": "3I8b-JhiwGJT"
      },
      "outputs": [],
      "source": [
        "# Ardından Colab çalışma zamanını yeniden başlatmak için Colab menüsünden Çalışma Zamanı > Çalışma Zamanını Yeniden Başlat'ı seçin.\n",
        "# Çalışma zamanını yeniden başlatmadan bu eğitimin geri kalanını sürdürmeyin.\n",
        "# TensorFlow'u ve diğer gerekli Python modüllerini içe aktarın.\n",
        "!pip install -q tfds-nightly"
      ]
    },
    {
      "cell_type": "code",
      "source": [
        "import os\n",
        "import tensorflow as tf\n",
        "import tensorflow_datasets as tfds\n",
        "import matplotlib.pyplot as plt\n",
        "\n",
        "print('Tensorflow versiyon: ', tf.__version__)\n",
        "print('Tensorflow Datasets versiyon: ', tfds.__version__)"
      ],
      "metadata": {
        "colab": {
          "base_uri": "https://localhost:8080/"
        },
        "id": "RSrIYJ43yLPP",
        "outputId": "fdf5e03d-6d0b-4571-d0e5-29a7d9292542"
      },
      "execution_count": 2,
      "outputs": [
        {
          "output_type": "stream",
          "name": "stdout",
          "text": [
            "Tensorflow versiyon:  2.18.0\n",
            "Tensorflow Datasets versiyon:  4.9.7+nightly\n"
          ]
        }
      ]
    },
    {
      "cell_type": "markdown",
      "source": [
        "# Veri setini içe aktar\n",
        "Varsayılan penguenler/işlenmiş TensorFlow Veri Kümesi zaten temizlenmiş, normalleştirilmiş ve bir model oluşturmaya hazır."
      ],
      "metadata": {
        "id": "D5Yl7Joby4c6"
      }
    },
    {
      "cell_type": "markdown",
      "source": [
        "## Verileri Incelemesi\n",
        "Bu veri setinde 344 veri kaydı bulunmaktadır."
      ],
      "metadata": {
        "id": "K9SLzQuzzTEv"
      }
    },
    {
      "cell_type": "code",
      "source": [
        "ds_preview, info = tfds.load('penguins/simple', split='train', with_info=True)\n",
        "df = tfds.as_dataframe(ds_preview.take(5), info)\n",
        "print(df)\n",
        "print(info.features)"
      ],
      "metadata": {
        "colab": {
          "base_uri": "https://localhost:8080/"
        },
        "id": "dROIkgk6ytZn",
        "outputId": "63e89b48-f370-4c1b-87c3-1546389b9fa2"
      },
      "execution_count": 3,
      "outputs": [
        {
          "output_type": "stream",
          "name": "stdout",
          "text": [
            "   body_mass_g  culmen_depth_mm  culmen_length_mm  flipper_length_mm  island  \\\n",
            "0       4200.0             13.9         45.500000              210.0       0   \n",
            "1       4650.0             13.7         40.900002              214.0       0   \n",
            "2       5300.0             14.2         51.299999              218.0       0   \n",
            "3       5650.0             15.0         47.799999              215.0       0   \n",
            "4       5050.0             15.8         46.299999              215.0       0   \n",
            "\n",
            "   sex  species  \n",
            "0    0        2  \n",
            "1    0        2  \n",
            "2    1        2  \n",
            "3    1        2  \n",
            "4    1        2  \n",
            "FeaturesDict({\n",
            "    'body_mass_g': float32,\n",
            "    'culmen_depth_mm': float32,\n",
            "    'culmen_length_mm': float32,\n",
            "    'flipper_length_mm': float32,\n",
            "    'island': ClassLabel(shape=(), dtype=int64, num_classes=3),\n",
            "    'sex': ClassLabel(shape=(), dtype=int64, num_classes=3),\n",
            "    'species': ClassLabel(shape=(), dtype=int64, num_classes=3),\n",
            "})\n"
          ]
        }
      ]
    },
    {
      "cell_type": "markdown",
      "source": [
        "Numaralandırılmış satırlar, satır başına bir örnek olmak üzere veri kayıtlarıdır; burada:\n",
        "- İlk altı alan özelliklerdir: bunlar bir örneğin karakteristikleridir. Burada, alanlar penguen ölçümlerini temsil eden sayıları tutar.\n",
        "- Son sütun etikettir: bu tahmin etmek istediğiniz değerdir. Bu veri kümesi için, bir penguen türü adına karşılık gelen 0, 1 veya 2'lik bir tam sayı değeridir.\n",
        "\n",
        "Veri setinde, penguen türü etiketi, oluşturduğunuz modelde çalışmayı kolaylaştırmak için bir sayı olarak gösterilir. Bu sayılar aşağıdaki penguen türlerine karşılık gelir:\n",
        "- 0: Adélie penguin\n",
        "- 1: Chinstrap penguin\n",
        "- 2: Gentoo penguin"
      ],
      "metadata": {
        "id": "On4e1JbL0BtC"
      }
    },
    {
      "cell_type": "code",
      "source": [
        "# Bu sırayla penguen türü adlarını içeren bir liste oluşturun. Bu listeyi sınıflandırma modelinin çıktısını yorumlamak için kullanacaksınız:\n",
        "class_names = ['Adélie', 'Chinstrap', 'Gentoo']"
      ],
      "metadata": {
        "id": "eGvcj2pLzw0K"
      },
      "execution_count": 26,
      "outputs": []
    },
    {
      "cell_type": "markdown",
      "source": [
        "## Önceden işlenmiş veri setini indirin\n"
      ],
      "metadata": {
        "id": "dLG7t67CXfQH"
      }
    },
    {
      "cell_type": "code",
      "source": [
        "ds_split, info = tfds.load('penguins/processed', split = ['train[:20%]', 'train[20%:]'], as_supervised = True, with_info = True)\n",
        "ds_test = ds_split[0]\n",
        "ds_train = ds_split[1]\n",
        "assert isinstance(ds_test, tf.data.Dataset)\n",
        "\n",
        "print(info.features)\n",
        "df_test = tfds.as_dataframe(ds_test.take(5), info)\n",
        "print('Test dataset ornegi:')\n",
        "print(df_test)\n",
        "\n",
        "df_train = tfds.as_dataframe(ds_train.take(5), info)\n",
        "print('Train dataset ornegi:')\n",
        "print(df_train)\n",
        "\n",
        "ds_train_batch = ds_train.batch(32)"
      ],
      "metadata": {
        "colab": {
          "base_uri": "https://localhost:8080/"
        },
        "id": "bqyuAFsZ0jox",
        "outputId": "aa65a787-0fca-4731-add2-7ac562088e8b"
      },
      "execution_count": 6,
      "outputs": [
        {
          "output_type": "stream",
          "name": "stdout",
          "text": [
            "FeaturesDict({\n",
            "    'features': Tensor(shape=(4,), dtype=float32),\n",
            "    'species': ClassLabel(shape=(), dtype=int64, num_classes=3),\n",
            "})\n",
            "Test dataset ornegi:\n",
            "                                         features  species\n",
            "0  [0.6545454, 0.22619048, 0.89830506, 0.6388889]        2\n",
            "1        [0.36, 0.04761905, 0.6440678, 0.4027778]        2\n",
            "2       [0.68, 0.30952382, 0.91525424, 0.6944444]        2\n",
            "3   [0.6181818, 0.20238096, 0.8135593, 0.6805556]        2\n",
            "4  [0.5527273, 0.26190478, 0.84745765, 0.7083333]        2\n",
            "Train dataset ornegi:\n",
            "                                         features  species\n",
            "0  [0.49818182, 0.6904762, 0.42372882, 0.4027778]        0\n",
            "1      [0.48, 0.071428575, 0.6440678, 0.44444445]        2\n",
            "2    [0.7236364, 0.9047619, 0.6440678, 0.5833333]        1\n",
            "3  [0.34545454, 0.5833333, 0.33898306, 0.3472222]        0\n",
            "4       [0.10909091, 0.75, 0.3559322, 0.41666666]        0\n"
          ]
        }
      ]
    },
    {
      "cell_type": "code",
      "source": [
        "features, labels = next(iter(ds_train_batch))\n",
        "\n",
        "print(features)\n",
        "print(labels)"
      ],
      "metadata": {
        "colab": {
          "base_uri": "https://localhost:8080/"
        },
        "id": "vXzL8-EbY5nU",
        "outputId": "17f3b36c-f8c6-4fd8-af1d-6633681e9f5b"
      },
      "execution_count": 7,
      "outputs": [
        {
          "output_type": "stream",
          "name": "stdout",
          "text": [
            "tf.Tensor(\n",
            "[[0.49818182 0.6904762  0.42372882 0.4027778 ]\n",
            " [0.48       0.07142857 0.6440678  0.44444445]\n",
            " [0.7236364  0.9047619  0.6440678  0.5833333 ]\n",
            " [0.34545454 0.5833333  0.33898306 0.3472222 ]\n",
            " [0.10909091 0.75       0.3559322  0.41666666]\n",
            " [0.6690909  0.63095236 0.47457626 0.19444445]\n",
            " [0.8036364  0.9166667  0.4915254  0.44444445]\n",
            " [0.4909091  0.75       0.37288135 0.22916667]\n",
            " [0.33454546 0.85714287 0.37288135 0.2361111 ]\n",
            " [0.32       0.41666666 0.2542373  0.1388889 ]\n",
            " [0.41454545 0.5952381  0.5084746  0.19444445]\n",
            " [0.14909092 0.48809522 0.2542373  0.125     ]\n",
            " [0.23636363 0.4642857  0.27118644 0.05555556]\n",
            " [0.22181818 0.5952381  0.22033899 0.3472222 ]\n",
            " [0.24727273 0.5595238  0.15254237 0.25694445]\n",
            " [0.63272727 0.35714287 0.88135594 0.8194444 ]\n",
            " [0.47272727 0.15476191 0.6440678  0.4722222 ]\n",
            " [0.6036364  0.23809524 0.84745765 0.7361111 ]\n",
            " [0.26909092 0.5595238  0.27118644 0.16666667]\n",
            " [0.28       0.71428573 0.20338982 0.5416667 ]\n",
            " [0.10545454 0.5714286  0.33898306 0.2847222 ]\n",
            " [0.18545455 0.5952381  0.10169491 0.33333334]\n",
            " [0.47272727 0.16666667 0.7288136  0.6388889 ]\n",
            " [0.45090908 0.1904762  0.7118644  0.5972222 ]\n",
            " [0.49454546 0.5        0.3559322  0.25      ]\n",
            " [0.6363636  0.22619048 0.7457627  0.5694444 ]\n",
            " [0.08727273 0.5952381  0.2542373  0.05555556]\n",
            " [0.52       0.22619048 0.7457627  0.5555556 ]\n",
            " [0.5090909  0.23809524 0.7288136  0.6666667 ]\n",
            " [0.56       0.22619048 0.779661   0.625     ]\n",
            " [0.6363636  0.3452381  0.89830506 0.8333333 ]\n",
            " [0.15636364 0.47619048 0.20338982 0.04166667]], shape=(32, 4), dtype=float32)\n",
            "tf.Tensor([0 2 1 0 0 1 1 1 0 1 1 0 0 0 0 2 2 2 0 0 0 0 2 2 1 2 0 2 2 2 2 0], shape=(32,), dtype=int64)\n"
          ]
        }
      ]
    },
    {
      "cell_type": "code",
      "source": [
        "plt.scatter(features[:,0],\n",
        "            features[:,2],\n",
        "            c = labels,\n",
        "            cmap = 'viridis')\n",
        "\n",
        "plt.xlabel('Body Mass')\n",
        "plt.ylabel('Culmen Lenght')\n",
        "plt.show()"
      ],
      "metadata": {
        "colab": {
          "base_uri": "https://localhost:8080/",
          "height": 449
        },
        "id": "m1gCrSzpcGdQ",
        "outputId": "f92da55c-5fd3-4ede-8847-798ce14dd24d"
      },
      "execution_count": 8,
      "outputs": [
        {
          "output_type": "display_data",
          "data": {
            "text/plain": [
              "<Figure size 640x480 with 1 Axes>"
            ],
            "image/png": "[encoded data removed]"
          },
          "metadata": {}
        }
      ]
    },
    {
      "cell_type": "markdown",
      "source": [
        "# Build a simple linear model\n",
        "\n",
        "**Neden Model?**<br>\n",
        "Model, özellikler ile etiket arasındaki ilişkidir. Penguen sınıflandırma problemi için model, vücut kütlesi, yüzgeç ve culmen ölçümleri ile tahmin edilen penguen türü arasındaki ilişkiyi tanımlamaktadır. Bu veri seti, bize verilen türlerin verilerini içermektedir. Model, türlerin verilerinden yola çıkarak penguen türlerini tahmin etmeye çalışır.\n",
        "\n",
        "Bazı basit modeller birkaç satır cebirle açıklanabilir, ancak karmaşık makine öğrenimi modelleri özetlenmesi zor olan çok sayıda parametreye sahiptir.\n",
        "\n",
        "Makine öğrenimini kullanmadan, dört özellik ile penguen türü arasındaki ilişkiyi belirleyebilir misiniz? Yani, bir model oluşturmak için geleneksel programlama tekniklerini (örneğin, çok sayıda koşullu ifade) kullanabilir misiniz? Belki de veri setini belirli bir türe ait vücut kütlesi ile culmen ölçümleri arasındaki ilişkileri belirleyecek kadar uzun süre analiz ederseniz... Ancak, bu durum daha karmaşık veri kümelerinde zorlaşır, hatta imkansız hale gelir.\n",
        "\n",
        "İmkansız hale gelme sebebi şudur: Bu veri setinde, bir penguenin 4 özellik verisi bulunmaktadır ve bunu analiz edebilirsiniz. Ancak, elinizde 12 sınıflı ve her sınıfın 20 özellik verisini içeren bir veri seti olduğunda, bu 12 sınıfın tahminini yapmak yıllarınızı alabilir.\n",
        "\n",
        "İyi bir makine öğrenimi yaklaşımı sizin için modeli belirler. Doğru makine öğrenimi model türüne yeterli sayıda temsili örnek sağlarsanız, program sizin için ilişkileri belirler.\n",
        "\n",
        "**Modeli seçin**<br>\n",
        "Daha sonra eğiteceğiniz model türünü seçmeniz gerekiyor. Modellerin birçok çeşidi var ve iyi bir model seçmek deneyim gerektiriyor. Bu eğitimde penguen sınıflandırma problemini çözmek için bir sinir ağı kullanılıyor. Yapay sinir ağları, özellikler ile etiket arasındaki karmaşık ilişkileri bulabilir. Bir veya daha fazla gizli katmana ayrılmış, oldukça yapılandırılmış bir grafiktir. Her gizli katman bir veya daha fazla nörondan oluşur. Sinir ağlarının birkaç kategorisi vardır ve bu program yoğun veya tam bağlantılı bir sinir ağı kullanır: bir katmandaki nöronlar, önceki katmandaki her nörondan giriş bağlantıları alır. Örneğin, Şekil 2, bir giriş katmanından, iki gizli katmandan ve bir çıktı katmanından oluşan yoğun bir sinir ağını göstermektedir:\n",
        "![](https://www.tensorflow.org/tutorials/customization/images/full_network_penguin.png)\n",
        "\n",
        "Şekil 2'deki modeli eğittiğinizde ve ona etiketsiz bir örnek verdiğinizde, üç tahmin elde edersiniz: bu penguenin verilen penguen türü olma olasılığı. Bu öngörüye çıkarım denir. Bu örnek için çıktı tahminlerinin toplamı 1,0'dır. Şekil 2'de bu tahmin şu şekilde dağılır: Adelie için 0,02, Chinstrap için 0,95 ve Gentoo türleri için 0,03. Bu, modelin etiketlenmemiş bir örnek penguenin Chinstrap pengueni olduğunu %95 olasılıkla tahmin ettiği anlamına gelir."
      ],
      "metadata": {
        "id": "Tdiz-dI_ciP3"
      }
    },
    {
      "cell_type": "markdown",
      "source": [
        "## Keras kullanarak bir model oluşturun\n",
        "tf.keras.Sequential modeli katmanların doğrusal bir yığınıdır. Oluşturucusu, katman örneklerinin bir listesini alır, bu durumda, her biri 10 düğümlü iki tf.keras.layers.Dense katmanı ve etiket tahminlerinizi temsil eden 3 düğümlü bir çıktı katmanı."
      ],
      "metadata": {
        "id": "oQHWNYACfhZ0"
      }
    },
    {
      "cell_type": "code",
      "source": [
        "model = tf.keras.Sequential([\n",
        "    tf.keras.layers.Dense(10, activation = tf.nn.relu, input_shape = (4,)),\n",
        "    tf.keras.layers.Dense(10, activation = tf.nn.relu),\n",
        "    tf.keras.layers.Dense(3)\n",
        "])"
      ],
      "metadata": {
        "colab": {
          "base_uri": "https://localhost:8080/"
        },
        "id": "aQNap8qecdCa",
        "outputId": "ce7e8adf-ff8e-423f-bbc0-b4fac61c567f"
      },
      "execution_count": 9,
      "outputs": [
        {
          "output_type": "stream",
          "name": "stderr",
          "text": [
            "/usr/local/lib/python3.11/dist-packages/keras/src/layers/core/dense.py:87: UserWarning: Do not pass an `input_shape`/`input_dim` argument to a layer. When using Sequential models, prefer using an `Input(shape)` object as the first layer in the model instead.\n",
            "  super().__init__(activity_regularizer=activity_regularizer, **kwargs)\n"
          ]
        }
      ]
    },
    {
      "cell_type": "code",
      "source": [
        "model.summary()"
      ],
      "metadata": {
        "colab": {
          "base_uri": "https://localhost:8080/",
          "height": 238
        },
        "id": "62cUCQWwgbgC",
        "outputId": "7341583a-b6b7-4929-e5b9-3b75753e3a90"
      },
      "execution_count": 10,
      "outputs": [
        {
          "output_type": "display_data",
          "data": {
            "text/plain": [
              "\u001b[1mModel: \"sequential\"\u001b[0m\n"
            ],
            "text/html": [
              "<pre style=\"white-space:pre;overflow-x:auto;line-height:normal;font-family:Menlo,'DejaVu Sans Mono',consolas,'Courier New',monospace\"><span style=\"font-weight: bold\">Model: \"sequential\"</span>\n",
              "</pre>\n"
            ]
          },
          "metadata": {}
        },
        {
          "output_type": "display_data",
          "data": {
            "text/plain": [
              "┏━━━━━━━━━━━━━━━━━━━━━━━━━━━━━━━━━━━━━━┳━━━━━━━━━━━━━━━━━━━━━━━━━━━━━┳━━━━━━━━━━━━━━━━━┓\n",
              "┃\u001b[1m \u001b[0m\u001b[1mLayer (type)                        \u001b[0m\u001b[1m \u001b[0m┃\u001b[1m \u001b[0m\u001b[1mOutput Shape               \u001b[0m\u001b[1m \u001b[0m┃\u001b[1m \u001b[0m\u001b[1m        Param #\u001b[0m\u001b[1m \u001b[0m┃\n",
              "┡━━━━━━━━━━━━━━━━━━━━━━━━━━━━━━━━━━━━━━╇━━━━━━━━━━━━━━━━━━━━━━━━━━━━━╇━━━━━━━━━━━━━━━━━┩\n",
              "│ dense (\u001b[38;5;33mDense\u001b[0m)                        │ (\u001b[38;5;45mNone\u001b[0m, \u001b[38;5;34m10\u001b[0m)                  │              \u001b[38;5;34m50\u001b[0m │\n",
              "├──────────────────────────────────────┼─────────────────────────────┼─────────────────┤\n",
              "│ dense_1 (\u001b[38;5;33mDense\u001b[0m)                      │ (\u001b[38;5;45mNone\u001b[0m, \u001b[38;5;34m10\u001b[0m)                  │             \u001b[38;5;34m110\u001b[0m │\n",
              "├──────────────────────────────────────┼─────────────────────────────┼─────────────────┤\n",
              "│ dense_2 (\u001b[38;5;33mDense\u001b[0m)                      │ (\u001b[38;5;45mNone\u001b[0m, \u001b[38;5;34m3\u001b[0m)                   │              \u001b[38;5;34m33\u001b[0m │\n",
              "└──────────────────────────────────────┴─────────────────────────────┴─────────────────┘\n"
            ],
            "text/html": [
              "<pre style=\"white-space:pre;overflow-x:auto;line-height:normal;font-family:Menlo,'DejaVu Sans Mono',consolas,'Courier New',monospace\">┏━━━━━━━━━━━━━━━━━━━━━━━━━━━━━━━━━━━━━━┳━━━━━━━━━━━━━━━━━━━━━━━━━━━━━┳━━━━━━━━━━━━━━━━━┓\n",
              "┃<span style=\"font-weight: bold\"> Layer (type)                         </span>┃<span style=\"font-weight: bold\"> Output Shape                </span>┃<span style=\"font-weight: bold\">         Param # </span>┃\n",
              "┡━━━━━━━━━━━━━━━━━━━━━━━━━━━━━━━━━━━━━━╇━━━━━━━━━━━━━━━━━━━━━━━━━━━━━╇━━━━━━━━━━━━━━━━━┩\n",
              "│ dense (<span style=\"color: #0087ff; text-decoration-color: #0087ff\">Dense</span>)                        │ (<span style=\"color: #00d7ff; text-decoration-color: #00d7ff\">None</span>, <span style=\"color: #00af00; text-decoration-color: #00af00\">10</span>)                  │              <span style=\"color: #00af00; text-decoration-color: #00af00\">50</span> │\n",
              "├──────────────────────────────────────┼─────────────────────────────┼─────────────────┤\n",
              "│ dense_1 (<span style=\"color: #0087ff; text-decoration-color: #0087ff\">Dense</span>)                      │ (<span style=\"color: #00d7ff; text-decoration-color: #00d7ff\">None</span>, <span style=\"color: #00af00; text-decoration-color: #00af00\">10</span>)                  │             <span style=\"color: #00af00; text-decoration-color: #00af00\">110</span> │\n",
              "├──────────────────────────────────────┼─────────────────────────────┼─────────────────┤\n",
              "│ dense_2 (<span style=\"color: #0087ff; text-decoration-color: #0087ff\">Dense</span>)                      │ (<span style=\"color: #00d7ff; text-decoration-color: #00d7ff\">None</span>, <span style=\"color: #00af00; text-decoration-color: #00af00\">3</span>)                   │              <span style=\"color: #00af00; text-decoration-color: #00af00\">33</span> │\n",
              "└──────────────────────────────────────┴─────────────────────────────┴─────────────────┘\n",
              "</pre>\n"
            ]
          },
          "metadata": {}
        },
        {
          "output_type": "display_data",
          "data": {
            "text/plain": [
              "\u001b[1m Total params: \u001b[0m\u001b[38;5;34m193\u001b[0m (772.00 B)\n"
            ],
            "text/html": [
              "<pre style=\"white-space:pre;overflow-x:auto;line-height:normal;font-family:Menlo,'DejaVu Sans Mono',consolas,'Courier New',monospace\"><span style=\"font-weight: bold\"> Total params: </span><span style=\"color: #00af00; text-decoration-color: #00af00\">193</span> (772.00 B)\n",
              "</pre>\n"
            ]
          },
          "metadata": {}
        },
        {
          "output_type": "display_data",
          "data": {
            "text/plain": [
              "\u001b[1m Trainable params: \u001b[0m\u001b[38;5;34m193\u001b[0m (772.00 B)\n"
            ],
            "text/html": [
              "<pre style=\"white-space:pre;overflow-x:auto;line-height:normal;font-family:Menlo,'DejaVu Sans Mono',consolas,'Courier New',monospace\"><span style=\"font-weight: bold\"> Trainable params: </span><span style=\"color: #00af00; text-decoration-color: #00af00\">193</span> (772.00 B)\n",
              "</pre>\n"
            ]
          },
          "metadata": {}
        },
        {
          "output_type": "display_data",
          "data": {
            "text/plain": [
              "\u001b[1m Non-trainable params: \u001b[0m\u001b[38;5;34m0\u001b[0m (0.00 B)\n"
            ],
            "text/html": [
              "<pre style=\"white-space:pre;overflow-x:auto;line-height:normal;font-family:Menlo,'DejaVu Sans Mono',consolas,'Courier New',monospace\"><span style=\"font-weight: bold\"> Non-trainable params: </span><span style=\"color: #00af00; text-decoration-color: #00af00\">0</span> (0.00 B)\n",
              "</pre>\n"
            ]
          },
          "metadata": {}
        }
      ]
    },
    {
      "cell_type": "markdown",
      "source": [
        "Aktivasyon fonksiyonu, katmandaki her bir düğümün çıktı şeklini belirler. Bu doğrusal olmayanlıklar önemlidir—onlar olmadan model tek bir katmana eşdeğer olurdu. Birçok tf.keras.activation vardır, ancak ReLU gizli katmanlar için yaygındır.\n",
        "\n",
        "Gizli katman ve nöronların ideal sayısı, probleme ve veri setine göre değişmektedir. Makine öğrenmesinin pek çok alanında olduğu gibi, sinir ağının en iyi şeklini seçmek de bilgi ve deneyimin bir karışımını gerektirir. Kural olarak, gizli katman ve nöron sayısını artırmak genellikle daha güçlü bir model yaratır ve bu da etkili bir şekilde eğitmek için daha fazla veri gerektirir.\n",
        "\n",
        "İşte yaygın olarak kullanılan bazı aktivasyon fonksiyonları ve kullanım alanları:\n",
        "\n",
        "1. Sigmoid:<br>\n",
        "- Formül: f(x) = 1 / (1 + exp(-x))\n",
        "- Çıktı Aralığı: 0 ile 1 arasında\n",
        "- Kullanım Alanları: İkili sınıflandırma problemleri (örneğin, bir görüntünün kedi mi köpek mi olduğunu tahmin etmek).\n",
        "\n",
        "2. ReLU (Rectified Linear Unit):<br>\n",
        "- Formül: f(x) = max(0, x)\n",
        "- Çıktı Aralığı: 0 veya pozitif bir sayı\n",
        "- Kullanım Alanları: Görüntü sınıflandırma, nesne tanıma gibi birçok derin öğrenme modelinde yaygın olarak kullanılır. Hızlı ve etkili olması nedeniyle tercih edilir.\n",
        "\n",
        "3. Tanh (Hiperbolik Tanjant):<br>\n",
        "- Formül: f(x) = (exp(x) - exp(-x)) / (exp(x) + exp(-x))\n",
        "- Çıktı Aralığı: -1 ile 1 arasında\n",
        "- Kullanım Alanları: Sigmoid'e benzer ancak çıktısı 0 merkezli olduğu için bazı durumlarda daha iyi performans gösterebilir.\n",
        "\n",
        "4. Softmax:<br>\n",
        "- Formül: f(x_i) = exp(x_i) / sum(exp(x_j)) (j, tüm çıktı nöronları üzerinde)\n",
        "- Çıktı Aralığı: 0 ile 1 arasında, tüm çıktıların toplamı 1'dir.\n",
        "- Kullanım Alanları: Çok sınıflı sınıflandırma problemleri (örneğin, bir görüntünün 10 farklı nesneden hangisine ait olduğunu tahmin etmek). Çıktıları olasılık dağılımı olarak yorumlanabilir.\n",
        "\n",
        "En Çok Kullanılan Problemler:\n",
        "\n",
        "- Görüntü Sınıflandırma: ReLU ve Softmax, görüntü sınıflandırma modellerinde yaygın olarak kullanılır.\n",
        "- Doğal Dil İşleme: ReLU, LSTM ve GRU gibi modellerde metin sınıflandırma ve duygu analizi gibi görevlerde sıklıkla kullanılır.\n",
        "- Zaman Serisi Analizi: ReLU ve Tanh, RNN (Recurrent Neural Networks) gibi modellerde zaman serisi verilerini modellemek için kullanılabilir."
      ],
      "metadata": {
        "id": "SiWFiKovgiZE"
      }
    },
    {
      "cell_type": "markdown",
      "source": [
        "## Modeli kullanın"
      ],
      "metadata": {
        "id": "nAEby9ZLhkdx"
      }
    },
    {
      "cell_type": "code",
      "source": [
        "predictions = model(features)\n",
        "predictions[:5]"
      ],
      "metadata": {
        "colab": {
          "base_uri": "https://localhost:8080/"
        },
        "id": "uOQN8hJHgdSp",
        "outputId": "ed3da915-d86c-4b2f-8056-f396fcb9cef4"
      },
      "execution_count": 12,
      "outputs": [
        {
          "output_type": "execute_result",
          "data": {
            "text/plain": [
              "<tf.Tensor: shape=(5, 3), dtype=float32, numpy=\n",
              "array([[ 0.05191081,  0.338294  , -0.06818731],\n",
              "       [-0.17694724,  0.27679968,  0.14494629],\n",
              "       [ 0.01687569,  0.49541953, -0.06067002],\n",
              "       [ 0.07066753,  0.2572914 , -0.07240791],\n",
              "       [ 0.17858297,  0.2083439 , -0.16325444]], dtype=float32)>"
            ]
          },
          "metadata": {},
          "execution_count": 12
        }
      ]
    },
    {
      "cell_type": "code",
      "source": [
        "tf.nn.softmax(predictions[:5])"
      ],
      "metadata": {
        "colab": {
          "base_uri": "https://localhost:8080/"
        },
        "id": "6bJ0LpTchsyZ",
        "outputId": "4da81327-5fe1-46da-9401-d130e8feeb48"
      },
      "execution_count": 13,
      "outputs": [
        {
          "output_type": "execute_result",
          "data": {
            "text/plain": [
              "<tf.Tensor: shape=(5, 3), dtype=float32, numpy=\n",
              "array([[0.3107099 , 0.4137421 , 0.27554792],\n",
              "       [0.25291243, 0.39813465, 0.34895286],\n",
              "       [0.2825571 , 0.4559689 , 0.26147407],\n",
              "       [0.3255354 , 0.39232674, 0.28213784],\n",
              "       [0.364874  , 0.37589622, 0.25922975]], dtype=float32)>"
            ]
          },
          "metadata": {},
          "execution_count": 13
        }
      ]
    },
    {
      "cell_type": "code",
      "source": [
        "# tf.math.argmax'ı sınıflar arasında almak bize tahmin edilen sınıf indeksini verir. Ancak, model henüz eğitilmedi, bu yüzden bunlar iyi tahminler değil:\n",
        "print(\"Prediction: {}\".format(tf.math.argmax(predictions, axis=1)))\n",
        "print(\"    Labels: {}\".format(labels))"
      ],
      "metadata": {
        "colab": {
          "base_uri": "https://localhost:8080/"
        },
        "id": "TGYyvmC0h5bZ",
        "outputId": "749e88c3-0930-4b1b-a0de-ecd4dce9ec6c"
      },
      "execution_count": 14,
      "outputs": [
        {
          "output_type": "stream",
          "name": "stdout",
          "text": [
            "Prediction: [1 1 1 1 1 1 1 1 1 1 1 1 1 0 0 1 1 1 1 0 1 0 1 1 1 1 1 1 1 1 1 1]\n",
            "    Labels: [0 2 1 0 0 1 1 1 0 1 1 0 0 0 0 2 2 2 0 0 0 0 2 2 1 2 0 2 2 2 2 0]\n"
          ]
        }
      ]
    },
    {
      "cell_type": "markdown",
      "source": [
        "# Modeli eğit\n",
        "Eğitim, makine öğrenmesinin modelin kademeli olarak optimize edildiği veya modelin veri setini öğrendiği aşamasıdır. Amaç, görülmemiş veriler hakkında tahminlerde bulunabilmek için eğitim veri kümesinin yapısı hakkında yeterli bilgi edinmektir. Eğitim veri kümesi hakkında çok fazla şey öğrenirseniz, tahminler yalnızca gördüğü veriler için işe yarar ve genelleştirilebilir olmaz. Bu soruna aşırı uyum adı veriliyor; bu, bir problemi nasıl çözeceğinizi anlamak yerine cevapları ezberlemeye benziyor.\n",
        "\n",
        "Penguen sınıflandırma problemi, denetlenen makine öğrenmesinin bir örneğidir: model, etiketler içeren örneklerden eğitilir. Gözetimsiz makine öğrenmesinde, örnekler etiket içermez. Bunun yerine, model genellikle özellikler arasında kalıplar bulur."
      ],
      "metadata": {
        "id": "ldwt99pTlJko"
      }
    },
    {
      "cell_type": "markdown",
      "source": [
        "## Kayıp ve gradyan fonksiyonunu tanımlayın\n",
        "Hem eğitim hem de değerlendirme aşamalarında modelin kaybının hesaplanması gerekmektedir. Bu, bir modelin tahminlerinin istenilen etiketten ne kadar uzak olduğunu, başka bir deyişle modelin ne kadar kötü performans gösterdiğini ölçer. Bu değeri en aza indirmek veya optimize etmek istersiniz.\n",
        "\n",
        "Modeliniz, modelin sınıf olasılık tahminlerini ve istenen etiketi alan ve örneklerdeki ortalama kaybı döndüren **tf.keras.losses.SparseCategoricalCrossentropy** fonksiyonunu kullanarak kaybını hesaplayacaktır."
      ],
      "metadata": {
        "id": "p2y_8KFrl67K"
      }
    },
    {
      "cell_type": "code",
      "source": [
        "loss_object = tf.keras.losses.SparseCategoricalCrossentropy(from_logits = True)"
      ],
      "metadata": {
        "id": "Z8OPnFqGiCOT"
      },
      "execution_count": 15,
      "outputs": []
    },
    {
      "cell_type": "code",
      "source": [
        "def loss(model, x, y, training):\n",
        "  y_ = model(x, training = training)\n",
        "\n",
        "  return loss_object(y_true = y, y_pred = y_)\n",
        "\n",
        "l = loss(model, features, labels, training = False)\n",
        "print('Loss test: {}'.format(l))"
      ],
      "metadata": {
        "colab": {
          "base_uri": "https://localhost:8080/"
        },
        "id": "PYwN63uFmdwh",
        "outputId": "41107c9b-dbe9-4460-fbf2-a82006704d3b"
      },
      "execution_count": 16,
      "outputs": [
        {
          "output_type": "stream",
          "name": "stdout",
          "text": [
            "Loss test: 1.0294451713562012\n"
          ]
        }
      ]
    },
    {
      "cell_type": "code",
      "source": [
        "# Modelinizi optimize etmek için kullanılan gradyanları hesaplamak için tf.GradientTape bağlamını kullanın:\n",
        "def grad(model, inputs, targets):\n",
        "  with tf.GradientTape() as tape:\n",
        "    loss_value = loss(model, inputs, targets, training = True)\n",
        "  return loss_value, tape.gradient(loss_value, model.trainable_variables)"
      ],
      "metadata": {
        "id": "cki4jiMFnCYc"
      },
      "execution_count": 17,
      "outputs": []
    },
    {
      "cell_type": "markdown",
      "source": [
        "## Bir optimize edici oluşturun\n",
        "Bir optimize edici, kayıp fonksiyonunu en aza indirmek için hesaplanan gradyanları modelin parametrelerine uygular. Kayıp fonksiyonunu eğimli bir yüzey olarak düşünebilirsiniz (Şekil 3'e bakın) ve etrafında dolaşarak en düşük noktasını bulmak istersiniz. Eğimler en dik tırmanış yönünü işaret ediyor, bu yüzden ters yönde ilerleyecek ve yokuş aşağı doğru hareket edeceksiniz. Her parti için kaybı ve eğimi yinelemeli olarak hesaplayarak, eğitim sırasında modeli ayarlayacaksınız. Model, kaybı en aza indirmek için kademeli olarak en iyi ağırlık ve önyargı kombinasyonunu bulacaktır. Kayıp ne kadar düşükse modelin öngörüleri de o kadar iyi demektir.\n",
        "\n",
        "![](https://cs231n.github.io/assets/nn3/opt1.gif)\n",
        "\n",
        "TensorFlow'un eğitim için pek çok optimizasyon algoritması mevcuttur. Bu eğitimde, stokastik gradyan inişi (SGD) algoritmasını uygulayan tf.keras.optimizers.SGD'yi kullanacaksınız. learning_rate parametresi, yokuş aşağı her yineleme için atılacak adım boyutunu ayarlar. Bu oran, daha iyi sonuçlar elde etmek için genellikle ayarlayacağınız bir hiperparametredir.\n",
        "\n",
        "\n"
      ],
      "metadata": {
        "id": "Z7Zt7561nk-H"
      }
    },
    {
      "cell_type": "code",
      "source": [
        "optimizer = tf.keras.optimizers.SGD(learning_rate = 0.01) # Siz isterseniz learning rate farkli degerler deneyip sonucu degerlendirebilirsiniz!"
      ],
      "metadata": {
        "id": "TSDsV_vjndwr"
      },
      "execution_count": 18,
      "outputs": []
    },
    {
      "cell_type": "code",
      "source": [
        "loss_value, grads = grad(model, features, labels)\n",
        "print('Adim: {}, Ilk kayip(loss): '.format(optimizer.iterations.numpy()), loss_value.numpy())\n",
        "\n",
        "optimizer.apply_gradients(zip(grads, model.trainable_variables))\n",
        "print('Adim: {}, Loss: {}'.format(optimizer.iterations.numpy(), loss(model, features, labels, training = True).numpy()))"
      ],
      "metadata": {
        "colab": {
          "base_uri": "https://localhost:8080/"
        },
        "id": "mK-z49PZr08A",
        "outputId": "f4070052-eabf-4fa0-c65e-3b78a7c1a3a9"
      },
      "execution_count": 19,
      "outputs": [
        {
          "output_type": "stream",
          "name": "stdout",
          "text": [
            "Adim: 0, Ilk kayip(loss):  1.0294452\n",
            "Adim: 1, Loss: 1.0240620374679565\n"
          ]
        }
      ]
    },
    {
      "cell_type": "markdown",
      "source": [
        "# Eğitim döngüsü\n",
        "\n",
        "Tüm parçalar yerli yerinde olduğunda, model eğitime hazır! Bir eğitim döngüsü, daha iyi tahminler yapmasına yardımcı olmak için veri kümesi örneklerini modele besler. Aşağıdaki kod bloğu bu eğitim adımlarını kurar:\n",
        "1. Her dönemi yineleyin. Bir dönem, veri kümesinde bir geçiştir. 32'lik boldugumuz verileri teker teker her adimda modele verecegiz!\n",
        "2. Bir dönem içerisinde, eğitim Veri Setindeki her bir örnek üzerinde yineleme yaparak özelliklerini (x) ve etiketini (y) alın. 32'lik parcadan yeni veriler cekin!\n",
        "3. Örneğin özelliklerini kullanarak bir tahmin yapın ve bunu etiketle karşılaştırın. Tahminin yanlışlığını ölçün ve bunu modelin kaybını ve eğimlerini hesaplamak için kullanın. Loss degerini olcecegiz!\n",
        "4. Modelin parametrelerini güncellemek için bir (optimizer)optimize edici kullanın. Model parametlerini degistirerek yeniden bir egitim adimina gececegiz amacimiz loss degerini minimuma indirmek\n",
        "5. Görselleştirme için bazı istatistikleri takip edin.(Accuracy, Loss)\n",
        "6. Her dönem için tekrarlayın. Taki Loss degeri en dusuk seviyeye gerileyene kadar.\n",
        "\n",
        "num_epochs değişkeni, veri kümesi koleksiyonu üzerinde döngü oluşturulacak zaman sayısıdır. Aşağıdaki kodda num_epochs değeri 201 olarak ayarlanmıştır, bu da bu eğitim döngüsünün 201 kez çalışacağı anlamına gelir. Sezgiye aykırı olarak, bir modeli daha uzun süre eğitmek daha iyi bir modelin garantisini vermez. num_epochs, ayarlayabileceğiniz bir hiperparametredir. Doğru sayıyı seçmek genellikle hem deneyim hem de deneme gerektirir:"
      ],
      "metadata": {
        "id": "UjaquLJysyHe"
      }
    },
    {
      "cell_type": "code",
      "source": [
        "train_loss_results = []\n",
        "train_accuracy_results = []\n",
        "\n",
        "num_epochs = 201\n",
        "\n",
        "for epoch in range(num_epochs):\n",
        "  epoch_loss_avg = tf.keras.metrics.Mean()\n",
        "  epoch_accuracy = tf.keras.metrics.SparseCategoricalAccuracy()\n",
        "\n",
        "  for x, y in ds_train_batch:\n",
        "    loss_value, grads = grad(model, x, y)\n",
        "    optimizer.apply_gradients(zip(grads, model.trainable_variables))\n",
        "\n",
        "    epoch_loss_avg.update_state(loss_value)\n",
        "    epoch_accuracy.update_state(y, model(x, training = True))\n",
        "\n",
        "  train_loss_results.append(epoch_loss_avg.result())\n",
        "  train_accuracy_results.append(epoch_accuracy.result())\n",
        "\n",
        "  if epoch % 50 == 0:\n",
        "    print('Epoch {:03d}: Loss {:.3f}, Accuracy: {:.3%}'.format(epoch,\n",
        "                                                               epoch_loss_avg.result(),\n",
        "                                                               epoch_accuracy.result()))"
      ],
      "metadata": {
        "colab": {
          "base_uri": "https://localhost:8080/"
        },
        "id": "8pPE4BXtst0Z",
        "outputId": "adddf529-cb06-42f1-ab27-79b3c32548ad"
      },
      "execution_count": 20,
      "outputs": [
        {
          "output_type": "stream",
          "name": "stdout",
          "text": [
            "Epoch 000: Loss 1.023, Accuracy: 43.820%\n",
            "Epoch 050: Loss 0.418, Accuracy: 86.517%\n",
            "Epoch 100: Loss 0.231, Accuracy: 96.629%\n",
            "Epoch 150: Loss 0.153, Accuracy: 96.629%\n",
            "Epoch 200: Loss 0.115, Accuracy: 97.004%\n"
          ]
        }
      ]
    },
    {
      "cell_type": "markdown",
      "source": [
        "Alternatif olarak, modelinizi eğitmek için yerleşik Keras Model.fit(ds_train_batch) metodunu kullanabilirsiniz."
      ],
      "metadata": {
        "id": "5m5cwvz5yDRV"
      }
    },
    {
      "cell_type": "markdown",
      "source": [
        "## Kayıp fonksiyonunu zaman içinde görselleştirin\n"
      ],
      "metadata": {
        "id": "QGGwVxhhyGaF"
      }
    },
    {
      "cell_type": "code",
      "source": [
        "fig, axes = plt.subplots(2, sharex = True, figsize = (12, 8))\n",
        "fig.suptitle('Egitim Metrikleri')\n",
        "\n",
        "axes[0].set_ylabel('Loss', fontsize = 14)\n",
        "axes[0].plot(train_loss_results)\n",
        "\n",
        "axes[1].set_ylabel('Accuracy', fontsize = 14)\n",
        "axes[1].set_xlabel('Epoch', fontsize = 14)\n",
        "axes[1].plot(train_accuracy_results)\n",
        "\n",
        "plt.show()"
      ],
      "metadata": {
        "colab": {
          "base_uri": "https://localhost:8080/",
          "height": 781
        },
        "id": "cyaJzpTexw1h",
        "outputId": "8a07627f-5743-410d-fdee-a1d6d54bd6eb"
      },
      "execution_count": 21,
      "outputs": [
        {
          "output_type": "display_data",
          "data": {
            "text/plain": [
              "<Figure size 1200x800 with 2 Axes>"
            ],
            "image/png": "[encoded data removed]"
          },
          "metadata": {}
        }
      ]
    },
    {
      "cell_type": "markdown",
      "source": [
        "# Modelin etkinliğini değerlendirin\n",
        "Artık model eğitildiğine göre, performansı hakkında bazı istatistiklere ulaşabilirsiniz.\n",
        "\n",
        "Değerlendirme, modelin tahminleri ne kadar etkili bir şekilde gerçekleştirdiğini belirlemek anlamına gelir. Modelin penguen sınıflandırmasındaki etkinliğini belirlemek için, modele bazı ölçümler aktarın ve modelden bunların hangi penguen türünü temsil ettiğini tahmin etmesini isteyin. Daha sonra modelin tahminlerini gerçek etiketle karşılaştırın."
      ],
      "metadata": {
        "id": "c2vllSyizEe5"
      }
    },
    {
      "cell_type": "markdown",
      "source": [
        "## Test setini kurun\n",
        "Modelin değerlendirilmesi, modelin eğitilmesine benzer. En büyük fark, örneklerin eğitim setinden ziyade ayrı bir test setinden gelmesidir. Bir modelin etkinliğini adil bir şekilde değerlendirmek için, modeli değerlendirmek için kullanılan örneklerin, modeli eğitmek için kullanılan örneklerden farklı olması gerekir. Daha oncesinde verileri egitim ve test diye bolmustuk. Boldugumuz test veri setini burada kullanacagiz!"
      ],
      "metadata": {
        "id": "xqPXd1i0znOW"
      }
    },
    {
      "cell_type": "markdown",
      "source": [
        "## Modeli test veri kümesinde değerlendirin\n",
        "Eğitim aşamasının aksine, model yalnızca test verilerinin tek bir dönemini(Epoch) değerlendirir."
      ],
      "metadata": {
        "id": "eCmX_Fbu0CKI"
      }
    },
    {
      "cell_type": "code",
      "source": [
        "test_accuracy = tf.keras.metrics.Accuracy()\n",
        "ds_test_batch = ds_test.batch(10)\n",
        "\n",
        "for (x, y) in ds_test_batch:\n",
        "  logits = model(x, training = False)\n",
        "  prediction = tf.math.argmax(logits, axis = 1, output_type = tf.int64)\n",
        "  test_accuracy(prediction, y)\n",
        "\n",
        "print('Test set accuracy: {:.3%}'.format(test_accuracy.result()))"
      ],
      "metadata": {
        "colab": {
          "base_uri": "https://localhost:8080/"
        },
        "id": "nF2ajC0ly9yL",
        "outputId": "baf43712-83df-4025-9496-c9c2f63c16f5"
      },
      "execution_count": 22,
      "outputs": [
        {
          "output_type": "stream",
          "name": "stdout",
          "text": [
            "Test set accuracy: 97.015%\n"
          ]
        }
      ]
    },
    {
      "cell_type": "markdown",
      "source": [
        "Test veri kümenizin doğruluk bilgisini almak için model.evaluate(ds_test, return_dict=True) keras fonksiyonunu da kullanabilirsiniz."
      ],
      "metadata": {
        "id": "00CjrBVU07l2"
      }
    },
    {
      "cell_type": "code",
      "source": [
        "tf.stack([y,prediction],axis=1)"
      ],
      "metadata": {
        "colab": {
          "base_uri": "https://localhost:8080/"
        },
        "id": "Gll-oCr1022S",
        "outputId": "7cac9797-c078-4ec7-ff34-5ec8a39d057d"
      },
      "execution_count": 23,
      "outputs": [
        {
          "output_type": "execute_result",
          "data": {
            "text/plain": [
              "<tf.Tensor: shape=(7, 2), dtype=int64, numpy=\n",
              "array([[1, 1],\n",
              "       [0, 0],\n",
              "       [2, 2],\n",
              "       [0, 0],\n",
              "       [1, 1],\n",
              "       [2, 2],\n",
              "       [0, 0]])>"
            ]
          },
          "metadata": {},
          "execution_count": 23
        }
      ]
    },
    {
      "cell_type": "markdown",
      "source": [
        "# Tahminlerde bulunmak için eğitilmiş modeli kullanın\n",
        "Bir model eğittiniz ve onun penguen türlerini sınıflandırmada iyi olduğunu, ancak mükemmel olmadığını \"kanıtladınız\". Şimdi eğitilmiş modeli kullanarak etiketsiz örnekler, yani özellik içeren ancak etiket içermeyen örnekler üzerinde bazı tahminlerde bulunalım.\n",
        "\n",
        "Gerçek hayatta, etiketlenmemiş örnekler uygulamalar, CSV dosyaları ve veri akışları dahil olmak üzere birçok farklı kaynaktan gelebilir."
      ],
      "metadata": {
        "id": "rf2nOkm91DDs"
      }
    },
    {
      "cell_type": "code",
      "source": [
        "predict_dataset = tf.convert_to_tensor([\n",
        "    [0.3, 0.8, 0.4, 0.5,],\n",
        "    [0.4, 0.1, 0.8, 0.5,],\n",
        "    [0.7, 0.9, 0.8, 0.4]\n",
        "])\n",
        "\n",
        "predictions = model(predict_dataset, training=False)\n",
        "\n",
        "for i, logits in enumerate(predictions):\n",
        "  class_idx = tf.math.argmax(logits).numpy()\n",
        "  p = tf.nn.softmax(logits)[class_idx]\n",
        "  name = class_names[class_idx]\n",
        "  print(\"Example {} prediction: {} ({:4.1f}%)\".format(i, name, 100*p))"
      ],
      "metadata": {
        "colab": {
          "base_uri": "https://localhost:8080/"
        },
        "id": "tDU0xDY-3QXW",
        "outputId": "8caded73-52f7-4e87-ca33-e990f8d55a3d"
      },
      "execution_count": 27,
      "outputs": [
        {
          "output_type": "stream",
          "name": "stdout",
          "text": [
            "Example 0 prediction: Adélie (97.6%)\n",
            "Example 1 prediction: Gentoo (98.5%)\n",
            "Example 2 prediction: Chinstrap (93.7%)\n"
          ]
        }
      ]
    },
    {
      "cell_type": "markdown",
      "source": [
        "# Sonuc\n",
        "Bir çalışmanın daha sonuna geldik. Bu çalışmada, veri seti indirmeyi, modeli adım adım oluşturmayı, sonuçları gözlemlemeyi ve test aşamasını gerçekleştirmeyi ele aldık. TensorFlow’un eğitim bölümlerine ek olarak, kendi bilgilerimi de paylaştım. Bu çalışma ile birlikte Özelleştirme (Customization) bölümünün sonuna geldik. Diğer bölümlerle çalışmalara devam edeceğim.\n",
        "\n",
        "Umarım bu çalışma sizin için faydalı olmuştur. Eğer bana sormak istediğiniz bir soru olursa, aşağıdaki linklerden benimle iletişime geçebilirsiniz.\n",
        "\n",
        "İyi çalışmalar dilerim!\n",
        "\n",
        "[Linkedin](https://www.linkedin.com/in/ihsancenkiz/)<br>\n",
        "[Github](https://github.com/ihsncnkz)<br>\n",
        "[Kaggle](https://www.kaggle.com/ihsncnkz)"
      ],
      "metadata": {
        "id": "WG8jjjRx3elg"
      }
    }
  ]
}