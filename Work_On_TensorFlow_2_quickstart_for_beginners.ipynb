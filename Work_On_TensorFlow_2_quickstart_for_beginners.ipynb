{
  "nbformat": 4,
  "nbformat_minor": 0,
  "metadata": {
    "colab": {
      "provenance": []
    },
    "kernelspec": {
      "name": "python3",
      "display_name": "Python 3"
    },
    "language_info": {
      "name": "python"
    }
  },
  "cells": [
    {
      "cell_type": "markdown",
      "source": [
        "# Giriş\n",
        "Merhaba değerli araştırmacılar, bu çalışmamda tensorflow(tf) kütüphanesi üzerinde çalışacağım. Bu çalışmada tensorflow kütüphanesinin [tutorial](https://www.tensorflow.org/tutorials) kaynaklarında faydalanarak hazırlayacağım. Bu çalışmayı yapma nedenim tensorflow kütüphanesi anlamak ve üzerinde araştırmalar yapmak aynı zamanda tensorflow kütühanesi üzerinde olan bilgi darcığımı arttırmak istememdendir. Bu çalışma sürecinde kendi yorumlarımı sizler ile paylaşacağım. Sizlere verdiğim tutorial linkinden de çalışmaları takip edebilir ve oradaki bilgilerlede bilginize bilgi katabilirsiniz.\n",
        "\n",
        "Başlangıç seviyesi için uygun olacak bu çalışmada tensorflow kütüphanesini kullanarak sınıflandırma işlemi gerçekleştireceğiz. Bu çalışmada model için eğitim ve test verisetinin hazırlanması, tensorflow içerisindeki keras kütüphanesi ile model oluşturma ve oluşturduğumuz model ile eğitim yapmayı göreceksiniz.\n",
        "\n",
        "Çalışmalarımı Colab üzerinde yapacağımdan dolayı tensorflow kendi bilgisayarıma kurmam gerekmiyor ve colab üzerinde kütüphaneyi kullanacağım. Sizlere önerim tf kütüphanesi anlamayı kolaylaştıracağından dolayı colab üzerinde çalışmalarınıza devam etmenizden yana olacaktır. Daha sonra isterseniz tf kütüphanesini indirir üzerinde çalışmalar yapabilirsiniz. Aynı zamanda colab üzerinde bulunan ekran kartınıda kullanabilirsiniz ama sizlere kısıtlı bir hak tanınacaktır hakkınız dolduğunu ekran kartı üzerinde çalışma yapamazsınız.\n",
        "\n",
        "Google Colab kullanımı hakkımda yazıma ulaşmak isterseniz [buraya tıklayınız lütfen!](Buraya Link gelecek!)"
      ],
      "metadata": {
        "id": "O_dzpHvqJcnL"
      }
    },
    {
      "cell_type": "code",
      "execution_count": null,
      "metadata": {
        "colab": {
          "base_uri": "https://localhost:8080/"
        },
        "id": "CX7rYB_4IaqI",
        "outputId": "40e49329-e4c0-49ae-f2b3-6d2900a0dbbd"
      },
      "outputs": [
        {
          "output_type": "stream",
          "name": "stdout",
          "text": [
            "Tensorflow verison:  2.15.0\n"
          ]
        }
      ],
      "source": [
        "import tensorflow as tf\n",
        "print(\"Tensorflow verison: \", tf.__version__)"
      ]
    },
    {
      "cell_type": "markdown",
      "source": [
        "**Veri setinin yüklenmesi**<br>\n",
        "Bu aşamada keras içerisindeki **mnist** veri setini yükleyeceğiz. Veri setini eğitim ve test olarak parçalara ayırcağız.<br>\n",
        "**x_train** : Eğitim verisi<br>\n",
        "**x_test** : Test verisi<br>\n",
        "**y_train** : Eğitim verisinin sınıfları<br>\n",
        "**y_test** : Test verisinin sınıfları"
      ],
      "metadata": {
        "id": "KY7upeyEORNH"
      }
    },
    {
      "cell_type": "code",
      "source": [
        "# Veri setini yükle\n",
        "mnist = tf.keras.datasets.mnist\n",
        "(x_train, y_train), (x_test, y_test) = mnist.load_data()"
      ],
      "metadata": {
        "colab": {
          "base_uri": "https://localhost:8080/"
        },
        "id": "jAMi916WL-mI",
        "outputId": "0eba4f96-6950-4a1d-a65d-5a9f5142100c"
      },
      "execution_count": null,
      "outputs": [
        {
          "output_type": "stream",
          "name": "stdout",
          "text": [
            "Downloading data from https://storage.googleapis.com/tensorflow/tf-keras-datasets/mnist.npz\n",
            "11490434/11490434 [==============================] - 0s 0us/step\n"
          ]
        }
      ]
    },
    {
      "cell_type": "code",
      "source": [
        "print(x_train.shape)\n",
        "print(y_train.shape)\n",
        "print(x_test.shape)\n",
        "print(y_test.shape)"
      ],
      "metadata": {
        "colab": {
          "base_uri": "https://localhost:8080/"
        },
        "id": "mRcb07BwPRS0",
        "outputId": "ba7639de-7509-4423-96c0-f4a3d1fe6f80"
      },
      "execution_count": null,
      "outputs": [
        {
          "output_type": "stream",
          "name": "stdout",
          "text": [
            "(60000, 28, 28)\n",
            "(60000,)\n",
            "(10000, 28, 28)\n",
            "(10000,)\n"
          ]
        }
      ]
    },
    {
      "cell_type": "markdown",
      "source": [
        "60 bin 28x28 boyutunda resim x_train veri kümesi içerisinde bulunmaktadır.<br>\n",
        "60 bin adet resimin sınıfları y_train veri seti içerisinde bulunmaktadır.<br>"
      ],
      "metadata": {
        "id": "3Vcw-AgoPd9j"
      }
    },
    {
      "cell_type": "code",
      "source": [
        "# Modelin oluşturulması\n",
        "model = tf.keras.Sequential([\n",
        "    tf.keras.layers.Flatten(input_shape = (28, 28)),\n",
        "    tf.keras.layers.Dense(128, activation='relu'),\n",
        "    tf.keras.layers.Dropout(0.2),\n",
        "    tf.keras.layers.Dense(10, activation = \"softmax\")\n",
        "])"
      ],
      "metadata": {
        "id": "Hnrwg-j9PY91"
      },
      "execution_count": null,
      "outputs": []
    },
    {
      "cell_type": "markdown",
      "source": [
        "modelimizi oluşturuken tensorflow içerisindeki keras kütüphanesinden faydalandık.<br>\n",
        "**Flatten** : Sinir ağımızın ilk katmanı bu katmanda gelecek verinin boyutunu belirledik.((28, 28))<br>\n",
        "**Dense** : Yapay sinir ağı. Dense katmanı gelecek veriyi \"relu\" aktivasyon foksiyonunu kullanarak süzgeçten geçirecek.<br>\n",
        "**Dropout** : Unutma katmanı. Bu katmanda öğrenilen verini 0.2'sini unutacak ve diğer adımda öğrenmeye devam edecek. Bu katmanı kullanma sebebimiz aşırı öğrenmenin(ezberlemek) önüne geçmek olacaktır.<br>\n",
        "Son katmanda **Dense** katmanında **softmax** aktivasyon foksiyonunu kullandım çünkü bu son katman gelen verinin sınıfının tahmin katmanıdır. 10 sınıf sayısıdır."
      ],
      "metadata": {
        "id": "SGTCkKrqQZTm"
      }
    },
    {
      "cell_type": "code",
      "source": [
        "loss_fn = tf.keras.losses.SparseCategoricalCrossentropy(from_logits = True)\n",
        "\n",
        "model.compile(optimizer='adam',\n",
        "              loss=loss_fn,\n",
        "              metrics=['accuracy'])"
      ],
      "metadata": {
        "id": "fuTGTSmUQNRW"
      },
      "execution_count": null,
      "outputs": []
    },
    {
      "cell_type": "markdown",
      "source": [
        "**loss_fn** : Modelin kayıp fonksiyonudur. Bu katman modelin gerçek değerden ne kadar uzak olduğunu ölçer ve modeli güncellemek için kullanılır.\n",
        "\n",
        "**model.compile** :  Bu kısımda birden çok parametre bulunmakta kısaca ne olduklarına değineyim.\n",
        "  - **optimizer** : Modelin günceleyecek fonksiyondur, adaptif moment tahmini (Adam) optimizasyon algoritmasıdır ve genellikle çeşitli derin öğrenme görevlerinde etkili olmuştur.\n",
        "  - **loss** : kayıp fonksiyonudur.\n",
        "  - **metrics** : modelin değerlendirmesinde kullanacağım metriktir."
      ],
      "metadata": {
        "id": "Fb0RWZVgTKho"
      }
    },
    {
      "cell_type": "code",
      "source": [
        "# Eğitim\n",
        "# Epoch : eğitim adımıdır. Eğitim kaç adımdan oluşacağını belirleriz.\n",
        "hist = model.fit(x_train, y_train, epochs=5)"
      ],
      "metadata": {
        "colab": {
          "base_uri": "https://localhost:8080/"
        },
        "id": "JtLQDK53TJyS",
        "outputId": "a9e3e645-33a0-4226-dde9-4c2d7a913504"
      },
      "execution_count": null,
      "outputs": [
        {
          "output_type": "stream",
          "name": "stdout",
          "text": [
            "Epoch 1/5\n",
            "1875/1875 [==============================] - 9s 4ms/step - loss: 2.6134 - accuracy: 0.7462\n",
            "Epoch 2/5\n",
            "1875/1875 [==============================] - 6s 3ms/step - loss: 0.5831 - accuracy: 0.8462\n",
            "Epoch 3/5\n",
            "1875/1875 [==============================] - 8s 4ms/step - loss: 0.4715 - accuracy: 0.8733\n",
            "Epoch 4/5\n",
            "1875/1875 [==============================] - 7s 3ms/step - loss: 0.4258 - accuracy: 0.8873\n",
            "Epoch 5/5\n",
            "1875/1875 [==============================] - 8s 4ms/step - loss: 0.4016 - accuracy: 0.8953\n"
          ]
        }
      ]
    },
    {
      "cell_type": "code",
      "source": [
        "# Modelin değerlendirme aşaması\n",
        "model.evaluate(x_test,  y_test, verbose=2)"
      ],
      "metadata": {
        "colab": {
          "base_uri": "https://localhost:8080/"
        },
        "id": "LyClgnwaVljD",
        "outputId": "58182f22-96a6-4cbb-f8b5-6ec8abddd309"
      },
      "execution_count": null,
      "outputs": [
        {
          "output_type": "stream",
          "name": "stdout",
          "text": [
            "313/313 - 1s - loss: 0.2654 - accuracy: 0.9335 - 631ms/epoch - 2ms/step\n"
          ]
        },
        {
          "output_type": "execute_result",
          "data": {
            "text/plain": [
              "[0.2653728127479553, 0.9334999918937683]"
            ]
          },
          "metadata": {},
          "execution_count": 9
        }
      ]
    },
    {
      "cell_type": "markdown",
      "source": [
        "**Loss** : 0.26 , **accuracy** : 0.93 skorlarımız gayet güzel çıktı accuracy değerinin giderk artması ve yüksek çıkması model eğitim için iyidir. Loss değerinin girek düşmesi ve düşük çıkması yine modelimizin için iyidir. Bu durumların sağlanması sonucunda modelimizin öğrendiği gözlemleyebiliriz."
      ],
      "metadata": {
        "id": "jr0JOU7lWCbu"
      }
    },
    {
      "cell_type": "markdown",
      "source": [
        "# Sonuç\n",
        "Arkadaşlar bu çalışmada Tensorflow kütüphanesinin tutorial kısmının Quickstart for begginers kısmını bitirdik. Tutorial kısmında bizden isteneleri yerine getirdik ve öğrenme aşamasının ilk adımını tamamladık. Diğer adımlarda görüşmek üzere öğrenmeye ve kendimi geliştirmeye devam!\n",
        "\n",
        "Aşağıdaki Linklerden beni takip edebilir ve yapacağım çalışmalardan haberdar olabilirsiniz!<br>\n",
        "[Linkedin](https://www.linkedin.com/in/ihsancenkiz/)<br>\n",
        "[Github](https://github.com/ihsncnkz)<br>\n",
        "[Kaggle](https://www.kaggle.com/ihsncnkz)"
      ],
      "metadata": {
        "id": "X-YkOG3BXOGT"
      }
    }
  ]
}