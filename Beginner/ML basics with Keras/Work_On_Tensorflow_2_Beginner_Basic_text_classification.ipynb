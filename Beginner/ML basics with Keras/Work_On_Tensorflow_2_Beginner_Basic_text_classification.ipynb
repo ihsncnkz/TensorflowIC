{
  "nbformat": 4,
  "nbformat_minor": 0,
  "metadata": {
    "colab": {
      "provenance": []
    },
    "kernelspec": {
      "name": "python3",
      "display_name": "Python 3"
    },
    "language_info": {
      "name": "python"
    }
  },
  "cells": [
    {
      "cell_type": "markdown",
      "source": [
        "# Giriş\n",
        "Merhaba arkadaşlar, tensorflow kütüphanesini öğrenme serüvenimizde dördüncü adımına hoş geldiniz. Bu adımdan basit metin sınıflandırması gerçekleştireceğiz. Bu adım [tutorial](https://www.tensorflow.org/tutorials) kısmının, Beginner kısımı içerisinde bulunan Basic text classification bölümündeki çalışma adımıdır."
      ],
      "metadata": {
        "id": "1CDLuiCsNqm1"
      }
    },
    {
      "cell_type": "code",
      "execution_count": null,
      "metadata": {
        "id": "-Hf4x9d6NdNV"
      },
      "outputs": [],
      "source": [
        "# Kullanacağımız kütüphaneleri yükleyelim\n",
        "import matplotlib.pyplot as plt\n",
        "import os\n",
        "import re\n",
        "import shutil\n",
        "import string\n",
        "import tensorflow as tf\n",
        "\n",
        "from tensorflow.keras import layers\n",
        "from tensorflow.keras import losses"
      ]
    },
    {
      "cell_type": "code",
      "source": [
        "print(tf.__version__)"
      ],
      "metadata": {
        "colab": {
          "base_uri": "https://localhost:8080/"
        },
        "id": "B--im4o-PI0u",
        "outputId": "fe13ce48-d14d-4ba2-dc0c-a6b36ac33ab6"
      },
      "execution_count": null,
      "outputs": [
        {
          "output_type": "stream",
          "name": "stdout",
          "text": [
            "2.15.0\n"
          ]
        }
      ]
    },
    {
      "cell_type": "markdown",
      "source": [
        "Bu çalışmada duygu analizi yapacağız, veri seti içerisinde olan metinlerin olumlu mu yoksa olumsuz mu olduğunu modelimize tahmin ettirmeye çalışacağız. Bu çalışma iki sınıf(binary classification) üzerinde sınıflandırma yapılacak. Veri seti olarak film inceleme veri kümesi olan IMDB veri setini kullanacağız. Veri seti içerisinde 50 bin inceleme bulunmaktadır. Bu verilerin 25 bini eğitim(train) 25 bini test veri seti olarak kullanılacaktır."
      ],
      "metadata": {
        "id": "6EUuRQ8UPf-B"
      }
    },
    {
      "cell_type": "code",
      "source": [
        "# Veri setinin yüklenmesi\n",
        "url = \"https://ai.stanford.edu/~amaas/data/sentiment/aclImdb_v1.tar.gz\"\n",
        "dataset = tf.keras.utils.get_file(\"aclImdb_v1\", url, untar = True, cache_dir = \".\", cache_subdir = \"\")\n",
        "dataset_dir = os.path.join(os.path.dirname(dataset), \"aclImdb\")"
      ],
      "metadata": {
        "id": "gliriS8pPL9E"
      },
      "execution_count": null,
      "outputs": []
    },
    {
      "cell_type": "code",
      "source": [
        "# İndirdiğimiz ver seti klasörü içerisindeki dosyalar\n",
        "os.listdir(dataset_dir)"
      ],
      "metadata": {
        "colab": {
          "base_uri": "https://localhost:8080/"
        },
        "id": "U0PHGDE0R9L8",
        "outputId": "e03f26ef-f693-4871-d719-783d5f6fde8c"
      },
      "execution_count": null,
      "outputs": [
        {
          "output_type": "execute_result",
          "data": {
            "text/plain": [
              "['imdbEr.txt', 'imdb.vocab', 'test', 'README', 'train']"
            ]
          },
          "metadata": {},
          "execution_count": 8
        }
      ]
    },
    {
      "cell_type": "code",
      "source": [
        "\"\"\"\n",
        "pos, içersinde pozitif incelemeler bulunmakta\n",
        "neg, içerisinde negatif incelemeler bulunmakta\n",
        "\"\"\"\n",
        "train_dir = os.path.join(dataset_dir, 'train')\n",
        "os.listdir(train_dir)"
      ],
      "metadata": {
        "colab": {
          "base_uri": "https://localhost:8080/"
        },
        "id": "X3VFE9thUczM",
        "outputId": "961ce68f-3cba-4fd7-a814-259165968d38"
      },
      "execution_count": null,
      "outputs": [
        {
          "output_type": "execute_result",
          "data": {
            "text/plain": [
              "['unsup',\n",
              " 'unsupBow.feat',\n",
              " 'labeledBow.feat',\n",
              " 'pos',\n",
              " 'urls_neg.txt',\n",
              " 'urls_pos.txt',\n",
              " 'urls_unsup.txt',\n",
              " 'neg']"
            ]
          },
          "metadata": {},
          "execution_count": 9
        }
      ]
    },
    {
      "cell_type": "code",
      "source": [
        "# Pozitif bir incelemeyi göreksiniz!\n",
        "sample_file = os.path.join(train_dir, \"pos/1181_9.txt\")\n",
        "with open(sample_file) as f:\n",
        "  print(f.read())"
      ],
      "metadata": {
        "colab": {
          "base_uri": "https://localhost:8080/"
        },
        "id": "kyuwEF9GU6EA",
        "outputId": "e35df3fb-50d3-469c-8f43-0e4f7323d61f"
      },
      "execution_count": null,
      "outputs": [
        {
          "output_type": "stream",
          "name": "stdout",
          "text": [
            "Rachel Griffiths writes and directs this award winning short film. A heartwarming story about coping with grief and cherishing the memory of those we've loved and lost. Although, only 15 minutes long, Griffiths manages to capture so much emotion and truth onto film in the short space of time. Bud Tingwell gives a touching performance as Will, a widower struggling to cope with his wife's death. Will is confronted by the harsh reality of loneliness and helplessness as he proceeds to take care of Ruth's pet cow, Tulip. The film displays the grief and responsibility one feels for those they have loved and lost. Good cinematography, great direction, and superbly acted. It will bring tears to all those who have lost a loved one, and survived.\n"
          ]
        }
      ]
    },
    {
      "cell_type": "code",
      "source": [
        "# Veri setinin içe aktarılması\n",
        "remove_dir = os.path.join(train_dir, \"unsup\")\n",
        "shutil.rmtree(remove_dir)"
      ],
      "metadata": {
        "id": "Oa1YuKuIVpow"
      },
      "execution_count": null,
      "outputs": []
    },
    {
      "cell_type": "code",
      "source": [
        "batch_size = 32\n",
        "seed = 42\n",
        "\n",
        "raw_train_ds = tf.keras.utils.text_dataset_from_directory(\n",
        "    'aclImdb/train', # veri setinin bulunduğu dizin\n",
        "    batch_size = batch_size, # batch boyuru (Her bir adımda kullanılacak veri miktarı!)\n",
        "    validation_split = 0.2, # verisetinin %20 validation(doğrulama) için ayrılacak\n",
        "    subset = \"training\", # Veri setinin eğitim veri seti oldğunu belirtir\n",
        "    seed = seed # Rastgelelilik içinb kullanılan değer\n",
        ")"
      ],
      "metadata": {
        "colab": {
          "base_uri": "https://localhost:8080/"
        },
        "id": "PEAGdB6uWYoL",
        "outputId": "e528ecbe-0ba9-4064-ad82-f66689078437"
      },
      "execution_count": null,
      "outputs": [
        {
          "output_type": "stream",
          "name": "stdout",
          "text": [
            "Found 25000 files belonging to 2 classes.\n",
            "Using 20000 files for training.\n"
          ]
        }
      ]
    },
    {
      "cell_type": "markdown",
      "source": [
        "**tf.keras.utils.text_dataset_from_directory**<br>\n",
        "fonksiyonunu kullanarak dosya içerisinde bulunan train veri setini içe aktardık ve 25 bin verinin 20 bin verisini eğitim, 5 bin tanesini validation verisi olarak kullanmak için ayırdık. Validation veri seti ile daha yeni karşılaşıyoruz, peki nedir bu Validation veri seti:<br>\n",
        "Validation dataset (doğrulama veri seti), makine öğrenimi modellerinin performansını değerlendirmek ve hiperparametre ayarlarını optimize etmek için kullanılan bir veri setidir. Eğitim sürecinde modelin genelleme yeteneğini ölçmek için eğitim veri setinden ayrılan bir veri kümesidir."
      ],
      "metadata": {
        "id": "IGJMd10YXVMt"
      }
    },
    {
      "cell_type": "code",
      "source": [
        "# Train veri kümesi içerisindeki ilk üç veri\n",
        "for text_batch, label_batch in raw_train_ds.take(1):\n",
        "  for i in range(3):\n",
        "    print(\"Review \", text_batch.numpy()[i])\n",
        "    print(\"Label \", label_batch.numpy()[i])"
      ],
      "metadata": {
        "colab": {
          "base_uri": "https://localhost:8080/"
        },
        "id": "zzpoF69EXGD6",
        "outputId": "27eee23b-87b4-4d22-a71f-0476228331a4"
      },
      "execution_count": null,
      "outputs": [
        {
          "output_type": "stream",
          "name": "stdout",
          "text": [
            "Review  b'\"Pandemonium\" is a horror movie spoof that comes off more stupid than funny. Believe me when I tell you, I love comedies. Especially comedy spoofs. \"Airplane\", \"The Naked Gun\" trilogy, \"Blazing Saddles\", \"High Anxiety\", and \"Spaceballs\" are some of my favorite comedies that spoof a particular genre. \"Pandemonium\" is not up there with those films. Most of the scenes in this movie had me sitting there in stunned silence because the movie wasn\\'t all that funny. There are a few laughs in the film, but when you watch a comedy, you expect to laugh a lot more than a few times and that\\'s all this film has going for it. Geez, \"Scream\" had more laughs than this film and that was more of a horror film. How bizarre is that?<br /><br />*1/2 (out of four)'\n",
            "Label  0\n",
            "Review  b\"David Mamet is a very interesting and a very un-equal director. His first movie 'House of Games' was the one I liked best, and it set a series of films with characters whose perspective of life changes as they get into complicated situations, and so does the perspective of the viewer.<br /><br />So is 'Homicide' which from the title tries to set the mind of the viewer to the usual crime drama. The principal characters are two cops, one Jewish and one Irish who deal with a racially charged area. The murder of an old Jewish shop owner who proves to be an ancient veteran of the Israeli Independence war triggers the Jewish identity in the mind and heart of the Jewish detective.<br /><br />This is were the flaws of the film are the more obvious. The process of awakening is theatrical and hard to believe, the group of Jewish militants is operatic, and the way the detective eventually walks to the final violent confrontation is pathetic. The end of the film itself is Mamet-like smart, but disappoints from a human emotional perspective.<br /><br />Joe Mantegna and William Macy give strong performances, but the flaws of the story are too evident to be easily compensated.\"\n",
            "Label  0\n",
            "Review  b'Great documentary about the lives of NY firefighters during the worst terrorist attack of all time.. That reason alone is why this should be a must see collectors item.. What shocked me was not only the attacks, but the\"High Fat Diet\" and physical appearance of some of these firefighters. I think a lot of Doctors would agree with me that,in the physical shape they were in, some of these firefighters would NOT of made it to the 79th floor carrying over 60 lbs of gear. Having said that i now have a greater respect for firefighters and i realize becoming a firefighter is a life altering job. The French have a history of making great documentary\\'s and that is what this is, a Great Documentary.....'\n",
            "Label  1\n"
          ]
        }
      ]
    },
    {
      "cell_type": "code",
      "source": [
        "print(\"Label 0 corresponds to\", raw_train_ds.class_names[0])\n",
        "print(\"Label 1 corresponds to\", raw_train_ds.class_names[1])"
      ],
      "metadata": {
        "colab": {
          "base_uri": "https://localhost:8080/"
        },
        "id": "q8KB89UZYxR8",
        "outputId": "bfb5493f-a875-4987-b021-cf27df1f3460"
      },
      "execution_count": null,
      "outputs": [
        {
          "output_type": "stream",
          "name": "stdout",
          "text": [
            "Label 0 corresponds to neg\n",
            "Label 1 corresponds to pos\n"
          ]
        }
      ]
    },
    {
      "cell_type": "code",
      "source": [
        "# Validation dataset\n",
        "raw_val_ds = tf.keras.utils.text_dataset_from_directory(\n",
        "    'aclImdb/train',\n",
        "    batch_size=batch_size,\n",
        "    validation_split=0.2,\n",
        "    subset='validation',\n",
        "    seed=seed)"
      ],
      "metadata": {
        "colab": {
          "base_uri": "https://localhost:8080/"
        },
        "id": "gD_6xB3NY7dZ",
        "outputId": "15546c5a-3e00-4e3c-b09c-39df992d0d48"
      },
      "execution_count": null,
      "outputs": [
        {
          "output_type": "stream",
          "name": "stdout",
          "text": [
            "Found 25000 files belonging to 2 classes.\n",
            "Using 5000 files for validation.\n"
          ]
        }
      ]
    },
    {
      "cell_type": "code",
      "source": [
        "# Test veri seti\n",
        "raw_test_ds = tf.keras.utils.text_dataset_from_directory(\n",
        "    'aclImdb/test',\n",
        "    batch_size=batch_size)"
      ],
      "metadata": {
        "colab": {
          "base_uri": "https://localhost:8080/"
        },
        "id": "iO_iK7raY_mu",
        "outputId": "5b9271d1-e92a-474b-a3f0-383b90c23e86"
      },
      "execution_count": null,
      "outputs": [
        {
          "output_type": "stream",
          "name": "stdout",
          "text": [
            "Found 25000 files belonging to 2 classes.\n"
          ]
        }
      ]
    },
    {
      "cell_type": "markdown",
      "source": [
        "Veri setini indirdik modelimizde kullanmak için tensorflow kütüphanesinden fayadalanarak içede aktardık. Şimdi, veri setinin model için hazırlama aşamasına başlayacağız. Yapılacak olan işlemler standartlaştırma(standardize) tokenleştirme(tokenize) ve vektörleştirme(Vectorize) işlemleri olacaktır. Kısaca bu adımların ne olduğundan bahsedeyim:<br>\n",
        "Standardizasyon, metni ön işleme sürecine verilen isimdir ve genellikle noktalama işaretleri veya HTML öğelerini çıkarmak gibi işlemleri içerir. Bu adım, veri setini basitleştirmek için yapılır. Tokenizasyon ise, metin dizelerini token adı verilen parçalara bölme işlemidir. Örneğin, bir cümleyi boşluk karakterlerine göre kelimelere ayırmak tokenizasyona örnek olabilir. Vektörleştirme ise, tokenlarin sayılara dönüşürme işlemidir, böylece bu sayılar sinir ağına beslenebilinir hale getirilicektir.\n"
      ],
      "metadata": {
        "id": "kil4inZGb4AB"
      }
    },
    {
      "cell_type": "code",
      "source": [
        "# Veri setinin hazırlanması\n",
        "# Metinler içerisindeki html kodlarını ve noktalama işaretlerini çıkarma fonksiyonum\n",
        "def custom_standardization(input_data):\n",
        "  lowercase = tf.strings.lower(input_data)\n",
        "  stripped_html = tf.strings.regex_replace(lowercase, '<br />', ' ')\n",
        "  return tf.strings.regex_replace(stripped_html,\n",
        "                                  '[%s]' % re.escape(string.punctuation),\n",
        "                                  '')"
      ],
      "metadata": {
        "id": "x3oRNBm6ZDej"
      },
      "execution_count": null,
      "outputs": []
    },
    {
      "cell_type": "code",
      "source": [
        "max_features = 10000\n",
        "sequence_length = 250\n",
        "\n",
        "vectorize_layer = layers.TextVectorization(\n",
        "    standardize=custom_standardization,\n",
        "    max_tokens=max_features,\n",
        "    output_mode='int',\n",
        "    output_sequence_length=sequence_length)"
      ],
      "metadata": {
        "id": "66tTETiVh792"
      },
      "execution_count": null,
      "outputs": []
    },
    {
      "cell_type": "markdown",
      "source": [
        "Sizlere girişte anlattığım adımları çıktı olarak göstermek istedim. Modelimiz son adımdaki vektörize edilmiş modelimiz ile beslenecek."
      ],
      "metadata": {
        "id": "yAFtNa0ppAFU"
      }
    },
    {
      "cell_type": "code",
      "source": [
        "# Train veri kümesini hazırlayalım\n",
        "train_text = raw_train_ds.map(lambda x, y: x)\n",
        "vectorize_layer.adapt(train_text)"
      ],
      "metadata": {
        "id": "TPXlCRb5n41p"
      },
      "execution_count": null,
      "outputs": []
    },
    {
      "cell_type": "code",
      "source": [
        "def vectorize_text(text, label):\n",
        "  text = tf.expand_dims(text, -1)\n",
        "  return vectorize_layer(text), label"
      ],
      "metadata": {
        "id": "7eCHXuhtpgPr"
      },
      "execution_count": null,
      "outputs": []
    },
    {
      "cell_type": "code",
      "source": [
        "# retrieve a batch (of 32 reviews and labels) from the dataset\n",
        "text_batch, label_batch = next(iter(raw_train_ds))\n",
        "first_review, first_label = text_batch[0], label_batch[0]\n",
        "print(\"Review\", first_review)\n",
        "print(\"Label\", raw_train_ds.class_names[first_label])\n",
        "print(\"Vectorized review\", vectorize_text(first_review, first_label))"
      ],
      "metadata": {
        "colab": {
          "base_uri": "https://localhost:8080/"
        },
        "id": "-eZ9HTMpptwW",
        "outputId": "835b4f20-fa55-47dd-e72f-2ad51a77dbf0"
      },
      "execution_count": null,
      "outputs": [
        {
          "output_type": "stream",
          "name": "stdout",
          "text": [
            "Review tf.Tensor(b'Great movie - especially the music - Etta James - \"At Last\". This speaks volumes when you have finally found that special someone.', shape=(), dtype=string)\n",
            "Label neg\n",
            "Vectorized review (<tf.Tensor: shape=(1, 250), dtype=int64, numpy=\n",
            "array([[  86,   17,  260,    2,  222,    1,  571,   31,  229,   11, 2418,\n",
            "           1,   51,   22,   25,  404,  251,   12,  306,  282,    0,    0,\n",
            "           0,    0,    0,    0,    0,    0,    0,    0,    0,    0,    0,\n",
            "           0,    0,    0,    0,    0,    0,    0,    0,    0,    0,    0,\n",
            "           0,    0,    0,    0,    0,    0,    0,    0,    0,    0,    0,\n",
            "           0,    0,    0,    0,    0,    0,    0,    0,    0,    0,    0,\n",
            "           0,    0,    0,    0,    0,    0,    0,    0,    0,    0,    0,\n",
            "           0,    0,    0,    0,    0,    0,    0,    0,    0,    0,    0,\n",
            "           0,    0,    0,    0,    0,    0,    0,    0,    0,    0,    0,\n",
            "           0,    0,    0,    0,    0,    0,    0,    0,    0,    0,    0,\n",
            "           0,    0,    0,    0,    0,    0,    0,    0,    0,    0,    0,\n",
            "           0,    0,    0,    0,    0,    0,    0,    0,    0,    0,    0,\n",
            "           0,    0,    0,    0,    0,    0,    0,    0,    0,    0,    0,\n",
            "           0,    0,    0,    0,    0,    0,    0,    0,    0,    0,    0,\n",
            "           0,    0,    0,    0,    0,    0,    0,    0,    0,    0,    0,\n",
            "           0,    0,    0,    0,    0,    0,    0,    0,    0,    0,    0,\n",
            "           0,    0,    0,    0,    0,    0,    0,    0,    0,    0,    0,\n",
            "           0,    0,    0,    0,    0,    0,    0,    0,    0,    0,    0,\n",
            "           0,    0,    0,    0,    0,    0,    0,    0,    0,    0,    0,\n",
            "           0,    0,    0,    0,    0,    0,    0,    0,    0,    0,    0,\n",
            "           0,    0,    0,    0,    0,    0,    0,    0,    0,    0,    0,\n",
            "           0,    0,    0,    0,    0,    0,    0,    0,    0,    0,    0,\n",
            "           0,    0,    0,    0,    0,    0,    0,    0]])>, <tf.Tensor: shape=(), dtype=int32, numpy=0>)\n"
          ]
        }
      ]
    },
    {
      "cell_type": "markdown",
      "source": [
        "Yukarıda ilk satırda metinin orjinal halini görmektesiniz, label kısmında metinin hangi sınıfa ait olduğunu görüyoruz. Son kısımda ise metinin vektorize edilmiş hali olan sayı formatına çevirilmiş halini görüyorsunuz. Son kısımdaki sıfırlar metinin 250 değerinden kısa olduğu için doldurma olarak alınmış ve 250 değerine ulaşmasını sağlamıştır."
      ],
      "metadata": {
        "id": "_hvW15fWtn1Z"
      }
    },
    {
      "cell_type": "code",
      "source": [
        "print(\"1233 --> \", vectorize_layer.get_vocabulary()[1233]) # 1233 değerin kelime karşılığı!\n",
        "print(\"5 --> \", vectorize_layer.get_vocabulary()[5])\n",
        "print(\"Vocabulary size: {}\".format(len(vectorize_layer.get_vocabulary()))) # vectorize_layer.get_vocabulary() fonksiyonun içerisinde toplam kaç kelime olduğu sorgusu"
      ],
      "metadata": {
        "id": "XRaMyl07p1Jj",
        "colab": {
          "base_uri": "https://localhost:8080/"
        },
        "outputId": "7b78b3ba-dac6-4747-f047-d4a0dddc047f"
      },
      "execution_count": null,
      "outputs": [
        {
          "output_type": "stream",
          "name": "stdout",
          "text": [
            "1233 -->  tough\n",
            "5 -->  of\n",
            "Vocabulary size: 10000\n"
          ]
        }
      ]
    },
    {
      "cell_type": "code",
      "source": [
        "# Hazırladığım Vectorizer fonksiyonunu train, val ve test veri kümelerine uyguluyorum.\n",
        "# Bu adımdan sonra tüm verilerimiz vectorize hale gelmiş olacaktır.\n",
        "train_ds = raw_train_ds.map(vectorize_text)\n",
        "val_ds = raw_val_ds.map(vectorize_text)\n",
        "test_ds = raw_test_ds.map(vectorize_text)"
      ],
      "metadata": {
        "id": "eNOVHQfWHwZW"
      },
      "execution_count": null,
      "outputs": []
    },
    {
      "cell_type": "markdown",
      "source": [
        "**Veri kümesinin yapılanması ve eğitime hazır hale gerilmesi**<br>"
      ],
      "metadata": {
        "id": "n_Wlp2fjI_jz"
      }
    },
    {
      "cell_type": "code",
      "source": [
        "AUTOTUNE = tf.data.AUTOTUNE\n",
        "\n",
        "train_ds = train_ds.cache().prefetch(buffer_size = AUTOTUNE)\n",
        "val_ds = val_ds.cache().prefetch(buffer_size = AUTOTUNE)\n",
        "test_ds = test_ds.cache().prefetch(buffer_size = AUTOTUNE)"
      ],
      "metadata": {
        "id": "qxGWy2O6IfpO"
      },
      "execution_count": null,
      "outputs": []
    },
    {
      "cell_type": "markdown",
      "source": [
        "**'cache()'**<br>\n",
        "  Veri kümesini önbelleğe alarak okuma işlemlerini hızlandırır. Örneğin veri kümesini diske veya belleğe saklayarak her seferinde diskten okuma ihtiyacını ortadan kaldırır.\n",
        "\n",
        "**'prefetch()'**<br>\n",
        "  Eğitim sırasında veri kümesini önceden yükleyerek eğitim sürecini hızlandırır. Bu işlem, veri işlemenin model eğitimiyle paralel olarak gerçekleşmesini sağlar, böylece veri yükleme gecikmelerini minimize edilir.\n",
        "\n",
        "**'buffer_size = AUTOTUNE'**<br>\n",
        "  parametres, TensorFlow'un en uygun tampon boyutunu otomatik olarak belirlemesini sağlar.\n",
        "\n",
        "Bu adımda veri kümesini eğitime hazır hale getirdik artık sınıflandırma için modelimizi oluşturabilir ve modelimizi eğitebiliriz."
      ],
      "metadata": {
        "id": "XTRX_57iKtEE"
      }
    },
    {
      "cell_type": "code",
      "source": [
        "# Model oluşturma\n",
        "embedding_dim = 16\n",
        "\n",
        "model = tf.keras.Sequential([\n",
        "    layers.Embedding(max_features, embedding_dim),\n",
        "    layers.Dropout(0.2),\n",
        "    layers.GlobalAveragePooling1D(),\n",
        "    layers.Dropout(0.2),\n",
        "    layers.Dense(1, activation = \"sigmoid\")\n",
        "])\n",
        "\n",
        "model.summary()"
      ],
      "metadata": {
        "colab": {
          "base_uri": "https://localhost:8080/"
        },
        "id": "k2czIe4dJ-pS",
        "outputId": "b0503476-300b-47ba-f17a-8726d6001997"
      },
      "execution_count": null,
      "outputs": [
        {
          "output_type": "stream",
          "name": "stdout",
          "text": [
            "Model: \"sequential\"\n",
            "_________________________________________________________________\n",
            " Layer (type)                Output Shape              Param #   \n",
            "=================================================================\n",
            " embedding (Embedding)       (None, None, 16)          160000    \n",
            "                                                                 \n",
            " dropout (Dropout)           (None, None, 16)          0         \n",
            "                                                                 \n",
            " global_average_pooling1d (  (None, 16)                0         \n",
            " GlobalAveragePooling1D)                                         \n",
            "                                                                 \n",
            " dropout_1 (Dropout)         (None, 16)                0         \n",
            "                                                                 \n",
            " dense (Dense)               (None, 1)                 17        \n",
            "                                                                 \n",
            "=================================================================\n",
            "Total params: 160017 (625.07 KB)\n",
            "Trainable params: 160017 (625.07 KB)\n",
            "Non-trainable params: 0 (0.00 Byte)\n",
            "_________________________________________________________________\n"
          ]
        }
      ]
    },
    {
      "cell_type": "markdown",
      "source": [
        "Tensorflow kütüphanesi ile oluşturuduğumuz modelde:<br>\n",
        "\n",
        "**layers.Embedding(max_features, embedding_dim)**<br>\n",
        "Bu satırda, gömme katmanı oluşturuyoruz. Bu katman, bir kelime haznesindeki her kelimenin bir temsili olarak kullanılan vektörlerin hesaplanmasını sağlar. Gömme katmanı bir giriş dizisini alır(örneğin, bir cümlenin kelime dizisi) ve her kelimeyi belirtilen boyuttaki bir vektör ile temsil eder. Bu vektör modelin eğitimini sırasında güncellenir ve kelime temsillerini öğrenir. \"max_feature\", Kelime haznesinin boyutunu belirler. \"embedding_dim\", Her kelimenin temsil edileceği vektörün boyutunu belirler. Yani, her kelime bir \"embedding_dim\" boyutunda bir vektörle temsil edilir.\n",
        "\n",
        "**layers.Dropout**<br>\n",
        "Aşırı öğrenmenin önüne geçmek için bu katmandan önce öğrenilen verinin yüze yirmisini(0.2) unutur.\n",
        "\n",
        "**layers.GlobalAveragePooling1D()**<br>\n",
        " katmanı, 1D veri dizileri üzerinde kümeleme işlemi uygular. Bu işlem, her bir özellik boyunca ortalama değeri hesaplar ve bu ortalama değerleri tek bir vektörde birleştirir. Bu katman, özellikle metin verileri gibi değişken uzunluktaki girdilerin sabit boyutta bir çıkışla temsil edilmesi gerektiği durumlarda kullanışlıdır. Örneğin, bir cümlenin kelime dizisi, her kelimenin gömme vektörlerini içerir. Bu vektörler farklı uzunluklarda olabilir, ancak GlobalAveragePooling1D() katmanı her bir gömme vektörü boyunca ortalama değeri hesaplar ve böylece sabit boyutta bir çıkış elde edilir."
      ],
      "metadata": {
        "id": "3ffmLsU5QFTb"
      }
    },
    {
      "cell_type": "code",
      "source": [
        "# Loss fonksiyonu ve optimizasyon fonksiyonun berlenmesi\n",
        "model.compile(loss = losses.BinaryCrossentropy(),\n",
        "              optimizer = 'adam',\n",
        "              metrics = [tf.metrics.BinaryAccuracy(threshold = 0.5)])"
      ],
      "metadata": {
        "id": "IfAVlLVQOw2y"
      },
      "execution_count": null,
      "outputs": []
    },
    {
      "cell_type": "markdown",
      "source": [
        "**metrics = [tf.metrics.BinaryAccuracy(threshold = 0.5)]**<br>\n",
        "Değerlendirme metrikleri, modelin performansını değerlendirmek için kullanılan ölçümlerdir. Burada kullanılan \"BinaryAccuracy\" doğru sınıflandırma oranını hesaplar. threshold = 0.5 parametreleri, tahmin edilen sınıfın kesme eşiğini belirtir, yani 0.5'ten büyükse tahmin edilen sınıf 1 olarak kabul edilir, aksi takirde 0 olarak kabul edilir."
      ],
      "metadata": {
        "id": "7OqktN94TJ8T"
      }
    },
    {
      "cell_type": "code",
      "source": [
        "epochs = 10\n",
        "history = model.fit(train_ds, validation_data = val_ds, epochs = epochs)"
      ],
      "metadata": {
        "colab": {
          "base_uri": "https://localhost:8080/"
        },
        "id": "Ivh4Fb5fS3Ws",
        "outputId": "8fb65991-5837-471c-a1f2-39ab963f94e8"
      },
      "execution_count": null,
      "outputs": [
        {
          "output_type": "stream",
          "name": "stdout",
          "text": [
            "Epoch 1/10\n",
            "625/625 [==============================] - 10s 15ms/step - loss: 0.6621 - binary_accuracy: 0.6966 - val_loss: 0.6119 - val_binary_accuracy: 0.7750\n",
            "Epoch 2/10\n",
            "625/625 [==============================] - 5s 8ms/step - loss: 0.5458 - binary_accuracy: 0.8034 - val_loss: 0.4960 - val_binary_accuracy: 0.8238\n",
            "Epoch 3/10\n",
            "625/625 [==============================] - 6s 10ms/step - loss: 0.4425 - binary_accuracy: 0.8461 - val_loss: 0.4184 - val_binary_accuracy: 0.8474\n",
            "Epoch 4/10\n",
            "625/625 [==============================] - 5s 8ms/step - loss: 0.3770 - binary_accuracy: 0.8659 - val_loss: 0.3727 - val_binary_accuracy: 0.8602\n",
            "Epoch 5/10\n",
            "625/625 [==============================] - 5s 8ms/step - loss: 0.3335 - binary_accuracy: 0.8792 - val_loss: 0.3439 - val_binary_accuracy: 0.8668\n",
            "Epoch 6/10\n",
            "625/625 [==============================] - 5s 7ms/step - loss: 0.3036 - binary_accuracy: 0.8893 - val_loss: 0.3254 - val_binary_accuracy: 0.8698\n",
            "Epoch 7/10\n",
            "625/625 [==============================] - 6s 10ms/step - loss: 0.2805 - binary_accuracy: 0.8970 - val_loss: 0.3123 - val_binary_accuracy: 0.8730\n",
            "Epoch 8/10\n",
            "625/625 [==============================] - 5s 8ms/step - loss: 0.2612 - binary_accuracy: 0.9049 - val_loss: 0.3029 - val_binary_accuracy: 0.8758\n",
            "Epoch 9/10\n",
            "625/625 [==============================] - 6s 10ms/step - loss: 0.2453 - binary_accuracy: 0.9105 - val_loss: 0.2961 - val_binary_accuracy: 0.8774\n",
            "Epoch 10/10\n",
            "625/625 [==============================] - 5s 8ms/step - loss: 0.2301 - binary_accuracy: 0.9164 - val_loss: 0.2916 - val_binary_accuracy: 0.8792\n"
          ]
        }
      ]
    },
    {
      "cell_type": "code",
      "source": [
        "# Model değerlendirme\n",
        "loss, accuracy = model.evaluate(test_ds)\n",
        "\n",
        "print(\"loss: \", loss)\n",
        "print(\"Accuracy: \", accuracy)"
      ],
      "metadata": {
        "colab": {
          "base_uri": "https://localhost:8080/"
        },
        "id": "a_9DP9JDUXqb",
        "outputId": "58373a96-66a7-478a-fed3-d5732bc519de"
      },
      "execution_count": null,
      "outputs": [
        {
          "output_type": "stream",
          "name": "stdout",
          "text": [
            "782/782 [==============================] - 7s 8ms/step - loss: 0.3104 - binary_accuracy: 0.8721\n",
            "loss:  0.31043311953544617\n",
            "Accuracy:  0.8721200227737427\n"
          ]
        }
      ]
    },
    {
      "cell_type": "markdown",
      "source": [
        "Eğitim sonucunda modelimiz kayıp değeri(loss) 0.31, doğruluk(accuracy) değeri ise 0.87 çıktı. Sonuçlar güzel yalnız loss değeri bence yüksek çıktı bu durumu modelin parametlerini düzelterek düşürebiliriz veya fazladan veri ekleyerekde yapabiliriz. Şimdilik tutorialdan kopmadan devem edelim."
      ],
      "metadata": {
        "id": "aKJ7hCZ5Va8z"
      }
    },
    {
      "cell_type": "code",
      "source": [
        "# Sonuçların görselleştirilmesi\n",
        "history_dict = history.history\n",
        "history_dict.keys()\n",
        "\n",
        "acc = history_dict['binary_accuracy']\n",
        "val_acc = history_dict['val_binary_accuracy']\n",
        "loss = history_dict['loss']\n",
        "val_loss = history_dict['val_loss']\n",
        "\n",
        "epochs = range(1, len(acc) + 1)\n",
        "\n",
        "# \"bo\" is for \"blue dot\"\n",
        "plt.plot(epochs, loss, 'bo', label='Training loss')\n",
        "# b is for \"solid blue line\"\n",
        "plt.plot(epochs, val_loss, 'b', label='Validation loss')\n",
        "plt.title('Training and validation loss')\n",
        "plt.xlabel('Epochs')\n",
        "plt.ylabel('Loss')\n",
        "plt.legend()\n",
        "\n",
        "plt.show()"
      ],
      "metadata": {
        "colab": {
          "base_uri": "https://localhost:8080/",
          "height": 472
        },
        "id": "v5b2WzoIVUuq",
        "outputId": "3f7a5ded-089a-4092-f34b-ec1412309a4f"
      },
      "execution_count": null,
      "outputs": [
        {
          "output_type": "display_data",
          "data": {
            "text/plain": [
              "<Figure size 640x480 with 1 Axes>"
            ],
            "image/png": "[encoded data removed]"
          },
          "metadata": {}
        }
      ]
    },
    {
      "cell_type": "code",
      "source": [
        "plt.plot(epochs, acc, 'bo', label='Training acc')\n",
        "plt.plot(epochs, val_acc, 'b', label='Validation acc')\n",
        "plt.title('Training and validation accuracy')\n",
        "plt.xlabel('Epochs')\n",
        "plt.ylabel('Accuracy')\n",
        "plt.legend(loc='lower right')\n",
        "\n",
        "plt.show()"
      ],
      "metadata": {
        "colab": {
          "base_uri": "https://localhost:8080/",
          "height": 472
        },
        "id": "YwDmCW0oYk-A",
        "outputId": "777ea80e-7a1b-4f24-87df-c3b078d4dd26"
      },
      "execution_count": null,
      "outputs": [
        {
          "output_type": "display_data",
          "data": {
            "text/plain": [
              "<Figure size 640x480 with 1 Axes>"
            ],
            "image/png": "[encoded data removed]"
          },
          "metadata": {}
        }
      ]
    },
    {
      "cell_type": "markdown",
      "source": [
        "Traning loss ve validation loss giderek düşmeye başlamış bu güzel bir durum. Traning acc ve validation acc değerleride giderek artıyor bu da güzel bir durum yalnız traning acc değeri validation acc değerinden fazla bu durumunun nedeni eğitim esnasında modelin tranin verileri ile eğitildiğinden dolayıdır model önceden görmüş olduğu verilerde yüksek performans sergilemesi normal ama validation acc değerinin traning acc değerinden düşük çıkması aşırı uydurmanın bir örneğidir. Bu durum ile mücadele etmek için eğitimi erken durdurma, yeni veri ekleme, model parametrelerini optimize etme vb. gibi yollara başvurulabilinir."
      ],
      "metadata": {
        "id": "PRHFq7eEYsst"
      }
    },
    {
      "cell_type": "code",
      "source": [
        "# Modeli dışa aktarma\n",
        "export_model = tf.keras.Sequential([\n",
        "    vectorize_layer,\n",
        "    model,\n",
        "    layers.Activation(\"sigmoid\")\n",
        "])\n",
        "\n",
        "export_model.compile(\n",
        "    loss = losses.BinaryCrossentropy(from_logits = False), optimizer = \"adam\", metrics = [\"accuracy\"]\n",
        ")\n",
        "\n",
        "loss, accuracy = export_model.evaluate(raw_test_ds)"
      ],
      "metadata": {
        "colab": {
          "base_uri": "https://localhost:8080/"
        },
        "id": "U5s-JYCmYmnw",
        "outputId": "4bf43caa-908a-459d-e33d-19fece9f9836"
      },
      "execution_count": null,
      "outputs": [
        {
          "output_type": "stream",
          "name": "stdout",
          "text": [
            "782/782 [==============================] - 5s 6ms/step - loss: 0.5880 - accuracy: 0.5000\n"
          ]
        }
      ]
    },
    {
      "cell_type": "code",
      "source": [
        "examples = tf.constant([\n",
        "  \"The movie was great!\",\n",
        "  \"The movie was okay.\",\n",
        "  \"The movie was terrible...\"\n",
        "])\n",
        "\n",
        "export_model.predict(examples)"
      ],
      "metadata": {
        "colab": {
          "base_uri": "https://localhost:8080/"
        },
        "id": "Trw9sHQLcMRH",
        "outputId": "ad9e6673-1486-47d3-d860-ecbbd4175ab6"
      },
      "execution_count": null,
      "outputs": [
        {
          "output_type": "stream",
          "name": "stdout",
          "text": [
            "1/1 [==============================] - 0s 136ms/step\n"
          ]
        },
        {
          "output_type": "execute_result",
          "data": {
            "text/plain": [
              "array([[0.64572835],\n",
              "       [0.6034256 ],\n",
              "       [0.5840532 ]], dtype=float32)"
            ]
          },
          "metadata": {},
          "execution_count": 32
        }
      ]
    },
    {
      "cell_type": "markdown",
      "source": [
        "Dışarı aktardığımız modele kendi yazdığımız metinleri veriyoruz ve hepsine olumlu sonuç veriyor çünkü biz model eğitiminde 0.5'den yukarı sonuçlar için olumlu 0.5'ten düşünklere olumsuz şeklinde eğitimi yapmıştık. Dışa aktarılan model sonucunu değerlendirdiğimizde ise loss(kayıp) değeri doğruluk(accuracy) değerinden yüksek çıkması model eğitiminde sorun olduğunu ve doğru sonuç vermesinin zor olduğunu gösteriyor."
      ],
      "metadata": {
        "id": "-3PQmyfMeHbL"
      }
    },
    {
      "cell_type": "markdown",
      "source": [
        "Bu çalışmanında sonuna geldik bu çalışmanın detaylı halini tensorflow tutorial içerisindeki begginer - Basic text classification bölümünden ulaşabilirsiniz. Çalışmalarda her defasını belirtiyorum, bu çalışmalar tensorflow kütüphanesini daha iyi bir şekilde anlamak ve üzerinde çalışmak için yapıyorum. Kodlara eklediğim açıklamalar benim yorumlarım veya araştırma sonucu eklediğim metinlerdir arkadaşlar. Çalışmalarımı takip ettiğiniz için teşekkür ederim, daha yolumuz bitmedi Tensorflow yolculuğumuz devam edecek!"
      ],
      "metadata": {
        "id": "el1B62t7fb1T"
      }
    }
  ]
}