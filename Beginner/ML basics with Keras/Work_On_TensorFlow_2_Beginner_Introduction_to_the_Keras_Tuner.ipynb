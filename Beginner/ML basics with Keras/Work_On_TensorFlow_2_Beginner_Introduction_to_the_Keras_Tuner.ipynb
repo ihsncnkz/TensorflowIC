{
  "nbformat": 4,
  "nbformat_minor": 0,
  "metadata": {
    "colab": {
      "provenance": []
    },
    "kernelspec": {
      "name": "python3",
      "display_name": "Python 3"
    },
    "language_info": {
      "name": "python"
    }
  },
  "cells": [
    {
      "cell_type": "markdown",
      "source": [
        "# Giris\n",
        "Merhaba arkadaşlar, bu çalışmamızda Keras Tuner üzerinde çalışmalar yapacağız. Keras Tuner, TensorFlow programımız için en uygun hiperparametre kümesini seçmenize yardımcı olan bir kütüphanedir.<br>\n",
        "Hiperparametre, bir ML modelinin eğitim sürecini ve topolojisini yöneten değişkenlerdir.<br>\n",
        "\n",
        "Hiperparametreler iki tiptir:\n",
        "- Model hiperparametreleri, gizli katmanların (Hidden layers) sayısı, nöron sayısı, aktivasyon (activation) fonksiyonu, giriş şekli (input shape) vb. kavramlar.\n",
        "\n",
        "- Stochastic Gradient Descent (SGD) için öğrenme oranı ve k Nearest Neighbors  (KNN) sınıflandırıcısı için en yakın komşu sayısı gibi öğrenme algoritmasının hızını ve kalitesini etkileyen algoritma hiperparametreleri"
      ],
      "metadata": {
        "id": "ulbaGS7M7hWk"
      }
    },
    {
      "cell_type": "code",
      "execution_count": 1,
      "metadata": {
        "id": "8FzNTHaY7U8d"
      },
      "outputs": [],
      "source": [
        "# Kullanacagimzi Kutuphaneler\n",
        "import tensorflow as tf\n",
        "from tensorflow import keras"
      ]
    },
    {
      "cell_type": "code",
      "source": [
        "!pip install -q -U keras-tuner"
      ],
      "metadata": {
        "colab": {
          "base_uri": "https://localhost:8080/"
        },
        "id": "vCXowIyr9x6H",
        "outputId": "d3be1914-d6a1-456b-d328-41f8a2996c01"
      },
      "execution_count": 2,
      "outputs": [
        {
          "output_type": "stream",
          "name": "stdout",
          "text": [
            "\u001b[?25l   \u001b[90m━━━━━━━━━━━━━━━━━━━━━━━━━━━━━━━━━━━━━━━━\u001b[0m \u001b[32m0.0/129.1 kB\u001b[0m \u001b[31m?\u001b[0m eta \u001b[36m-:--:--\u001b[0m\r\u001b[2K   \u001b[91m━━━━━━━━━━━━━━━━━━━━━━━━━━━━━━━━━━━━━━\u001b[0m\u001b[90m╺\u001b[0m\u001b[90m━\u001b[0m \u001b[32m122.9/129.1 kB\u001b[0m \u001b[31m3.6 MB/s\u001b[0m eta \u001b[36m0:00:01\u001b[0m\r\u001b[2K   \u001b[90m━━━━━━━━━━━━━━━━━━━━━━━━━━━━━━━━━━━━━━━━\u001b[0m \u001b[32m129.1/129.1 kB\u001b[0m \u001b[31m2.6 MB/s\u001b[0m eta \u001b[36m0:00:00\u001b[0m\n",
            "\u001b[?25h"
          ]
        }
      ]
    },
    {
      "cell_type": "code",
      "source": [
        "import keras_tuner as kt"
      ],
      "metadata": {
        "id": "npr71nYW93Xz"
      },
      "execution_count": 3,
      "outputs": []
    },
    {
      "cell_type": "markdown",
      "source": [
        "# Veri Seti Aşamaları\n",
        "Bu bölümde, veri setini indirecek ve eğitim yapacağımız modeller için veri setimizi düzenleyeceğiz."
      ],
      "metadata": {
        "id": "TgbmPZ5c98Ux"
      }
    },
    {
      "cell_type": "code",
      "source": [
        "# Veri setinin indirilmesi ve train, test veri setileri olarak ayrilmasi\n",
        "(train_images, train_labels),(test_images, test_labels) = keras.datasets.fashion_mnist.load_data()"
      ],
      "metadata": {
        "colab": {
          "base_uri": "https://localhost:8080/"
        },
        "id": "mLWWvb5b97S2",
        "outputId": "5a2c27d6-54c8-41a0-a516-9da8e0653059"
      },
      "execution_count": 4,
      "outputs": [
        {
          "output_type": "stream",
          "name": "stdout",
          "text": [
            "Downloading data from https://storage.googleapis.com/tensorflow/tf-keras-datasets/train-labels-idx1-ubyte.gz\n",
            "\u001b[1m29515/29515\u001b[0m \u001b[32m━━━━━━━━━━━━━━━━━━━━\u001b[0m\u001b[37m\u001b[0m \u001b[1m0s\u001b[0m 0us/step\n",
            "Downloading data from https://storage.googleapis.com/tensorflow/tf-keras-datasets/train-images-idx3-ubyte.gz\n",
            "\u001b[1m26421880/26421880\u001b[0m \u001b[32m━━━━━━━━━━━━━━━━━━━━\u001b[0m\u001b[37m\u001b[0m \u001b[1m0s\u001b[0m 0us/step\n",
            "Downloading data from https://storage.googleapis.com/tensorflow/tf-keras-datasets/t10k-labels-idx1-ubyte.gz\n",
            "\u001b[1m5148/5148\u001b[0m \u001b[32m━━━━━━━━━━━━━━━━━━━━\u001b[0m\u001b[37m\u001b[0m \u001b[1m0s\u001b[0m 1us/step\n",
            "Downloading data from https://storage.googleapis.com/tensorflow/tf-keras-datasets/t10k-images-idx3-ubyte.gz\n",
            "\u001b[1m4422102/4422102\u001b[0m \u001b[32m━━━━━━━━━━━━━━━━━━━━\u001b[0m\u001b[37m\u001b[0m \u001b[1m0s\u001b[0m 0us/step\n"
          ]
        }
      ]
    },
    {
      "cell_type": "code",
      "source": [
        "# Piksel veri setirinden olusan image veri setilerinin icerisideki degerleri 'float32' cevirip 255.0 bolerek (0-255) arasinda olan degerleri (0-1) araligina cekiyoruz\n",
        "train_images = train_images.astype('float32') / 255.0\n",
        "test_images = test_images.astype('float32') / 255."
      ],
      "metadata": {
        "id": "9kgKTr8V_WQT"
      },
      "execution_count": 5,
      "outputs": []
    },
    {
      "cell_type": "code",
      "source": [
        "# Egitim veri kumesinin sekli\n",
        "train_images[0].shape"
      ],
      "metadata": {
        "colab": {
          "base_uri": "https://localhost:8080/"
        },
        "id": "1-FmWeYyD9Ct",
        "outputId": "2b91d4de-5abb-47db-d2a5-31f08f7067ac"
      },
      "execution_count": 8,
      "outputs": [
        {
          "output_type": "execute_result",
          "data": {
            "text/plain": [
              "(28, 28)"
            ]
          },
          "metadata": {},
          "execution_count": 8
        }
      ]
    },
    {
      "cell_type": "markdown",
      "source": [
        "# Modelin Tanmlanması\n",
        "Bu bölümde, modelimizin tasarımını Keras Tuner kullanarak yapacağız."
      ],
      "metadata": {
        "id": "8tCbv9Bo_7q9"
      }
    },
    {
      "cell_type": "code",
      "source": [
        "def model_builder(hp):\n",
        "  model = keras.Sequential()\n",
        "  # Bu seger input_shape de bir degisiklik yaptim. Direk train veri kumesini sayi ile yazmak yerine .shape kullanarak yazdim. Aslinda asagida yazan input_shape = (28, 28) aynisidir.\n",
        "  model.add(keras.layers.Flatten(input_shape = (train_images[0].shape[0], train_images[0].shape[1])))\n",
        "\n",
        "  hp_units = hp.Int('units', min_value = 32, max_value = 512, step = 32) # Dense katmaninda noron sayisini belirliyoruz.\n",
        "  model.add(keras.layers.Dense(units = hp_units, activation = 'relu'))\n",
        "  model.add(keras.layers.Dense(10))\n",
        "\n",
        "  hp_learning_rate = hp.Choice('learning_rate', values = [1e-2, 1e-3, 1e-4]) # Learning_rate ogrenme oranini belirliyoruz.\n",
        "\n",
        "  model.compile(optimizer = keras.optimizers.Adam(learning_rate = hp_learning_rate),\n",
        "                loss = keras.losses.SparseCategoricalCrossentropy(from_logits = True),\n",
        "                metrics = ['accuracy'])\n",
        "\n",
        "  return model"
      ],
      "metadata": {
        "id": "9AAiBMyJ_6qX"
      },
      "execution_count": 11,
      "outputs": []
    },
    {
      "cell_type": "markdown",
      "source": [
        "Kod hakkinda kisa bilgiler:\n",
        "- hp_units = hp.Int('units', min_value = 32, max_value = 512, step = 32): Bu satır, modelin dense katmanındaki nöron sayısını belirler. Keras Tuner, 32 ile 512 arasında bir değer seçecek ve her seferinde 32 artarak denemeler yapacaktır (örneğin: 32, 64, 96, ... 512).\n",
        "- hp_learning_rate = hp.Choice('learning_rate', values = [1e-2, 1e-3, 1e-4]): Bu satır, öğrenme oranını seçmek için Keras Tuner’a üç olasılık sunar: 0.01, 0.001 ve 0.0001. Keras Tuner bu seçeneklerden birini seçecek ve modeli farklı öğrenme oranlarıyla eğitecektir."
      ],
      "metadata": {
        "id": "AwOGHh_hFzJj"
      }
    },
    {
      "cell_type": "markdown",
      "source": [
        "# Tuner Optimizasyonu\n",
        "Keras Tuner, model hiperparametre ayarlarını yapmak için kullanılan bir araçtır. Hiperparametreler, modelin eğitimi sırasında kullanıcı tarafından belirlenen ve modelin performansını doğrudan etkileyen parametrelerdir.\n",
        "\n",
        "Keras Tuner'da Mevcut Dort Farkli Tuner vardir:\n",
        "1. RandomSearch (Rastgele Arama):\n",
        "  - Bu yöntem, belirli bir aralıkta rastgele hiperparametreler seçer ve bu hiperparametre kombinasyonlarının her birini değerlendirir. Bu, genellikle basit ama etkili bir tekniktir.\n",
        "  - Avantajı: Uygulaması kolaydır ve genellikle küçük hesaplama kaynaklarına sahip projeler için uygundur.\n",
        "  - Dezavantajı: Bazen çok büyük hiperparametre aralıklarında optimize etme süresi uzun olabilir.\n",
        "2. Hyperband:\n",
        "  - Hyperband, daha gelişmiş ve verimli bir arama yöntemidir. Bu tuner, çok sayıda denemeyi hızlı bir şekilde test eder ve performansı düşük olanları erken bir aşamada terk eder. Kalan denemeler üzerine daha fazla kaynak ayırarak en iyi hiperparametreyi bulmayı hedefler.\n",
        "  - Avantajı: Kaynakları daha verimli kullanır ve hızlı sonuçlar alabilirsiniz.\n",
        "  - Dezavantajı: Büyük arama alanlarında bile daha iyi performans gösterse de, çok fazla hesaplama kaynağı gerektirebilir.\n",
        "3. BayesianOptimization (Bayezyen Optimizasyonu):\n",
        "  - Bayezyen Optimizasyonu, olasılık teorisi ve istatistiksel modelleri kullanarak hiperparametreleri optimize eder. Bu yöntem, en uygun hiperparametreleri bulmak için geçmiş denemelerden edindiği bilgiye dayanarak daha akıllıca seçimler yapar.\n",
        "  - Avantajı: Daha az deneme yaparak daha iyi sonuçlar alabilirsiniz. Geçmiş deneyimleri dikkate alarak daha verimli bir şekilde öğrenir.\n",
        "  - Dezavantajı: Diğer yöntemlere göre daha karmaşıktır ve bazı durumlarda daha fazla hesaplama kaynağı gerektirebilir.\n",
        "4. klearn (Scikit-Learn):\n",
        "  - Sklearn, klasik makine öğrenmesi algoritmalarını kullanan bir optimizasyon yöntemidir. Scikit-learn ile uyumlu olan bu tuner, hiperparametre arama sürecini makine öğrenmesi yöntemlerine dayandırarak gerçekleştirebilir.\n",
        "  - Avantajı: Klasik makine öğrenmesi modelleri için idealdir ve hızlıdır.\n",
        "  - Dezavantajı: Derin öğrenme gibi karmaşık modellerde diğer yöntemler kadar etkili olmayabilir.\n",
        "\n",
        "Bu aşamada Hyperband'i kullanacağız.\n",
        "\n",
        "Not: Hyperband tuner'ı örneklendirmek için, hipermodeli, optimize edilecek hedefi ve eğitilecek maksimum dönem sayısını (max_epochs) belirtmeniz gerekir."
      ],
      "metadata": {
        "id": "Wevv803DGC_z"
      }
    },
    {
      "cell_type": "code",
      "source": [
        "tuner = kt.Hyperband(model_builder,\n",
        "                     objective = 'val_accuracy',\n",
        "                     max_epochs = 10,\n",
        "                     factor = 3,\n",
        "                     directory = 'my_dir',\n",
        "                     project_name = 'intro_to_kt')"
      ],
      "metadata": {
        "colab": {
          "base_uri": "https://localhost:8080/"
        },
        "id": "F05ZySZVF_ug",
        "outputId": "f830cb59-800d-42ed-bb1a-ef61aabf0880"
      },
      "execution_count": 12,
      "outputs": [
        {
          "output_type": "stream",
          "name": "stderr",
          "text": [
            "/usr/local/lib/python3.10/dist-packages/keras/src/layers/reshaping/flatten.py:37: UserWarning: Do not pass an `input_shape`/`input_dim` argument to a layer. When using Sequential models, prefer using an `Input(shape)` object as the first layer in the model instead.\n",
            "  super().__init__(**kwargs)\n"
          ]
        }
      ]
    },
    {
      "cell_type": "markdown",
      "source": [
        "Hyperband ayarlama algoritması, yüksek performanslı bir modele hızla ulaşmak için uyarlanabilir kaynak tahsisi ve erken durdurmayı kullanır. Algoritma, birkaç dönem için çok sayıda modeli eğitiyor ve modellerin yalnızca en iyi performans gösteren yarısını bir sonraki tura taşıyor. Hyperband, 1 + logfactor(max_epochs) değerini hesaplayarak ve en yakın tam sayıya yuvarlayarak bir parantez içinde eğitilecek model sayısını belirler."
      ],
      "metadata": {
        "id": "X5xQ5rpFNyr2"
      }
    },
    {
      "cell_type": "code",
      "source": [
        "stop_early = tf.keras.callbacks.EarlyStopping(monitor = 'val_loss', patience = 5)"
      ],
      "metadata": {
        "id": "H7sqSU6ENme2"
      },
      "execution_count": 13,
      "outputs": []
    },
    {
      "cell_type": "markdown",
      "source": [
        "Yukarıdakı kod, Keras'ta early stopping (erken durdurma) özelliğini tanımlar. Early stopping, modelin eğitim sürecinde belirli bir noktada performansı kötüleşmeye başladığında eğitimi erken durdurmak için kullanılır\n",
        "\n",
        "val_loss değeri 5 ardışık adım (epoch) sonunda iyileşmezse, model eğitimi durdurulur."
      ],
      "metadata": {
        "id": "Xt-zfPDMOm24"
      }
    },
    {
      "cell_type": "code",
      "source": [
        "tuner.search(train_images, train_labels, epochs = 50, validation_split = 0.2, callbacks = [stop_early])"
      ],
      "metadata": {
        "colab": {
          "base_uri": "https://localhost:8080/"
        },
        "id": "PVuc_3AnOfwx",
        "outputId": "f12e0711-2c93-4888-97c8-fdce30fa8f9f"
      },
      "execution_count": 14,
      "outputs": [
        {
          "output_type": "stream",
          "name": "stdout",
          "text": [
            "Trial 30 Complete [00h 02m 43s]\n",
            "val_accuracy: 0.8860833048820496\n",
            "\n",
            "Best val_accuracy So Far: 0.8884166479110718\n",
            "Total elapsed time: 00h 25m 12s\n"
          ]
        }
      ]
    },
    {
      "cell_type": "code",
      "source": [
        "best_hps = tuner.get_best_hyperparameters(num_trials = 1)[0]\n",
        "\n",
        "print(f\"En optimal noron sayisi: {best_hps.get('units')}, En optimal ogrenme orani: {best_hps.get('learning_rate')}\")"
      ],
      "metadata": {
        "colab": {
          "base_uri": "https://localhost:8080/"
        },
        "id": "bOl_nD09PJEG",
        "outputId": "deedfc90-4a8f-443b-bdb9-f36464ddffbb"
      },
      "execution_count": 17,
      "outputs": [
        {
          "output_type": "stream",
          "name": "stdout",
          "text": [
            "En optimal noron sayisi: 160, En optimal ogrenme orani: 0.001\n"
          ]
        }
      ]
    },
    {
      "cell_type": "markdown",
      "source": [
        "30 eğitim tamamladık ve en iyi val_accuracy (doğrulama veri kümesi ile bulunan kesinlik değeri) 0.88'dir. Bu süreç toplam 25 dakika sürmüştür. En optimal 'units' (dense layer içinde nöron sayısı) 160 olarak saptanmış ve en iyi learning_rate (öğrenme oranımız) 0.001 olarak bulunmuştur."
      ],
      "metadata": {
        "id": "y6VuVmotVOIE"
      }
    },
    {
      "cell_type": "markdown",
      "source": [
        "# Model Eğitimi\n",
        "Bu bölümde, Tuner fonksiyonu ile bulduğumuz en iyi parametreleri kullanarak modelimizi optimize edeceğiz."
      ],
      "metadata": {
        "id": "Lz2As2lMWC6D"
      }
    },
    {
      "cell_type": "code",
      "source": [
        "model = tuner.hypermodel.build(best_hps)\n",
        "history = model.fit(train_images, train_labels, epochs = 50, validation_split = 0.2)\n",
        "\n",
        "val_acc_per_epoch = history.history['val_accuracy']\n",
        "best_epoch = val_acc_per_epoch.index(max(val_acc_per_epoch)) + 1\n",
        "print(f\"En iyi epoch: {best_epoch}\")"
      ],
      "metadata": {
        "colab": {
          "base_uri": "https://localhost:8080/"
        },
        "id": "kxiABVnxUsnF",
        "outputId": "c6f68c1c-eab6-40e6-a699-e11eb52dcf16"
      },
      "execution_count": 19,
      "outputs": [
        {
          "output_type": "stream",
          "name": "stderr",
          "text": [
            "/usr/local/lib/python3.10/dist-packages/keras/src/layers/reshaping/flatten.py:37: UserWarning: Do not pass an `input_shape`/`input_dim` argument to a layer. When using Sequential models, prefer using an `Input(shape)` object as the first layer in the model instead.\n",
            "  super().__init__(**kwargs)\n"
          ]
        },
        {
          "output_type": "stream",
          "name": "stdout",
          "text": [
            "Epoch 1/50\n",
            "\u001b[1m1500/1500\u001b[0m \u001b[32m━━━━━━━━━━━━━━━━━━━━\u001b[0m\u001b[37m\u001b[0m \u001b[1m8s\u001b[0m 5ms/step - accuracy: 0.7738 - loss: 0.6570 - val_accuracy: 0.8188 - val_loss: 0.4947\n",
            "Epoch 2/50\n",
            "\u001b[1m1500/1500\u001b[0m \u001b[32m━━━━━━━━━━━━━━━━━━━━\u001b[0m\u001b[37m\u001b[0m \u001b[1m12s\u001b[0m 5ms/step - accuracy: 0.8599 - loss: 0.3898 - val_accuracy: 0.8602 - val_loss: 0.3856\n",
            "Epoch 3/50\n",
            "\u001b[1m1500/1500\u001b[0m \u001b[32m━━━━━━━━━━━━━━━━━━━━\u001b[0m\u001b[37m\u001b[0m \u001b[1m8s\u001b[0m 5ms/step - accuracy: 0.8704 - loss: 0.3549 - val_accuracy: 0.8748 - val_loss: 0.3464\n",
            "Epoch 4/50\n",
            "\u001b[1m1500/1500\u001b[0m \u001b[32m━━━━━━━━━━━━━━━━━━━━\u001b[0m\u001b[37m\u001b[0m \u001b[1m8s\u001b[0m 5ms/step - accuracy: 0.8842 - loss: 0.3163 - val_accuracy: 0.8533 - val_loss: 0.3957\n",
            "Epoch 5/50\n",
            "\u001b[1m1500/1500\u001b[0m \u001b[32m━━━━━━━━━━━━━━━━━━━━\u001b[0m\u001b[37m\u001b[0m \u001b[1m8s\u001b[0m 5ms/step - accuracy: 0.8929 - loss: 0.2959 - val_accuracy: 0.8815 - val_loss: 0.3331\n",
            "Epoch 6/50\n",
            "\u001b[1m1500/1500\u001b[0m \u001b[32m━━━━━━━━━━━━━━━━━━━━\u001b[0m\u001b[37m\u001b[0m \u001b[1m9s\u001b[0m 4ms/step - accuracy: 0.8967 - loss: 0.2805 - val_accuracy: 0.8809 - val_loss: 0.3330\n",
            "Epoch 7/50\n",
            "\u001b[1m1500/1500\u001b[0m \u001b[32m━━━━━━━━━━━━━━━━━━━━\u001b[0m\u001b[37m\u001b[0m \u001b[1m10s\u001b[0m 7ms/step - accuracy: 0.8983 - loss: 0.2684 - val_accuracy: 0.8874 - val_loss: 0.3201\n",
            "Epoch 8/50\n",
            "\u001b[1m1500/1500\u001b[0m \u001b[32m━━━━━━━━━━━━━━━━━━━━\u001b[0m\u001b[37m\u001b[0m \u001b[1m7s\u001b[0m 5ms/step - accuracy: 0.9071 - loss: 0.2511 - val_accuracy: 0.8780 - val_loss: 0.3490\n",
            "Epoch 9/50\n",
            "\u001b[1m1500/1500\u001b[0m \u001b[32m━━━━━━━━━━━━━━━━━━━━\u001b[0m\u001b[37m\u001b[0m \u001b[1m10s\u001b[0m 4ms/step - accuracy: 0.9085 - loss: 0.2426 - val_accuracy: 0.8904 - val_loss: 0.3077\n",
            "Epoch 10/50\n",
            "\u001b[1m1500/1500\u001b[0m \u001b[32m━━━━━━━━━━━━━━━━━━━━\u001b[0m\u001b[37m\u001b[0m \u001b[1m11s\u001b[0m 5ms/step - accuracy: 0.9139 - loss: 0.2339 - val_accuracy: 0.8861 - val_loss: 0.3217\n",
            "Epoch 11/50\n",
            "\u001b[1m1500/1500\u001b[0m \u001b[32m━━━━━━━━━━━━━━━━━━━━\u001b[0m\u001b[37m\u001b[0m \u001b[1m9s\u001b[0m 6ms/step - accuracy: 0.9144 - loss: 0.2282 - val_accuracy: 0.8906 - val_loss: 0.3271\n",
            "Epoch 12/50\n",
            "\u001b[1m1500/1500\u001b[0m \u001b[32m━━━━━━━━━━━━━━━━━━━━\u001b[0m\u001b[37m\u001b[0m \u001b[1m8s\u001b[0m 5ms/step - accuracy: 0.9188 - loss: 0.2209 - val_accuracy: 0.8892 - val_loss: 0.3272\n",
            "Epoch 13/50\n",
            "\u001b[1m1500/1500\u001b[0m \u001b[32m━━━━━━━━━━━━━━━━━━━━\u001b[0m\u001b[37m\u001b[0m \u001b[1m9s\u001b[0m 6ms/step - accuracy: 0.9224 - loss: 0.2072 - val_accuracy: 0.8947 - val_loss: 0.3148\n",
            "Epoch 14/50\n",
            "\u001b[1m1500/1500\u001b[0m \u001b[32m━━━━━━━━━━━━━━━━━━━━\u001b[0m\u001b[37m\u001b[0m \u001b[1m10s\u001b[0m 7ms/step - accuracy: 0.9238 - loss: 0.1989 - val_accuracy: 0.8859 - val_loss: 0.3381\n",
            "Epoch 15/50\n",
            "\u001b[1m1500/1500\u001b[0m \u001b[32m━━━━━━━━━━━━━━━━━━━━\u001b[0m\u001b[37m\u001b[0m \u001b[1m8s\u001b[0m 6ms/step - accuracy: 0.9256 - loss: 0.1973 - val_accuracy: 0.8873 - val_loss: 0.3485\n",
            "Epoch 16/50\n",
            "\u001b[1m1500/1500\u001b[0m \u001b[32m━━━━━━━━━━━━━━━━━━━━\u001b[0m\u001b[37m\u001b[0m \u001b[1m14s\u001b[0m 8ms/step - accuracy: 0.9263 - loss: 0.1911 - val_accuracy: 0.8906 - val_loss: 0.3199\n",
            "Epoch 17/50\n",
            "\u001b[1m1500/1500\u001b[0m \u001b[32m━━━━━━━━━━━━━━━━━━━━\u001b[0m\u001b[37m\u001b[0m \u001b[1m12s\u001b[0m 8ms/step - accuracy: 0.9324 - loss: 0.1821 - val_accuracy: 0.8892 - val_loss: 0.3420\n",
            "Epoch 18/50\n",
            "\u001b[1m1500/1500\u001b[0m \u001b[32m━━━━━━━━━━━━━━━━━━━━\u001b[0m\u001b[37m\u001b[0m \u001b[1m10s\u001b[0m 7ms/step - accuracy: 0.9331 - loss: 0.1779 - val_accuracy: 0.8852 - val_loss: 0.3635\n",
            "Epoch 19/50\n",
            "\u001b[1m1500/1500\u001b[0m \u001b[32m━━━━━━━━━━━━━━━━━━━━\u001b[0m\u001b[37m\u001b[0m \u001b[1m8s\u001b[0m 5ms/step - accuracy: 0.9328 - loss: 0.1804 - val_accuracy: 0.8901 - val_loss: 0.3582\n",
            "Epoch 20/50\n",
            "\u001b[1m1500/1500\u001b[0m \u001b[32m━━━━━━━━━━━━━━━━━━━━\u001b[0m\u001b[37m\u001b[0m \u001b[1m10s\u001b[0m 5ms/step - accuracy: 0.9351 - loss: 0.1713 - val_accuracy: 0.8844 - val_loss: 0.3715\n",
            "Epoch 21/50\n",
            "\u001b[1m1500/1500\u001b[0m \u001b[32m━━━━━━━━━━━━━━━━━━━━\u001b[0m\u001b[37m\u001b[0m \u001b[1m9s\u001b[0m 6ms/step - accuracy: 0.9384 - loss: 0.1627 - val_accuracy: 0.8925 - val_loss: 0.3468\n",
            "Epoch 22/50\n",
            "\u001b[1m1500/1500\u001b[0m \u001b[32m━━━━━━━━━━━━━━━━━━━━\u001b[0m\u001b[37m\u001b[0m \u001b[1m8s\u001b[0m 5ms/step - accuracy: 0.9423 - loss: 0.1582 - val_accuracy: 0.8950 - val_loss: 0.3398\n",
            "Epoch 23/50\n",
            "\u001b[1m1500/1500\u001b[0m \u001b[32m━━━━━━━━━━━━━━━━━━━━\u001b[0m\u001b[37m\u001b[0m \u001b[1m9s\u001b[0m 6ms/step - accuracy: 0.9393 - loss: 0.1578 - val_accuracy: 0.8893 - val_loss: 0.3639\n",
            "Epoch 24/50\n",
            "\u001b[1m1500/1500\u001b[0m \u001b[32m━━━━━━━━━━━━━━━━━━━━\u001b[0m\u001b[37m\u001b[0m \u001b[1m11s\u001b[0m 6ms/step - accuracy: 0.9405 - loss: 0.1563 - val_accuracy: 0.8907 - val_loss: 0.3575\n",
            "Epoch 25/50\n",
            "\u001b[1m1500/1500\u001b[0m \u001b[32m━━━━━━━━━━━━━━━━━━━━\u001b[0m\u001b[37m\u001b[0m \u001b[1m9s\u001b[0m 5ms/step - accuracy: 0.9456 - loss: 0.1462 - val_accuracy: 0.8891 - val_loss: 0.3796\n",
            "Epoch 26/50\n",
            "\u001b[1m1500/1500\u001b[0m \u001b[32m━━━━━━━━━━━━━━━━━━━━\u001b[0m\u001b[37m\u001b[0m \u001b[1m8s\u001b[0m 6ms/step - accuracy: 0.9473 - loss: 0.1406 - val_accuracy: 0.8837 - val_loss: 0.3849\n",
            "Epoch 27/50\n",
            "\u001b[1m1500/1500\u001b[0m \u001b[32m━━━━━━━━━━━━━━━━━━━━\u001b[0m\u001b[37m\u001b[0m \u001b[1m11s\u001b[0m 6ms/step - accuracy: 0.9476 - loss: 0.1370 - val_accuracy: 0.8859 - val_loss: 0.3882\n",
            "Epoch 28/50\n",
            "\u001b[1m1500/1500\u001b[0m \u001b[32m━━━━━━━━━━━━━━━━━━━━\u001b[0m\u001b[37m\u001b[0m \u001b[1m10s\u001b[0m 6ms/step - accuracy: 0.9494 - loss: 0.1347 - val_accuracy: 0.8881 - val_loss: 0.3864\n",
            "Epoch 29/50\n",
            "\u001b[1m1500/1500\u001b[0m \u001b[32m━━━━━━━━━━━━━━━━━━━━\u001b[0m\u001b[37m\u001b[0m \u001b[1m11s\u001b[0m 6ms/step - accuracy: 0.9494 - loss: 0.1328 - val_accuracy: 0.8875 - val_loss: 0.3983\n",
            "Epoch 30/50\n",
            "\u001b[1m1500/1500\u001b[0m \u001b[32m━━━━━━━━━━━━━━━━━━━━\u001b[0m\u001b[37m\u001b[0m \u001b[1m10s\u001b[0m 6ms/step - accuracy: 0.9494 - loss: 0.1347 - val_accuracy: 0.8911 - val_loss: 0.3915\n",
            "Epoch 31/50\n",
            "\u001b[1m1500/1500\u001b[0m \u001b[32m━━━━━━━━━━━━━━━━━━━━\u001b[0m\u001b[37m\u001b[0m \u001b[1m12s\u001b[0m 7ms/step - accuracy: 0.9517 - loss: 0.1274 - val_accuracy: 0.8932 - val_loss: 0.3911\n",
            "Epoch 32/50\n",
            "\u001b[1m1500/1500\u001b[0m \u001b[32m━━━━━━━━━━━━━━━━━━━━\u001b[0m\u001b[37m\u001b[0m \u001b[1m17s\u001b[0m 5ms/step - accuracy: 0.9547 - loss: 0.1220 - val_accuracy: 0.8898 - val_loss: 0.4022\n",
            "Epoch 33/50\n",
            "\u001b[1m1500/1500\u001b[0m \u001b[32m━━━━━━━━━━━━━━━━━━━━\u001b[0m\u001b[37m\u001b[0m \u001b[1m11s\u001b[0m 5ms/step - accuracy: 0.9539 - loss: 0.1249 - val_accuracy: 0.8842 - val_loss: 0.4206\n",
            "Epoch 34/50\n",
            "\u001b[1m1500/1500\u001b[0m \u001b[32m━━━━━━━━━━━━━━━━━━━━\u001b[0m\u001b[37m\u001b[0m \u001b[1m11s\u001b[0m 6ms/step - accuracy: 0.9545 - loss: 0.1211 - val_accuracy: 0.8898 - val_loss: 0.4140\n",
            "Epoch 35/50\n",
            "\u001b[1m1500/1500\u001b[0m \u001b[32m━━━━━━━━━━━━━━━━━━━━\u001b[0m\u001b[37m\u001b[0m \u001b[1m8s\u001b[0m 6ms/step - accuracy: 0.9567 - loss: 0.1136 - val_accuracy: 0.8914 - val_loss: 0.4185\n",
            "Epoch 36/50\n",
            "\u001b[1m1500/1500\u001b[0m \u001b[32m━━━━━━━━━━━━━━━━━━━━\u001b[0m\u001b[37m\u001b[0m \u001b[1m7s\u001b[0m 5ms/step - accuracy: 0.9584 - loss: 0.1138 - val_accuracy: 0.8907 - val_loss: 0.4305\n",
            "Epoch 37/50\n",
            "\u001b[1m1500/1500\u001b[0m \u001b[32m━━━━━━━━━━━━━━━━━━━━\u001b[0m\u001b[37m\u001b[0m \u001b[1m9s\u001b[0m 6ms/step - accuracy: 0.9596 - loss: 0.1074 - val_accuracy: 0.8913 - val_loss: 0.4352\n",
            "Epoch 38/50\n",
            "\u001b[1m1500/1500\u001b[0m \u001b[32m━━━━━━━━━━━━━━━━━━━━\u001b[0m\u001b[37m\u001b[0m \u001b[1m7s\u001b[0m 5ms/step - accuracy: 0.9615 - loss: 0.1036 - val_accuracy: 0.8870 - val_loss: 0.4587\n",
            "Epoch 39/50\n",
            "\u001b[1m1500/1500\u001b[0m \u001b[32m━━━━━━━━━━━━━━━━━━━━\u001b[0m\u001b[37m\u001b[0m \u001b[1m9s\u001b[0m 6ms/step - accuracy: 0.9597 - loss: 0.1047 - val_accuracy: 0.8892 - val_loss: 0.4580\n",
            "Epoch 40/50\n",
            "\u001b[1m1500/1500\u001b[0m \u001b[32m━━━━━━━━━━━━━━━━━━━━\u001b[0m\u001b[37m\u001b[0m \u001b[1m8s\u001b[0m 5ms/step - accuracy: 0.9631 - loss: 0.0974 - val_accuracy: 0.8875 - val_loss: 0.4471\n",
            "Epoch 41/50\n",
            "\u001b[1m1500/1500\u001b[0m \u001b[32m━━━━━━━━━━━━━━━━━━━━\u001b[0m\u001b[37m\u001b[0m \u001b[1m9s\u001b[0m 6ms/step - accuracy: 0.9625 - loss: 0.1010 - val_accuracy: 0.8903 - val_loss: 0.4447\n",
            "Epoch 42/50\n",
            "\u001b[1m1500/1500\u001b[0m \u001b[32m━━━━━━━━━━━━━━━━━━━━\u001b[0m\u001b[37m\u001b[0m \u001b[1m10s\u001b[0m 6ms/step - accuracy: 0.9641 - loss: 0.0956 - val_accuracy: 0.8905 - val_loss: 0.4491\n",
            "Epoch 43/50\n",
            "\u001b[1m1500/1500\u001b[0m \u001b[32m━━━━━━━━━━━━━━━━━━━━\u001b[0m\u001b[37m\u001b[0m \u001b[1m7s\u001b[0m 5ms/step - accuracy: 0.9658 - loss: 0.0940 - val_accuracy: 0.8842 - val_loss: 0.4997\n",
            "Epoch 44/50\n",
            "\u001b[1m1500/1500\u001b[0m \u001b[32m━━━━━━━━━━━━━━━━━━━━\u001b[0m\u001b[37m\u001b[0m \u001b[1m9s\u001b[0m 6ms/step - accuracy: 0.9647 - loss: 0.0956 - val_accuracy: 0.8879 - val_loss: 0.4832\n",
            "Epoch 45/50\n",
            "\u001b[1m1500/1500\u001b[0m \u001b[32m━━━━━━━━━━━━━━━━━━━━\u001b[0m\u001b[37m\u001b[0m \u001b[1m7s\u001b[0m 5ms/step - accuracy: 0.9647 - loss: 0.0910 - val_accuracy: 0.8900 - val_loss: 0.4673\n",
            "Epoch 46/50\n",
            "\u001b[1m1500/1500\u001b[0m \u001b[32m━━━━━━━━━━━━━━━━━━━━\u001b[0m\u001b[37m\u001b[0m \u001b[1m10s\u001b[0m 5ms/step - accuracy: 0.9666 - loss: 0.0923 - val_accuracy: 0.8831 - val_loss: 0.5272\n",
            "Epoch 47/50\n",
            "\u001b[1m1500/1500\u001b[0m \u001b[32m━━━━━━━━━━━━━━━━━━━━\u001b[0m\u001b[37m\u001b[0m \u001b[1m12s\u001b[0m 6ms/step - accuracy: 0.9651 - loss: 0.0927 - val_accuracy: 0.8932 - val_loss: 0.4875\n",
            "Epoch 48/50\n",
            "\u001b[1m1500/1500\u001b[0m \u001b[32m━━━━━━━━━━━━━━━━━━━━\u001b[0m\u001b[37m\u001b[0m \u001b[1m10s\u001b[0m 6ms/step - accuracy: 0.9678 - loss: 0.0864 - val_accuracy: 0.8903 - val_loss: 0.4720\n",
            "Epoch 49/50\n",
            "\u001b[1m1500/1500\u001b[0m \u001b[32m━━━━━━━━━━━━━━━━━━━━\u001b[0m\u001b[37m\u001b[0m \u001b[1m9s\u001b[0m 5ms/step - accuracy: 0.9670 - loss: 0.0901 - val_accuracy: 0.8911 - val_loss: 0.4968\n",
            "Epoch 50/50\n",
            "\u001b[1m1500/1500\u001b[0m \u001b[32m━━━━━━━━━━━━━━━━━━━━\u001b[0m\u001b[37m\u001b[0m \u001b[1m9s\u001b[0m 5ms/step - accuracy: 0.9712 - loss: 0.0792 - val_accuracy: 0.8872 - val_loss: 0.5044\n",
            "En iyi epoch: 22\n"
          ]
        }
      ]
    },
    {
      "cell_type": "code",
      "source": [
        "# En iyi epoch degerini kullanarak yeni bir egitim gerceklestirecegiz\n",
        "hypermodel = tuner.hypermodel.build(best_hps)\n",
        "\n",
        "hypermodel.fit(train_images, train_labels, epochs = best_epoch, validation_split = 0.2)"
      ],
      "metadata": {
        "colab": {
          "base_uri": "https://localhost:8080/"
        },
        "id": "Y9wqk76CUsk7",
        "outputId": "842f3119-cc81-4a89-b461-7bb4a1688202"
      },
      "execution_count": 20,
      "outputs": [
        {
          "output_type": "stream",
          "name": "stderr",
          "text": [
            "/usr/local/lib/python3.10/dist-packages/keras/src/layers/reshaping/flatten.py:37: UserWarning: Do not pass an `input_shape`/`input_dim` argument to a layer. When using Sequential models, prefer using an `Input(shape)` object as the first layer in the model instead.\n",
            "  super().__init__(**kwargs)\n"
          ]
        },
        {
          "output_type": "stream",
          "name": "stdout",
          "text": [
            "Epoch 1/22\n",
            "\u001b[1m1500/1500\u001b[0m \u001b[32m━━━━━━━━━━━━━━━━━━━━\u001b[0m\u001b[37m\u001b[0m \u001b[1m9s\u001b[0m 6ms/step - accuracy: 0.7759 - loss: 0.6416 - val_accuracy: 0.8477 - val_loss: 0.4201\n",
            "Epoch 2/22\n",
            "\u001b[1m1500/1500\u001b[0m \u001b[32m━━━━━━━━━━━━━━━━━━━━\u001b[0m\u001b[37m\u001b[0m \u001b[1m9s\u001b[0m 6ms/step - accuracy: 0.8578 - loss: 0.3956 - val_accuracy: 0.8717 - val_loss: 0.3617\n",
            "Epoch 3/22\n",
            "\u001b[1m1500/1500\u001b[0m \u001b[32m━━━━━━━━━━━━━━━━━━━━\u001b[0m\u001b[37m\u001b[0m \u001b[1m11s\u001b[0m 8ms/step - accuracy: 0.8765 - loss: 0.3437 - val_accuracy: 0.8687 - val_loss: 0.3664\n",
            "Epoch 4/22\n",
            "\u001b[1m1500/1500\u001b[0m \u001b[32m━━━━━━━━━━━━━━━━━━━━\u001b[0m\u001b[37m\u001b[0m \u001b[1m17s\u001b[0m 5ms/step - accuracy: 0.8841 - loss: 0.3140 - val_accuracy: 0.8811 - val_loss: 0.3330\n",
            "Epoch 5/22\n",
            "\u001b[1m1500/1500\u001b[0m \u001b[32m━━━━━━━━━━━━━━━━━━━━\u001b[0m\u001b[37m\u001b[0m \u001b[1m10s\u001b[0m 6ms/step - accuracy: 0.8883 - loss: 0.3012 - val_accuracy: 0.8785 - val_loss: 0.3385\n",
            "Epoch 6/22\n",
            "\u001b[1m1500/1500\u001b[0m \u001b[32m━━━━━━━━━━━━━━━━━━━━\u001b[0m\u001b[37m\u001b[0m \u001b[1m10s\u001b[0m 6ms/step - accuracy: 0.8958 - loss: 0.2859 - val_accuracy: 0.8737 - val_loss: 0.3485\n",
            "Epoch 7/22\n",
            "\u001b[1m1500/1500\u001b[0m \u001b[32m━━━━━━━━━━━━━━━━━━━━\u001b[0m\u001b[37m\u001b[0m \u001b[1m9s\u001b[0m 6ms/step - accuracy: 0.9004 - loss: 0.2659 - val_accuracy: 0.8842 - val_loss: 0.3317\n",
            "Epoch 8/22\n",
            "\u001b[1m1500/1500\u001b[0m \u001b[32m━━━━━━━━━━━━━━━━━━━━\u001b[0m\u001b[37m\u001b[0m \u001b[1m11s\u001b[0m 6ms/step - accuracy: 0.9050 - loss: 0.2543 - val_accuracy: 0.8879 - val_loss: 0.3180\n",
            "Epoch 9/22\n",
            "\u001b[1m1500/1500\u001b[0m \u001b[32m━━━━━━━━━━━━━━━━━━━━\u001b[0m\u001b[37m\u001b[0m \u001b[1m11s\u001b[0m 6ms/step - accuracy: 0.9114 - loss: 0.2415 - val_accuracy: 0.8843 - val_loss: 0.3313\n",
            "Epoch 10/22\n",
            "\u001b[1m1500/1500\u001b[0m \u001b[32m━━━━━━━━━━━━━━━━━━━━\u001b[0m\u001b[37m\u001b[0m \u001b[1m8s\u001b[0m 4ms/step - accuracy: 0.9128 - loss: 0.2347 - val_accuracy: 0.8824 - val_loss: 0.3317\n",
            "Epoch 11/22\n",
            "\u001b[1m1500/1500\u001b[0m \u001b[32m━━━━━━━━━━━━━━━━━━━━\u001b[0m\u001b[37m\u001b[0m \u001b[1m11s\u001b[0m 5ms/step - accuracy: 0.9135 - loss: 0.2293 - val_accuracy: 0.8852 - val_loss: 0.3362\n",
            "Epoch 12/22\n",
            "\u001b[1m1500/1500\u001b[0m \u001b[32m━━━━━━━━━━━━━━━━━━━━\u001b[0m\u001b[37m\u001b[0m \u001b[1m9s\u001b[0m 6ms/step - accuracy: 0.9180 - loss: 0.2175 - val_accuracy: 0.8846 - val_loss: 0.3356\n",
            "Epoch 13/22\n",
            "\u001b[1m1500/1500\u001b[0m \u001b[32m━━━━━━━━━━━━━━━━━━━━\u001b[0m\u001b[37m\u001b[0m \u001b[1m8s\u001b[0m 5ms/step - accuracy: 0.9210 - loss: 0.2092 - val_accuracy: 0.8892 - val_loss: 0.3289\n",
            "Epoch 14/22\n",
            "\u001b[1m1500/1500\u001b[0m \u001b[32m━━━━━━━━━━━━━━━━━━━━\u001b[0m\u001b[37m\u001b[0m \u001b[1m10s\u001b[0m 5ms/step - accuracy: 0.9238 - loss: 0.2059 - val_accuracy: 0.8848 - val_loss: 0.3423\n",
            "Epoch 15/22\n",
            "\u001b[1m1500/1500\u001b[0m \u001b[32m━━━━━━━━━━━━━━━━━━━━\u001b[0m\u001b[37m\u001b[0m \u001b[1m9s\u001b[0m 6ms/step - accuracy: 0.9240 - loss: 0.2004 - val_accuracy: 0.8882 - val_loss: 0.3258\n",
            "Epoch 16/22\n",
            "\u001b[1m1500/1500\u001b[0m \u001b[32m━━━━━━━━━━━━━━━━━━━━\u001b[0m\u001b[37m\u001b[0m \u001b[1m7s\u001b[0m 5ms/step - accuracy: 0.9271 - loss: 0.1924 - val_accuracy: 0.8867 - val_loss: 0.3421\n",
            "Epoch 17/22\n",
            "\u001b[1m1500/1500\u001b[0m \u001b[32m━━━━━━━━━━━━━━━━━━━━\u001b[0m\u001b[37m\u001b[0m \u001b[1m9s\u001b[0m 6ms/step - accuracy: 0.9289 - loss: 0.1863 - val_accuracy: 0.8923 - val_loss: 0.3331\n",
            "Epoch 18/22\n",
            "\u001b[1m1500/1500\u001b[0m \u001b[32m━━━━━━━━━━━━━━━━━━━━\u001b[0m\u001b[37m\u001b[0m \u001b[1m8s\u001b[0m 5ms/step - accuracy: 0.9316 - loss: 0.1821 - val_accuracy: 0.8865 - val_loss: 0.3480\n",
            "Epoch 19/22\n",
            "\u001b[1m1500/1500\u001b[0m \u001b[32m━━━━━━━━━━━━━━━━━━━━\u001b[0m\u001b[37m\u001b[0m \u001b[1m8s\u001b[0m 5ms/step - accuracy: 0.9361 - loss: 0.1730 - val_accuracy: 0.8933 - val_loss: 0.3333\n",
            "Epoch 20/22\n",
            "\u001b[1m1500/1500\u001b[0m \u001b[32m━━━━━━━━━━━━━━━━━━━━\u001b[0m\u001b[37m\u001b[0m \u001b[1m9s\u001b[0m 6ms/step - accuracy: 0.9369 - loss: 0.1668 - val_accuracy: 0.8912 - val_loss: 0.3301\n",
            "Epoch 21/22\n",
            "\u001b[1m1500/1500\u001b[0m \u001b[32m━━━━━━━━━━━━━━━━━━━━\u001b[0m\u001b[37m\u001b[0m \u001b[1m7s\u001b[0m 4ms/step - accuracy: 0.9370 - loss: 0.1652 - val_accuracy: 0.8918 - val_loss: 0.3371\n",
            "Epoch 22/22\n",
            "\u001b[1m1500/1500\u001b[0m \u001b[32m━━━━━━━━━━━━━━━━━━━━\u001b[0m\u001b[37m\u001b[0m \u001b[1m9s\u001b[0m 6ms/step - accuracy: 0.9404 - loss: 0.1617 - val_accuracy: 0.8900 - val_loss: 0.3512\n"
          ]
        },
        {
          "output_type": "execute_result",
          "data": {
            "text/plain": [
              "<keras.src.callbacks.history.History at 0x7eb5829b9b70>"
            ]
          },
          "metadata": {},
          "execution_count": 20
        }
      ]
    },
    {
      "cell_type": "code",
      "source": [
        "eval_result = hypermodel.evaluate(test_images, test_labels)\n",
        "print(f\"[test loss(kayip), test accuracy(kesinlik)]: \", eval_result)"
      ],
      "metadata": {
        "colab": {
          "base_uri": "https://localhost:8080/"
        },
        "id": "33uyUCexbLyT",
        "outputId": "cd7b525a-0a82-417b-b5c8-2beac0dd234a"
      },
      "execution_count": 21,
      "outputs": [
        {
          "output_type": "stream",
          "name": "stdout",
          "text": [
            "\u001b[1m313/313\u001b[0m \u001b[32m━━━━━━━━━━━━━━━━━━━━\u001b[0m\u001b[37m\u001b[0m \u001b[1m1s\u001b[0m 2ms/step - accuracy: 0.8854 - loss: 0.3768\n",
            "[test loss(kayip), test accuracy(kesinlik)]:  [0.38698822259902954, 0.8815000057220459]\n"
          ]
        }
      ]
    },
    {
      "cell_type": "markdown",
      "source": [
        "# Sonuc\n",
        "Introduction to the Keras Tuner (Keras Tuner'a giriş) bölümünün sonuna geldik. Bu çalışmada, Keras Tuner fonksiyonunu nasıl uygulayacağımızdan bahsettik. Umarım çalışmam sizin için faydalı olmuştur. İyi günler, iyi çalışmalar dilerim.\n",
        "\n",
        "Aşağıdaki Linklerden beni takip edebilir ve yapacağım çalışmalardan haberdar olabilirsiniz!<br>\n",
        "[Linkedin](https://www.linkedin.com/in/ihsancenkiz/)<br>\n",
        "[Github](https://github.com/ihsncnkz)<br>\n",
        "[Kaggle](https://www.kaggle.com/ihsncnkz)"
      ],
      "metadata": {
        "id": "gD9ad3v_cOJm"
      }
    }
  ]
}