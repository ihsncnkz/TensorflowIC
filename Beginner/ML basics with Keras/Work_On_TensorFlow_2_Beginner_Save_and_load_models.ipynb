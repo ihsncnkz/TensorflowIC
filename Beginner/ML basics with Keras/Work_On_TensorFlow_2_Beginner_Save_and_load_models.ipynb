{
  "nbformat": 4,
  "nbformat_minor": 0,
  "metadata": {
    "colab": {
      "provenance": []
    },
    "kernelspec": {
      "name": "python3",
      "display_name": "Python 3"
    },
    "language_info": {
      "name": "python"
    }
  },
  "cells": [
    {
      "cell_type": "markdown",
      "source": [
        "# Giris\n",
        "Bu çalışma, eğittiğimiz modelin sonucunu kaydetmeyi ve daha sonra farklı veri setleri üzerinde yapacağımız eğitimlerde kullanabilmeyi amaçlamaktadır."
      ],
      "metadata": {
        "id": "h5mXbphjPG0O"
      }
    },
    {
      "cell_type": "code",
      "execution_count": 1,
      "metadata": {
        "colab": {
          "base_uri": "https://localhost:8080/"
        },
        "id": "F4ijc4rtOsdh",
        "outputId": "08b961e6-2270-4449-96da-112531855fff"
      },
      "outputs": [
        {
          "output_type": "stream",
          "name": "stdout",
          "text": [
            "Requirement already satisfied: pyyaml in /usr/local/lib/python3.10/dist-packages (6.0.2)\n",
            "Requirement already satisfied: h5py in /usr/local/lib/python3.10/dist-packages (3.12.1)\n",
            "Requirement already satisfied: numpy>=1.19.3 in /usr/local/lib/python3.10/dist-packages (from h5py) (1.26.4)\n"
          ]
        }
      ],
      "source": [
        "# Projede kullanacagimiz kutuphaneyi indirelim\n",
        "!pip install pyyaml h5py"
      ]
    },
    {
      "cell_type": "code",
      "source": [
        "# Kullanacagimiz Kutuphaneleri Yukleyelim\n",
        "import os\n",
        "import tensorflow as tf\n",
        "from tensorflow import keras\n",
        "\n",
        "print(tf.version.VERSION)"
      ],
      "metadata": {
        "colab": {
          "base_uri": "https://localhost:8080/"
        },
        "id": "gvVTnZjMRyVf",
        "outputId": "1d1ec6ea-d974-428f-f44f-78e08f4312b7"
      },
      "execution_count": 2,
      "outputs": [
        {
          "output_type": "stream",
          "name": "stdout",
          "text": [
            "2.17.0\n"
          ]
        }
      ]
    },
    {
      "cell_type": "markdown",
      "source": [
        "## Veri Seti\n",
        "Eğitimde kullanacağımız MNIST veri kümesinin indirilmesi ve hazırlık aşamalarını gerçekleştirelim"
      ],
      "metadata": {
        "id": "b8TShexpSIM5"
      }
    },
    {
      "cell_type": "code",
      "source": [
        "(train_images, train_labels),(test_images, test_labels) = tf.keras. datasets.mnist.load_data()"
      ],
      "metadata": {
        "colab": {
          "base_uri": "https://localhost:8080/"
        },
        "id": "d4STUJZaR444",
        "outputId": "4f5602e6-3320-4fed-e05e-f39f25bec8ca"
      },
      "execution_count": 3,
      "outputs": [
        {
          "output_type": "stream",
          "name": "stdout",
          "text": [
            "Downloading data from https://storage.googleapis.com/tensorflow/tf-keras-datasets/mnist.npz\n",
            "\u001b[1m11490434/11490434\u001b[0m \u001b[32m━━━━━━━━━━━━━━━━━━━━\u001b[0m\u001b[37m\u001b[0m \u001b[1m0s\u001b[0m 0us/step\n"
          ]
        }
      ]
    },
    {
      "cell_type": "code",
      "source": [
        "train_labels = train_labels[:1000] # Ilk 1000 veriyi aliyoruz\n",
        "test_labels = test_labels[:1000] # Ilk 1000 veriyi aliyoruz\n",
        "\n",
        "train_images = train_images[:1000].reshape(-1, 28 * 28) / 255.0 # Resimlerin boytunu (28x28) den tek boyutlu hala getiriyoruz (784), 255'e bolerek (0-255) boyutundaki pikselleri (0-1) arasina cekiyoruz.\n",
        "test_images = test_images[:1000].reshape(-1, 28 * 28) / 255.0"
      ],
      "metadata": {
        "id": "rjf-sLsgTCdW"
      },
      "execution_count": 4,
      "outputs": []
    },
    {
      "cell_type": "markdown",
      "source": [
        "## Model\n",
        "Kullanacağımız modeli oluşturma aşaması."
      ],
      "metadata": {
        "id": "vhvpOipNUsNG"
      }
    },
    {
      "cell_type": "code",
      "source": [
        "def create_model():\n",
        "  model = tf.keras.Sequential([\n",
        "      keras.layers.Dense(512, activation = 'relu', input_shape = (784,)),\n",
        "      keras.layers.Dropout(0.2),\n",
        "      keras.layers.Dense(10)\n",
        "  ])\n",
        "\n",
        "  model.compile(optimizer = 'adam',\n",
        "                loss = tf.keras.losses.SparseCategoricalCrossentropy(from_logits = True),\n",
        "                metrics = [tf.keras.metrics.SparseCategoricalAccuracy()])\n",
        "\n",
        "  return model\n",
        "\n",
        "model = create_model()\n",
        "\n",
        "model.summary()"
      ],
      "metadata": {
        "colab": {
          "base_uri": "https://localhost:8080/",
          "height": 293
        },
        "id": "6IcNCXgTThp0",
        "outputId": "5ca9528d-3eac-4c9b-a03c-2f1478d320fc"
      },
      "execution_count": 5,
      "outputs": [
        {
          "output_type": "stream",
          "name": "stderr",
          "text": [
            "/usr/local/lib/python3.10/dist-packages/keras/src/layers/core/dense.py:87: UserWarning: Do not pass an `input_shape`/`input_dim` argument to a layer. When using Sequential models, prefer using an `Input(shape)` object as the first layer in the model instead.\n",
            "  super().__init__(activity_regularizer=activity_regularizer, **kwargs)\n"
          ]
        },
        {
          "output_type": "display_data",
          "data": {
            "text/plain": [
              "\u001b[1mModel: \"sequential\"\u001b[0m\n"
            ],
            "text/html": [
              "<pre style=\"white-space:pre;overflow-x:auto;line-height:normal;font-family:Menlo,'DejaVu Sans Mono',consolas,'Courier New',monospace\"><span style=\"font-weight: bold\">Model: \"sequential\"</span>\n",
              "</pre>\n"
            ]
          },
          "metadata": {}
        },
        {
          "output_type": "display_data",
          "data": {
            "text/plain": [
              "┏━━━━━━━━━━━━━━━━━━━━━━━━━━━━━━━━━━━━━━┳━━━━━━━━━━━━━━━━━━━━━━━━━━━━━┳━━━━━━━━━━━━━━━━━┓\n",
              "┃\u001b[1m \u001b[0m\u001b[1mLayer (type)                        \u001b[0m\u001b[1m \u001b[0m┃\u001b[1m \u001b[0m\u001b[1mOutput Shape               \u001b[0m\u001b[1m \u001b[0m┃\u001b[1m \u001b[0m\u001b[1m        Param #\u001b[0m\u001b[1m \u001b[0m┃\n",
              "┡━━━━━━━━━━━━━━━━━━━━━━━━━━━━━━━━━━━━━━╇━━━━━━━━━━━━━━━━━━━━━━━━━━━━━╇━━━━━━━━━━━━━━━━━┩\n",
              "│ dense (\u001b[38;5;33mDense\u001b[0m)                        │ (\u001b[38;5;45mNone\u001b[0m, \u001b[38;5;34m512\u001b[0m)                 │         \u001b[38;5;34m401,920\u001b[0m │\n",
              "├──────────────────────────────────────┼─────────────────────────────┼─────────────────┤\n",
              "│ dropout (\u001b[38;5;33mDropout\u001b[0m)                    │ (\u001b[38;5;45mNone\u001b[0m, \u001b[38;5;34m512\u001b[0m)                 │               \u001b[38;5;34m0\u001b[0m │\n",
              "├──────────────────────────────────────┼─────────────────────────────┼─────────────────┤\n",
              "│ dense_1 (\u001b[38;5;33mDense\u001b[0m)                      │ (\u001b[38;5;45mNone\u001b[0m, \u001b[38;5;34m10\u001b[0m)                  │           \u001b[38;5;34m5,130\u001b[0m │\n",
              "└──────────────────────────────────────┴─────────────────────────────┴─────────────────┘\n"
            ],
            "text/html": [
              "<pre style=\"white-space:pre;overflow-x:auto;line-height:normal;font-family:Menlo,'DejaVu Sans Mono',consolas,'Courier New',monospace\">┏━━━━━━━━━━━━━━━━━━━━━━━━━━━━━━━━━━━━━━┳━━━━━━━━━━━━━━━━━━━━━━━━━━━━━┳━━━━━━━━━━━━━━━━━┓\n",
              "┃<span style=\"font-weight: bold\"> Layer (type)                         </span>┃<span style=\"font-weight: bold\"> Output Shape                </span>┃<span style=\"font-weight: bold\">         Param # </span>┃\n",
              "┡━━━━━━━━━━━━━━━━━━━━━━━━━━━━━━━━━━━━━━╇━━━━━━━━━━━━━━━━━━━━━━━━━━━━━╇━━━━━━━━━━━━━━━━━┩\n",
              "│ dense (<span style=\"color: #0087ff; text-decoration-color: #0087ff\">Dense</span>)                        │ (<span style=\"color: #00d7ff; text-decoration-color: #00d7ff\">None</span>, <span style=\"color: #00af00; text-decoration-color: #00af00\">512</span>)                 │         <span style=\"color: #00af00; text-decoration-color: #00af00\">401,920</span> │\n",
              "├──────────────────────────────────────┼─────────────────────────────┼─────────────────┤\n",
              "│ dropout (<span style=\"color: #0087ff; text-decoration-color: #0087ff\">Dropout</span>)                    │ (<span style=\"color: #00d7ff; text-decoration-color: #00d7ff\">None</span>, <span style=\"color: #00af00; text-decoration-color: #00af00\">512</span>)                 │               <span style=\"color: #00af00; text-decoration-color: #00af00\">0</span> │\n",
              "├──────────────────────────────────────┼─────────────────────────────┼─────────────────┤\n",
              "│ dense_1 (<span style=\"color: #0087ff; text-decoration-color: #0087ff\">Dense</span>)                      │ (<span style=\"color: #00d7ff; text-decoration-color: #00d7ff\">None</span>, <span style=\"color: #00af00; text-decoration-color: #00af00\">10</span>)                  │           <span style=\"color: #00af00; text-decoration-color: #00af00\">5,130</span> │\n",
              "└──────────────────────────────────────┴─────────────────────────────┴─────────────────┘\n",
              "</pre>\n"
            ]
          },
          "metadata": {}
        },
        {
          "output_type": "display_data",
          "data": {
            "text/plain": [
              "\u001b[1m Total params: \u001b[0m\u001b[38;5;34m407,050\u001b[0m (1.55 MB)\n"
            ],
            "text/html": [
              "<pre style=\"white-space:pre;overflow-x:auto;line-height:normal;font-family:Menlo,'DejaVu Sans Mono',consolas,'Courier New',monospace\"><span style=\"font-weight: bold\"> Total params: </span><span style=\"color: #00af00; text-decoration-color: #00af00\">407,050</span> (1.55 MB)\n",
              "</pre>\n"
            ]
          },
          "metadata": {}
        },
        {
          "output_type": "display_data",
          "data": {
            "text/plain": [
              "\u001b[1m Trainable params: \u001b[0m\u001b[38;5;34m407,050\u001b[0m (1.55 MB)\n"
            ],
            "text/html": [
              "<pre style=\"white-space:pre;overflow-x:auto;line-height:normal;font-family:Menlo,'DejaVu Sans Mono',consolas,'Courier New',monospace\"><span style=\"font-weight: bold\"> Trainable params: </span><span style=\"color: #00af00; text-decoration-color: #00af00\">407,050</span> (1.55 MB)\n",
              "</pre>\n"
            ]
          },
          "metadata": {}
        },
        {
          "output_type": "display_data",
          "data": {
            "text/plain": [
              "\u001b[1m Non-trainable params: \u001b[0m\u001b[38;5;34m0\u001b[0m (0.00 B)\n"
            ],
            "text/html": [
              "<pre style=\"white-space:pre;overflow-x:auto;line-height:normal;font-family:Menlo,'DejaVu Sans Mono',consolas,'Courier New',monospace\"><span style=\"font-weight: bold\"> Non-trainable params: </span><span style=\"color: #00af00; text-decoration-color: #00af00\">0</span> (0.00 B)\n",
              "</pre>\n"
            ]
          },
          "metadata": {}
        }
      ]
    },
    {
      "cell_type": "markdown",
      "source": [
        "# Eğitim sırasında kontrol noktalarını kaydedin\n",
        "Modelimizi eğitirken bir kesinti olduğunda kaldığımız yerden devam edebilir ve kaydettiğimiz model ile yeniden eğitim yapabiliriz.\n",
        "\n",
        "**tf.keras.callbacks.ModelCheckpoint** fonksiyonu sayesinde modelimizi hem eğitim sırasında hem de eğitim sonunda kaydedebileceğiz."
      ],
      "metadata": {
        "id": "aIqaMW9RV_fE"
      }
    },
    {
      "cell_type": "code",
      "source": [
        "# Kayit edecegimiz model ciktilarinin dosyasini olusturuyrum. If komutu kullanma nedenim eger bu dosyaya benzer bir dosya var ise yeni bir tane olusturma\n",
        "if not os.path.exists('/content/training_1'):\n",
        "  os.mkdir('/content/training_1')\n",
        "\n",
        "checkpoint_path = '/content/training_1/Model_save.weights.h5'\n",
        "checkpoint_dir =  os.path.dirname(checkpoint_path)\n",
        "\n",
        "# Kayit islemini yapacak fonksiyon olusturulmasi\n",
        "cp_callback = tf.keras.callbacks.ModelCheckpoint(filepath = checkpoint_path,\n",
        "                                                 save_weights_only = True,\n",
        "                                                 verbose = 1)\n",
        "\n",
        "# Egitim\n",
        "model.fit(train_images,\n",
        "          train_labels,\n",
        "          epochs = 10,\n",
        "          validation_data = (test_images, test_labels),\n",
        "          callbacks = [cp_callback])"
      ],
      "metadata": {
        "colab": {
          "base_uri": "https://localhost:8080/"
        },
        "id": "Bdn7kUJwVl_d",
        "outputId": "78401c4a-7eef-4e26-a416-92415a9b2206"
      },
      "execution_count": 6,
      "outputs": [
        {
          "output_type": "stream",
          "name": "stdout",
          "text": [
            "Epoch 1/10\n",
            "\u001b[1m31/32\u001b[0m \u001b[32m━━━━━━━━━━━━━━━━━━━\u001b[0m\u001b[37m━\u001b[0m \u001b[1m0s\u001b[0m 17ms/step - loss: 1.6203 - sparse_categorical_accuracy: 0.4996\n",
            "Epoch 1: saving model to /content/training_1/Model_save.weights.h5\n",
            "\u001b[1m32/32\u001b[0m \u001b[32m━━━━━━━━━━━━━━━━━━━━\u001b[0m\u001b[37m\u001b[0m \u001b[1m3s\u001b[0m 38ms/step - loss: 1.5917 - sparse_categorical_accuracy: 0.5105 - val_loss: 0.7066 - val_sparse_categorical_accuracy: 0.7750\n",
            "Epoch 2/10\n",
            "\u001b[1m32/32\u001b[0m \u001b[32m━━━━━━━━━━━━━━━━━━━━\u001b[0m\u001b[37m\u001b[0m \u001b[1m0s\u001b[0m 15ms/step - loss: 0.4597 - sparse_categorical_accuracy: 0.8815\n",
            "Epoch 2: saving model to /content/training_1/Model_save.weights.h5\n",
            "\u001b[1m32/32\u001b[0m \u001b[32m━━━━━━━━━━━━━━━━━━━━\u001b[0m\u001b[37m\u001b[0m \u001b[1m2s\u001b[0m 22ms/step - loss: 0.4589 - sparse_categorical_accuracy: 0.8816 - val_loss: 0.5222 - val_sparse_categorical_accuracy: 0.8280\n",
            "Epoch 3/10\n",
            "\u001b[1m32/32\u001b[0m \u001b[32m━━━━━━━━━━━━━━━━━━━━\u001b[0m\u001b[37m\u001b[0m \u001b[1m0s\u001b[0m 12ms/step - loss: 0.2943 - sparse_categorical_accuracy: 0.9301\n",
            "Epoch 3: saving model to /content/training_1/Model_save.weights.h5\n",
            "\u001b[1m32/32\u001b[0m \u001b[32m━━━━━━━━━━━━━━━━━━━━\u001b[0m\u001b[37m\u001b[0m \u001b[1m1s\u001b[0m 20ms/step - loss: 0.2937 - sparse_categorical_accuracy: 0.9303 - val_loss: 0.4833 - val_sparse_categorical_accuracy: 0.8330\n",
            "Epoch 4/10\n",
            "\u001b[1m32/32\u001b[0m \u001b[32m━━━━━━━━━━━━━━━━━━━━\u001b[0m\u001b[37m\u001b[0m \u001b[1m0s\u001b[0m 12ms/step - loss: 0.1884 - sparse_categorical_accuracy: 0.9552\n",
            "Epoch 4: saving model to /content/training_1/Model_save.weights.h5\n",
            "\u001b[1m32/32\u001b[0m \u001b[32m━━━━━━━━━━━━━━━━━━━━\u001b[0m\u001b[37m\u001b[0m \u001b[1m1s\u001b[0m 25ms/step - loss: 0.1893 - sparse_categorical_accuracy: 0.9548 - val_loss: 0.4173 - val_sparse_categorical_accuracy: 0.8690\n",
            "Epoch 5/10\n",
            "\u001b[1m29/32\u001b[0m \u001b[32m━━━━━━━━━━━━━━━━━━\u001b[0m\u001b[37m━━\u001b[0m \u001b[1m0s\u001b[0m 12ms/step - loss: 0.1390 - sparse_categorical_accuracy: 0.9769\n",
            "Epoch 5: saving model to /content/training_1/Model_save.weights.h5\n",
            "\u001b[1m32/32\u001b[0m \u001b[32m━━━━━━━━━━━━━━━━━━━━\u001b[0m\u001b[37m\u001b[0m \u001b[1m1s\u001b[0m 16ms/step - loss: 0.1408 - sparse_categorical_accuracy: 0.9757 - val_loss: 0.4267 - val_sparse_categorical_accuracy: 0.8740\n",
            "Epoch 6/10\n",
            "\u001b[1m28/32\u001b[0m \u001b[32m━━━━━━━━━━━━━━━━━\u001b[0m\u001b[37m━━━\u001b[0m \u001b[1m0s\u001b[0m 8ms/step - loss: 0.1316 - sparse_categorical_accuracy: 0.9781\n",
            "Epoch 6: saving model to /content/training_1/Model_save.weights.h5\n",
            "\u001b[1m32/32\u001b[0m \u001b[32m━━━━━━━━━━━━━━━━━━━━\u001b[0m\u001b[37m\u001b[0m \u001b[1m0s\u001b[0m 13ms/step - loss: 0.1295 - sparse_categorical_accuracy: 0.9787 - val_loss: 0.4251 - val_sparse_categorical_accuracy: 0.8680\n",
            "Epoch 7/10\n",
            "\u001b[1m29/32\u001b[0m \u001b[32m━━━━━━━━━━━━━━━━━━\u001b[0m\u001b[37m━━\u001b[0m \u001b[1m0s\u001b[0m 8ms/step - loss: 0.0989 - sparse_categorical_accuracy: 0.9814\n",
            "Epoch 7: saving model to /content/training_1/Model_save.weights.h5\n",
            "\u001b[1m32/32\u001b[0m \u001b[32m━━━━━━━━━━━━━━━━━━━━\u001b[0m\u001b[37m\u001b[0m \u001b[1m0s\u001b[0m 12ms/step - loss: 0.0974 - sparse_categorical_accuracy: 0.9821 - val_loss: 0.3944 - val_sparse_categorical_accuracy: 0.8710\n",
            "Epoch 8/10\n",
            "\u001b[1m30/32\u001b[0m \u001b[32m━━━━━━━━━━━━━━━━━━\u001b[0m\u001b[37m━━\u001b[0m \u001b[1m0s\u001b[0m 9ms/step - loss: 0.0561 - sparse_categorical_accuracy: 0.9957\n",
            "Epoch 8: saving model to /content/training_1/Model_save.weights.h5\n",
            "\u001b[1m32/32\u001b[0m \u001b[32m━━━━━━━━━━━━━━━━━━━━\u001b[0m\u001b[37m\u001b[0m \u001b[1m1s\u001b[0m 16ms/step - loss: 0.0568 - sparse_categorical_accuracy: 0.9955 - val_loss: 0.4154 - val_sparse_categorical_accuracy: 0.8620\n",
            "Epoch 9/10\n",
            "\u001b[1m28/32\u001b[0m \u001b[32m━━━━━━━━━━━━━━━━━\u001b[0m\u001b[37m━━━\u001b[0m \u001b[1m0s\u001b[0m 8ms/step - loss: 0.0397 - sparse_categorical_accuracy: 1.0000\n",
            "Epoch 9: saving model to /content/training_1/Model_save.weights.h5\n",
            "\u001b[1m32/32\u001b[0m \u001b[32m━━━━━━━━━━━━━━━━━━━━\u001b[0m\u001b[37m\u001b[0m \u001b[1m0s\u001b[0m 15ms/step - loss: 0.0404 - sparse_categorical_accuracy: 0.9998 - val_loss: 0.3968 - val_sparse_categorical_accuracy: 0.8710\n",
            "Epoch 10/10\n",
            "\u001b[1m28/32\u001b[0m \u001b[32m━━━━━━━━━━━━━━━━━\u001b[0m\u001b[37m━━━\u001b[0m \u001b[1m0s\u001b[0m 8ms/step - loss: 0.0412 - sparse_categorical_accuracy: 0.9989\n",
            "Epoch 10: saving model to /content/training_1/Model_save.weights.h5\n",
            "\u001b[1m32/32\u001b[0m \u001b[32m━━━━━━━━━━━━━━━━━━━━\u001b[0m\u001b[37m\u001b[0m \u001b[1m1s\u001b[0m 13ms/step - loss: 0.0409 - sparse_categorical_accuracy: 0.9989 - val_loss: 0.4007 - val_sparse_categorical_accuracy: 0.8750\n"
          ]
        },
        {
          "output_type": "execute_result",
          "data": {
            "text/plain": [
              "<keras.src.callbacks.history.History at 0x7bc44b5aba60>"
            ]
          },
          "metadata": {},
          "execution_count": 6
        }
      ]
    },
    {
      "cell_type": "markdown",
      "source": [
        "Tutorial'da '.ckpt' formatı ile kayıt edilmiş ama yeni versiyonda 'weights.h5' olmak zorunda. Bundan dolayı eğer bir kayıt işlemi yapacak olursanız, 'KAYITISMI.weights.h5' şeklinde yapın."
      ],
      "metadata": {
        "id": "4ghVQHNoggxb"
      }
    },
    {
      "cell_type": "code",
      "source": [
        "# Olusturdugumuz dosya icerisindekileri listeler\n",
        "os.listdir(checkpoint_dir)"
      ],
      "metadata": {
        "colab": {
          "base_uri": "https://localhost:8080/"
        },
        "id": "5Q9-xMMuYOlV",
        "outputId": "f6742c3c-9c9a-491c-b0c7-2a2b2656fd8b"
      },
      "execution_count": 7,
      "outputs": [
        {
          "output_type": "execute_result",
          "data": {
            "text/plain": [
              "['Model_save.weights.h5']"
            ]
          },
          "metadata": {},
          "execution_count": 7
        }
      ]
    },
    {
      "cell_type": "code",
      "source": [
        "model = create_model()\n",
        "\n",
        "loss, acc = model.evaluate(test_images, test_labels, verbose = 2)\n",
        "print('Untrained model, accuracy:  {:5.2f}%'.format(100 * acc))"
      ],
      "metadata": {
        "colab": {
          "base_uri": "https://localhost:8080/"
        },
        "id": "xsNDdAQXaw34",
        "outputId": "605121b6-4e6e-40b6-ca18-780a74c84cd2"
      },
      "execution_count": 8,
      "outputs": [
        {
          "output_type": "stream",
          "name": "stdout",
          "text": [
            "32/32 - 0s - 7ms/step - loss: 2.3779 - sparse_categorical_accuracy: 0.0900\n",
            "Untrained model, accuracy:   9.00%\n"
          ]
        }
      ]
    },
    {
      "cell_type": "markdown",
      "source": [
        "Yukarıdaki kodda, önceden hazırladığımız modeli yeniden oluşturduk ve bu modeli eğitim yapmadan direkt değerlendirmeye tabi tuttuk. Sonuç olarak, doğruluk oranı (accuracy) değerimiz 0.0990, yani %9'luk bir doğruluk oranına sahip."
      ],
      "metadata": {
        "id": "eqINuk1sbipl"
      }
    },
    {
      "cell_type": "code",
      "source": [
        "model.load_weights(checkpoint_path)\n",
        "\n",
        "loss, acc = model.evaluate(test_images, test_labels, verbose = 2)\n",
        "print('Resored model, accuracy: {:5.2f}'.format(100 * acc))"
      ],
      "metadata": {
        "colab": {
          "base_uri": "https://localhost:8080/"
        },
        "id": "Pfg8PpKIbeqV",
        "outputId": "1fbe344f-4858-4deb-cc77-1fe1a75a8f36"
      },
      "execution_count": 9,
      "outputs": [
        {
          "output_type": "stream",
          "name": "stdout",
          "text": [
            "32/32 - 0s - 3ms/step - loss: 0.4007 - sparse_categorical_accuracy: 0.8750\n"
          ]
        },
        {
          "output_type": "stream",
          "name": "stderr",
          "text": [
            "/usr/local/lib/python3.10/dist-packages/keras/src/saving/saving_lib.py:576: UserWarning: Skipping variable loading for optimizer 'adam', because it has 2 variables whereas the saved optimizer has 10 variables. \n",
            "  saveable.load_own_variables(weights_store.get(inner_path))\n"
          ]
        },
        {
          "output_type": "stream",
          "name": "stdout",
          "text": [
            "Resored model, accuracy: 87.50\n"
          ]
        }
      ]
    },
    {
      "cell_type": "markdown",
      "source": [
        "Eğittiğimiz modelin değerlendirmesinde doğruluk oranı (accuracy) değeri 0.5390, yani %53 olarak çıktı. Eğitilmemiş model ile eğitilmiş model arasındaki doğruluk farkını gördünüz. Ayrıca modelimizi, kaydettiğimiz yoldan çağırarak değerlendirme işlemini gerçekleştirdik."
      ],
      "metadata": {
        "id": "LSyMJScSci-9"
      }
    },
    {
      "cell_type": "markdown",
      "source": [
        "# Kontrol noktası geri arama\n",
        "Yeni bir eğitim yapacağız ve bu eğitimde, her adımda kontrol noktalarında kayıt işlemi gerçekleştireceğiz"
      ],
      "metadata": {
        "id": "9g67DOqkdPYX"
      }
    },
    {
      "cell_type": "code",
      "source": [
        "# Dosya olusturma\n",
        "if not os.path.exists('/content/training_2'):\n",
        "  os.mkdir('/content/training_2')\n",
        "\n",
        "# Kayit yolunu belirleme\n",
        "checkpoint_path = '/content/training_2/cp-{epoch:04d}.weights.h5' # Kayit edilecek model ciktilerinin yolu\n",
        "checkpoint_dir = os.path.dirname(checkpoint_path)\n",
        "\n",
        "batch_size = 32 # her adim egitilecek veri miktari\n",
        "\n",
        "# Toplam veri setinin batch'lere bölünmesiyle elde edilen toplam adım sayısı hesaplanır. math.ceil fonksiyonu, adım sayısının üst tam sayıya yuvarlanmasını sağlar.\n",
        "import math\n",
        "n_batches =len(train_images) / batch_size\n",
        "n_batches = math.ceil(n_batches)\n",
        "\n",
        "# Yeni kayit fonksiyonumuz\n",
        "cp_callback = tf.keras.callbacks.ModelCheckpoint(\n",
        "    filepath = checkpoint_path, # ğırlıkların kaydedileceği dosya yolu.\n",
        "    verbose = 1, # Eğitim sırasında kaydedilen checkpoint'ler hakkında bilgi verir.\n",
        "    save_weights_only = True, # Yalnızca modelin ağırlıklarının kaydedileceğini belirtir (modelin tamamı değil).\n",
        "    save_freq = 5 * n_batches # Ağırlıkların her 5 batch adımında kaydedileceğini belirtir. Bu, eğitim sürecinde her 5 batch'te bir checkpoint kaydeder.\n",
        ")\n",
        "\n",
        "# Model olusturulmasi\n",
        "model = create_model()\n",
        "\n",
        "# Modelin başlangıç ağırlıkları, epoch = 0 olarak kaydedilir.\n",
        "model.save_weights(checkpoint_path.format(epoch = 0))\n",
        "\n",
        "# Egitim\n",
        "model.fit(train_images,\n",
        "          train_labels,\n",
        "          epochs = 50,\n",
        "          batch_size = batch_size,\n",
        "          callbacks = [cp_callback],\n",
        "          validation_data = (test_images, test_labels),\n",
        "          verbose = 0)"
      ],
      "metadata": {
        "colab": {
          "base_uri": "https://localhost:8080/"
        },
        "id": "EgiVTopCcch1",
        "outputId": "df082de5-c0bc-4b56-add5-937bfecaa8eb"
      },
      "execution_count": 10,
      "outputs": [
        {
          "output_type": "stream",
          "name": "stdout",
          "text": [
            "\n",
            "Epoch 5: saving model to /content/training_2/cp-0005.weights.h5\n",
            "\n",
            "Epoch 10: saving model to /content/training_2/cp-0010.weights.h5\n",
            "\n",
            "Epoch 15: saving model to /content/training_2/cp-0015.weights.h5\n",
            "\n",
            "Epoch 20: saving model to /content/training_2/cp-0020.weights.h5\n",
            "\n",
            "Epoch 25: saving model to /content/training_2/cp-0025.weights.h5\n",
            "\n",
            "Epoch 30: saving model to /content/training_2/cp-0030.weights.h5\n",
            "\n",
            "Epoch 35: saving model to /content/training_2/cp-0035.weights.h5\n",
            "\n",
            "Epoch 40: saving model to /content/training_2/cp-0040.weights.h5\n",
            "\n",
            "Epoch 45: saving model to /content/training_2/cp-0045.weights.h5\n",
            "\n",
            "Epoch 50: saving model to /content/training_2/cp-0050.weights.h5\n"
          ]
        },
        {
          "output_type": "execute_result",
          "data": {
            "text/plain": [
              "<keras.src.callbacks.history.History at 0x7bc4470edf60>"
            ]
          },
          "metadata": {},
          "execution_count": 10
        }
      ]
    },
    {
      "cell_type": "code",
      "source": [
        "os.listdir(checkpoint_dir)"
      ],
      "metadata": {
        "colab": {
          "base_uri": "https://localhost:8080/"
        },
        "id": "dTwL5XLrfvVl",
        "outputId": "b263864b-25c7-41ba-d123-a14dfe0ab8d0"
      },
      "execution_count": 11,
      "outputs": [
        {
          "output_type": "execute_result",
          "data": {
            "text/plain": [
              "['cp-0000.weights.h5',\n",
              " 'cp-0045.weights.h5',\n",
              " 'cp-0005.weights.h5',\n",
              " 'cp-0035.weights.h5',\n",
              " 'cp-0010.weights.h5',\n",
              " 'cp-0050.weights.h5',\n",
              " 'cp-0025.weights.h5',\n",
              " 'cp-0030.weights.h5',\n",
              " 'cp-0020.weights.h5',\n",
              " 'cp-0040.weights.h5',\n",
              " 'cp-0015.weights.h5']"
            ]
          },
          "metadata": {},
          "execution_count": 11
        }
      ]
    },
    {
      "cell_type": "code",
      "source": [
        "latest = tf.train.latest_checkpoint(checkpoint_dir) # TensorFlow, verilen dizinde (bu durumda checkpoint_dir), kaydedilen en son model ağırlıklarının dosya yolunu döndürür.\n",
        "latest"
      ],
      "metadata": {
        "id": "sDuJps90hfgB"
      },
      "execution_count": 12,
      "outputs": []
    },
    {
      "cell_type": "code",
      "source": [
        "model = create_model()\n",
        "\n",
        "# model.load_weights(latest) #  normalde olmasi gereken\n",
        "model.load_weights('/content/training_2/cp-0050.weights.h5')\n",
        "\n",
        "loss, acc = model.evaluate(test_images, test_labels, verbose=2)\n",
        "print(\"Restored model, accuracy: {:5.2f}%\".format(100 * acc))"
      ],
      "metadata": {
        "colab": {
          "base_uri": "https://localhost:8080/"
        },
        "id": "5EE2i2zhhoKG",
        "outputId": "33240a24-ca92-4e81-cc55-6ef5ff202d3c"
      },
      "execution_count": 13,
      "outputs": [
        {
          "output_type": "stream",
          "name": "stdout",
          "text": [
            "32/32 - 0s - 6ms/step - loss: 0.4911 - sparse_categorical_accuracy: 0.8750\n",
            "Restored model, accuracy: 87.50%\n"
          ]
        }
      ]
    },
    {
      "cell_type": "markdown",
      "source": [
        "Normalde olması gereken, 'latest' kullanarak modeli değerlendirmekti, ancak beklenmedik bir hata aldığım için ben direk en son kaydedilen model ağırlıklarının yolunu yazıyorum.\n",
        "\n",
        "Model değerlendirmesine gelecek olursak, modelimiz accuracy (kesinlik) değeri 0.7320 yani %73 değerine ulaşmıştır."
      ],
      "metadata": {
        "id": "VGNv8spEi209"
      }
    },
    {
      "cell_type": "markdown",
      "source": [
        "# Bu dosyalar icerisinde neler barindiriyor?\n",
        "Model eğitim sonunda ve eğitim sırasında modelin ağırlıklarını kayıt altına aldık. Bu ağırlıkları kullanarak modelimizi test işlemi de yaptık. Peki, bu ağırlıkların içerisinde neler bulunmaktadır?\n",
        "\n",
        "- Modelin ağırlıklarını içeren bir veya birden fazla parça.\n",
        "- Hangi ağırlıkların hangi parçada saklandığını gösteren bir indeks dosyası."
      ],
      "metadata": {
        "id": "315a6ZtHd8Bx"
      }
    },
    {
      "cell_type": "markdown",
      "source": [
        "# Ağırlıkları manuel olarak kaydedin\n",
        "\n",
        "Bu bölümde modelimizin ağırlıklarını manuel olarak kayıt işlemini gerçekleştireceğiz."
      ],
      "metadata": {
        "id": "80kk83_YfcK5"
      }
    },
    {
      "cell_type": "code",
      "source": [
        "if not os.path.exists('/content/checkpoints'):\n",
        "  os.mkdir('/content/checkpoints')\n",
        "\n",
        "# Agirlikleri kaydet\n",
        "model.save_weights('/content/checkpoints/my_checkpoint.weights.h5')"
      ],
      "metadata": {
        "id": "cl1UmT16huSI"
      },
      "execution_count": 16,
      "outputs": []
    },
    {
      "cell_type": "code",
      "source": [
        "# Yeni model olustur\n",
        "model = create_model()\n",
        "\n",
        "# En son kayit ile modeli duzenlenle\n",
        "model.load_weights('/content/checkpoints/my_checkpoint.weights.h5')\n",
        "\n",
        "# Degerlendirme\n",
        "loss, acc = model.evaluate(test_images, test_labels, verbose = 2)\n",
        "print('Duzeltilmis model, accuracy(kesinlik): {:5.2f}%'.format(100 * acc))"
      ],
      "metadata": {
        "colab": {
          "base_uri": "https://localhost:8080/"
        },
        "id": "c9nvh7jdgJx9",
        "outputId": "61c6a621-e14c-4fc6-8043-a3fe83df2bd4"
      },
      "execution_count": 17,
      "outputs": [
        {
          "output_type": "stream",
          "name": "stderr",
          "text": [
            "/usr/local/lib/python3.10/dist-packages/keras/src/layers/core/dense.py:87: UserWarning: Do not pass an `input_shape`/`input_dim` argument to a layer. When using Sequential models, prefer using an `Input(shape)` object as the first layer in the model instead.\n",
            "  super().__init__(activity_regularizer=activity_regularizer, **kwargs)\n"
          ]
        },
        {
          "output_type": "stream",
          "name": "stdout",
          "text": [
            "32/32 - 0s - 11ms/step - loss: 0.4911 - sparse_categorical_accuracy: 0.8750\n",
            "Duzeltilmis model, accuracy(kesinlik): 87.50%\n"
          ]
        }
      ]
    },
    {
      "cell_type": "markdown",
      "source": [
        "En son eğittiğim modeli 'model.save_weights()' fonksiyonunu kullanarak kaydettim ve bu kaydımı yeni oluşturduğum modele güncelledim. Daha sonra değerlendirme yaparak yine aynı accuracy (kesinlik) değerine ulaştım."
      ],
      "metadata": {
        "id": "Xu-4nsighHsq"
      }
    },
    {
      "cell_type": "markdown",
      "source": [
        "# Tüm modeli kaydet\n",
        "Bu bölümde tüm modelimizi kaydedeceğiz. Kayıt sırasında 'tf.keras.Model.save' fonksiyonundan yararlanacağız. Kayıt işlemini iki farklı şekilde yapacağız: .keras ve .h5 formatında kayıtlar gerçekleştireceğiz.\n",
        "\n",
        "Not : Keras nesneleri için daha zengin, ad tabanlı kaydetme ve yeniden yükleme için yeni yüksek düzeyli .keras biçiminin kullanılması önerilir; bu, hata ayıklaması daha kolaydır. Düşük düzeyli SavedModel biçimi ve eski H5 biçimi mevcut kod için desteklenmeye devam etmektedir."
      ],
      "metadata": {
        "id": "prIyWuGDho58"
      }
    },
    {
      "cell_type": "markdown",
      "source": [
        "## .keras Formati"
      ],
      "metadata": {
        "id": "66nVf7dfj4yk"
      }
    },
    {
      "cell_type": "code",
      "source": [
        "model = create_model()\n",
        "model.fit(train_images, train_labels, epochs = 5)\n",
        "\n",
        "# Kayit islemi her hangi bir yol belirtmeden direk isim ile kaydini gerceklestiriyoruz.\n",
        "model.save('my_model.keras') # Kayit islemi"
      ],
      "metadata": {
        "colab": {
          "base_uri": "https://localhost:8080/"
        },
        "id": "xJ9oJWMmhDcI",
        "outputId": "0bc426d1-a9b3-44be-c3bc-eb1878883f9f"
      },
      "execution_count": 18,
      "outputs": [
        {
          "output_type": "stream",
          "name": "stdout",
          "text": [
            "Epoch 1/5\n"
          ]
        },
        {
          "output_type": "stream",
          "name": "stderr",
          "text": [
            "/usr/local/lib/python3.10/dist-packages/keras/src/layers/core/dense.py:87: UserWarning: Do not pass an `input_shape`/`input_dim` argument to a layer. When using Sequential models, prefer using an `Input(shape)` object as the first layer in the model instead.\n",
            "  super().__init__(activity_regularizer=activity_regularizer, **kwargs)\n"
          ]
        },
        {
          "output_type": "stream",
          "name": "stdout",
          "text": [
            "\u001b[1m32/32\u001b[0m \u001b[32m━━━━━━━━━━━━━━━━━━━━\u001b[0m\u001b[37m\u001b[0m \u001b[1m1s\u001b[0m 8ms/step - loss: 1.6287 - sparse_categorical_accuracy: 0.5008\n",
            "Epoch 2/5\n",
            "\u001b[1m32/32\u001b[0m \u001b[32m━━━━━━━━━━━━━━━━━━━━\u001b[0m\u001b[37m\u001b[0m \u001b[1m0s\u001b[0m 9ms/step - loss: 0.4840 - sparse_categorical_accuracy: 0.8581\n",
            "Epoch 3/5\n",
            "\u001b[1m32/32\u001b[0m \u001b[32m━━━━━━━━━━━━━━━━━━━━\u001b[0m\u001b[37m\u001b[0m \u001b[1m0s\u001b[0m 8ms/step - loss: 0.2656 - sparse_categorical_accuracy: 0.9330\n",
            "Epoch 4/5\n",
            "\u001b[1m32/32\u001b[0m \u001b[32m━━━━━━━━━━━━━━━━━━━━\u001b[0m\u001b[37m\u001b[0m \u001b[1m0s\u001b[0m 7ms/step - loss: 0.2111 - sparse_categorical_accuracy: 0.9529\n",
            "Epoch 5/5\n",
            "\u001b[1m32/32\u001b[0m \u001b[32m━━━━━━━━━━━━━━━━━━━━\u001b[0m\u001b[37m\u001b[0m \u001b[1m0s\u001b[0m 10ms/step - loss: 0.1444 - sparse_categorical_accuracy: 0.9729\n"
          ]
        }
      ]
    },
    {
      "cell_type": "code",
      "source": [
        "new_model = tf.keras.models.load_model('my_model.keras')\n",
        "\n",
        "new_model.summary()"
      ],
      "metadata": {
        "colab": {
          "base_uri": "https://localhost:8080/",
          "height": 255
        },
        "id": "TDjKZ6RdkKE9",
        "outputId": "55cfacf2-b5e7-4054-c5dd-b97abdf56fb8"
      },
      "execution_count": 19,
      "outputs": [
        {
          "output_type": "display_data",
          "data": {
            "text/plain": [
              "\u001b[1mModel: \"sequential_5\"\u001b[0m\n"
            ],
            "text/html": [
              "<pre style=\"white-space:pre;overflow-x:auto;line-height:normal;font-family:Menlo,'DejaVu Sans Mono',consolas,'Courier New',monospace\"><span style=\"font-weight: bold\">Model: \"sequential_5\"</span>\n",
              "</pre>\n"
            ]
          },
          "metadata": {}
        },
        {
          "output_type": "display_data",
          "data": {
            "text/plain": [
              "┏━━━━━━━━━━━━━━━━━━━━━━━━━━━━━━━━━━━━━━┳━━━━━━━━━━━━━━━━━━━━━━━━━━━━━┳━━━━━━━━━━━━━━━━━┓\n",
              "┃\u001b[1m \u001b[0m\u001b[1mLayer (type)                        \u001b[0m\u001b[1m \u001b[0m┃\u001b[1m \u001b[0m\u001b[1mOutput Shape               \u001b[0m\u001b[1m \u001b[0m┃\u001b[1m \u001b[0m\u001b[1m        Param #\u001b[0m\u001b[1m \u001b[0m┃\n",
              "┡━━━━━━━━━━━━━━━━━━━━━━━━━━━━━━━━━━━━━━╇━━━━━━━━━━━━━━━━━━━━━━━━━━━━━╇━━━━━━━━━━━━━━━━━┩\n",
              "│ dense_10 (\u001b[38;5;33mDense\u001b[0m)                     │ (\u001b[38;5;45mNone\u001b[0m, \u001b[38;5;34m512\u001b[0m)                 │         \u001b[38;5;34m401,920\u001b[0m │\n",
              "├──────────────────────────────────────┼─────────────────────────────┼─────────────────┤\n",
              "│ dropout_5 (\u001b[38;5;33mDropout\u001b[0m)                  │ (\u001b[38;5;45mNone\u001b[0m, \u001b[38;5;34m512\u001b[0m)                 │               \u001b[38;5;34m0\u001b[0m │\n",
              "├──────────────────────────────────────┼─────────────────────────────┼─────────────────┤\n",
              "│ dense_11 (\u001b[38;5;33mDense\u001b[0m)                     │ (\u001b[38;5;45mNone\u001b[0m, \u001b[38;5;34m10\u001b[0m)                  │           \u001b[38;5;34m5,130\u001b[0m │\n",
              "└──────────────────────────────────────┴─────────────────────────────┴─────────────────┘\n"
            ],
            "text/html": [
              "<pre style=\"white-space:pre;overflow-x:auto;line-height:normal;font-family:Menlo,'DejaVu Sans Mono',consolas,'Courier New',monospace\">┏━━━━━━━━━━━━━━━━━━━━━━━━━━━━━━━━━━━━━━┳━━━━━━━━━━━━━━━━━━━━━━━━━━━━━┳━━━━━━━━━━━━━━━━━┓\n",
              "┃<span style=\"font-weight: bold\"> Layer (type)                         </span>┃<span style=\"font-weight: bold\"> Output Shape                </span>┃<span style=\"font-weight: bold\">         Param # </span>┃\n",
              "┡━━━━━━━━━━━━━━━━━━━━━━━━━━━━━━━━━━━━━━╇━━━━━━━━━━━━━━━━━━━━━━━━━━━━━╇━━━━━━━━━━━━━━━━━┩\n",
              "│ dense_10 (<span style=\"color: #0087ff; text-decoration-color: #0087ff\">Dense</span>)                     │ (<span style=\"color: #00d7ff; text-decoration-color: #00d7ff\">None</span>, <span style=\"color: #00af00; text-decoration-color: #00af00\">512</span>)                 │         <span style=\"color: #00af00; text-decoration-color: #00af00\">401,920</span> │\n",
              "├──────────────────────────────────────┼─────────────────────────────┼─────────────────┤\n",
              "│ dropout_5 (<span style=\"color: #0087ff; text-decoration-color: #0087ff\">Dropout</span>)                  │ (<span style=\"color: #00d7ff; text-decoration-color: #00d7ff\">None</span>, <span style=\"color: #00af00; text-decoration-color: #00af00\">512</span>)                 │               <span style=\"color: #00af00; text-decoration-color: #00af00\">0</span> │\n",
              "├──────────────────────────────────────┼─────────────────────────────┼─────────────────┤\n",
              "│ dense_11 (<span style=\"color: #0087ff; text-decoration-color: #0087ff\">Dense</span>)                     │ (<span style=\"color: #00d7ff; text-decoration-color: #00d7ff\">None</span>, <span style=\"color: #00af00; text-decoration-color: #00af00\">10</span>)                  │           <span style=\"color: #00af00; text-decoration-color: #00af00\">5,130</span> │\n",
              "└──────────────────────────────────────┴─────────────────────────────┴─────────────────┘\n",
              "</pre>\n"
            ]
          },
          "metadata": {}
        },
        {
          "output_type": "display_data",
          "data": {
            "text/plain": [
              "\u001b[1m Total params: \u001b[0m\u001b[38;5;34m1,221,152\u001b[0m (4.66 MB)\n"
            ],
            "text/html": [
              "<pre style=\"white-space:pre;overflow-x:auto;line-height:normal;font-family:Menlo,'DejaVu Sans Mono',consolas,'Courier New',monospace\"><span style=\"font-weight: bold\"> Total params: </span><span style=\"color: #00af00; text-decoration-color: #00af00\">1,221,152</span> (4.66 MB)\n",
              "</pre>\n"
            ]
          },
          "metadata": {}
        },
        {
          "output_type": "display_data",
          "data": {
            "text/plain": [
              "\u001b[1m Trainable params: \u001b[0m\u001b[38;5;34m407,050\u001b[0m (1.55 MB)\n"
            ],
            "text/html": [
              "<pre style=\"white-space:pre;overflow-x:auto;line-height:normal;font-family:Menlo,'DejaVu Sans Mono',consolas,'Courier New',monospace\"><span style=\"font-weight: bold\"> Trainable params: </span><span style=\"color: #00af00; text-decoration-color: #00af00\">407,050</span> (1.55 MB)\n",
              "</pre>\n"
            ]
          },
          "metadata": {}
        },
        {
          "output_type": "display_data",
          "data": {
            "text/plain": [
              "\u001b[1m Non-trainable params: \u001b[0m\u001b[38;5;34m0\u001b[0m (0.00 B)\n"
            ],
            "text/html": [
              "<pre style=\"white-space:pre;overflow-x:auto;line-height:normal;font-family:Menlo,'DejaVu Sans Mono',consolas,'Courier New',monospace\"><span style=\"font-weight: bold\"> Non-trainable params: </span><span style=\"color: #00af00; text-decoration-color: #00af00\">0</span> (0.00 B)\n",
              "</pre>\n"
            ]
          },
          "metadata": {}
        },
        {
          "output_type": "display_data",
          "data": {
            "text/plain": [
              "\u001b[1m Optimizer params: \u001b[0m\u001b[38;5;34m814,102\u001b[0m (3.11 MB)\n"
            ],
            "text/html": [
              "<pre style=\"white-space:pre;overflow-x:auto;line-height:normal;font-family:Menlo,'DejaVu Sans Mono',consolas,'Courier New',monospace\"><span style=\"font-weight: bold\"> Optimizer params: </span><span style=\"color: #00af00; text-decoration-color: #00af00\">814,102</span> (3.11 MB)\n",
              "</pre>\n"
            ]
          },
          "metadata": {}
        }
      ]
    },
    {
      "cell_type": "code",
      "source": [
        "# Modeli degerlendirme\n",
        "loss, acc = new_model.evaluate(test_images, test_labels, verbose = 2)\n",
        "print('Duzeltilmis model, accracy(kesinlik): {:5.2f}%'.format(100 * acc))\n",
        "print(new_model.predict(test_images).shape)"
      ],
      "metadata": {
        "colab": {
          "base_uri": "https://localhost:8080/"
        },
        "id": "WanauQLgkiFe",
        "outputId": "5a03e487-b25a-48fc-c016-8f49643beab8"
      },
      "execution_count": 20,
      "outputs": [
        {
          "output_type": "stream",
          "name": "stdout",
          "text": [
            "32/32 - 0s - 7ms/step - loss: 0.4077 - sparse_categorical_accuracy: 0.8690\n",
            "Duzeltilmis model, accracy(kesinlik): 86.90%\n",
            "\u001b[1m32/32\u001b[0m \u001b[32m━━━━━━━━━━━━━━━━━━━━\u001b[0m\u001b[37m\u001b[0m \u001b[1m0s\u001b[0m 4ms/step\n",
            "(1000, 10)\n"
          ]
        }
      ]
    },
    {
      "cell_type": "markdown",
      "source": [
        "## SavedModel Format\n",
        "Bu yöntemi atlıyorum çünkü model.save() aşamasında .keras veya .h5 uzantısının eklenmesi gerekiyor; aksi takdirde hata alıyorum. Siz de hatayı deneyimlemek isterseniz, tutorial üzerindeki kaynak kodları kullanarak deneyebilirsiniz. [Tutorial](https://www.tensorflow.org/tutorials/keras/save_and_load)"
      ],
      "metadata": {
        "id": "Y7bd6pXSnDCG"
      }
    },
    {
      "cell_type": "markdown",
      "source": [
        ".HDF5 Format"
      ],
      "metadata": {
        "id": "3lz9iUSCpF1w"
      }
    },
    {
      "cell_type": "code",
      "source": [
        "# Yeni model olustur .\n",
        "model = create_model()\n",
        "model.fit(train_images, train_labels, epochs=5)\n",
        "\n",
        "# .h5 uzantisi ule kayit islemini gerceklestir.\n",
        "model.save('my_model.h5')"
      ],
      "metadata": {
        "colab": {
          "base_uri": "https://localhost:8080/"
        },
        "id": "_xsgxN6voD2s",
        "outputId": "92268178-a74a-4e8b-c733-2eb546440740"
      },
      "execution_count": 25,
      "outputs": [
        {
          "output_type": "stream",
          "name": "stdout",
          "text": [
            "Epoch 1/5\n"
          ]
        },
        {
          "output_type": "stream",
          "name": "stderr",
          "text": [
            "/usr/local/lib/python3.10/dist-packages/keras/src/layers/core/dense.py:87: UserWarning: Do not pass an `input_shape`/`input_dim` argument to a layer. When using Sequential models, prefer using an `Input(shape)` object as the first layer in the model instead.\n",
            "  super().__init__(activity_regularizer=activity_regularizer, **kwargs)\n"
          ]
        },
        {
          "output_type": "stream",
          "name": "stdout",
          "text": [
            "\u001b[1m32/32\u001b[0m \u001b[32m━━━━━━━━━━━━━━━━━━━━\u001b[0m\u001b[37m\u001b[0m \u001b[1m1s\u001b[0m 8ms/step - loss: 1.5853 - sparse_categorical_accuracy: 0.5026\n",
            "Epoch 2/5\n",
            "\u001b[1m32/32\u001b[0m \u001b[32m━━━━━━━━━━━━━━━━━━━━\u001b[0m\u001b[37m\u001b[0m \u001b[1m0s\u001b[0m 8ms/step - loss: 0.4576 - sparse_categorical_accuracy: 0.8712\n",
            "Epoch 3/5\n",
            "\u001b[1m32/32\u001b[0m \u001b[32m━━━━━━━━━━━━━━━━━━━━\u001b[0m\u001b[37m\u001b[0m \u001b[1m0s\u001b[0m 8ms/step - loss: 0.2956 - sparse_categorical_accuracy: 0.9202\n",
            "Epoch 4/5\n",
            "\u001b[1m32/32\u001b[0m \u001b[32m━━━━━━━━━━━━━━━━━━━━\u001b[0m\u001b[37m\u001b[0m \u001b[1m0s\u001b[0m 9ms/step - loss: 0.1956 - sparse_categorical_accuracy: 0.9557\n",
            "Epoch 5/5\n",
            "\u001b[1m32/32\u001b[0m \u001b[32m━━━━━━━━━━━━━━━━━━━━\u001b[0m\u001b[37m\u001b[0m \u001b[1m1s\u001b[0m 9ms/step - loss: 0.1636 - sparse_categorical_accuracy: 0.9671\n"
          ]
        },
        {
          "output_type": "stream",
          "name": "stderr",
          "text": [
            "WARNING:absl:You are saving your model as an HDF5 file via `model.save()` or `keras.saving.save_model(model)`. This file format is considered legacy. We recommend using instead the native Keras format, e.g. `model.save('my_model.keras')` or `keras.saving.save_model(model, 'my_model.keras')`. \n"
          ]
        }
      ]
    },
    {
      "cell_type": "code",
      "source": [
        "# kayit ettigin .h5 uzantili dosyayi modele aktar\n",
        "new_model = tf.keras.models.load_model('my_model.h5')\n",
        "\n",
        "new_model.summary()"
      ],
      "metadata": {
        "colab": {
          "base_uri": "https://localhost:8080/",
          "height": 272
        },
        "id": "1zAUyZo8pV_f",
        "outputId": "dafcfa92-587c-43ca-88ae-336550c12695"
      },
      "execution_count": 26,
      "outputs": [
        {
          "output_type": "stream",
          "name": "stderr",
          "text": [
            "WARNING:absl:Compiled the loaded model, but the compiled metrics have yet to be built. `model.compile_metrics` will be empty until you train or evaluate the model.\n"
          ]
        },
        {
          "output_type": "display_data",
          "data": {
            "text/plain": [
              "\u001b[1mModel: \"sequential_7\"\u001b[0m\n"
            ],
            "text/html": [
              "<pre style=\"white-space:pre;overflow-x:auto;line-height:normal;font-family:Menlo,'DejaVu Sans Mono',consolas,'Courier New',monospace\"><span style=\"font-weight: bold\">Model: \"sequential_7\"</span>\n",
              "</pre>\n"
            ]
          },
          "metadata": {}
        },
        {
          "output_type": "display_data",
          "data": {
            "text/plain": [
              "┏━━━━━━━━━━━━━━━━━━━━━━━━━━━━━━━━━━━━━━┳━━━━━━━━━━━━━━━━━━━━━━━━━━━━━┳━━━━━━━━━━━━━━━━━┓\n",
              "┃\u001b[1m \u001b[0m\u001b[1mLayer (type)                        \u001b[0m\u001b[1m \u001b[0m┃\u001b[1m \u001b[0m\u001b[1mOutput Shape               \u001b[0m\u001b[1m \u001b[0m┃\u001b[1m \u001b[0m\u001b[1m        Param #\u001b[0m\u001b[1m \u001b[0m┃\n",
              "┡━━━━━━━━━━━━━━━━━━━━━━━━━━━━━━━━━━━━━━╇━━━━━━━━━━━━━━━━━━━━━━━━━━━━━╇━━━━━━━━━━━━━━━━━┩\n",
              "│ dense_14 (\u001b[38;5;33mDense\u001b[0m)                     │ (\u001b[38;5;45mNone\u001b[0m, \u001b[38;5;34m512\u001b[0m)                 │         \u001b[38;5;34m401,920\u001b[0m │\n",
              "├──────────────────────────────────────┼─────────────────────────────┼─────────────────┤\n",
              "│ dropout_7 (\u001b[38;5;33mDropout\u001b[0m)                  │ (\u001b[38;5;45mNone\u001b[0m, \u001b[38;5;34m512\u001b[0m)                 │               \u001b[38;5;34m0\u001b[0m │\n",
              "├──────────────────────────────────────┼─────────────────────────────┼─────────────────┤\n",
              "│ dense_15 (\u001b[38;5;33mDense\u001b[0m)                     │ (\u001b[38;5;45mNone\u001b[0m, \u001b[38;5;34m10\u001b[0m)                  │           \u001b[38;5;34m5,130\u001b[0m │\n",
              "└──────────────────────────────────────┴─────────────────────────────┴─────────────────┘\n"
            ],
            "text/html": [
              "<pre style=\"white-space:pre;overflow-x:auto;line-height:normal;font-family:Menlo,'DejaVu Sans Mono',consolas,'Courier New',monospace\">┏━━━━━━━━━━━━━━━━━━━━━━━━━━━━━━━━━━━━━━┳━━━━━━━━━━━━━━━━━━━━━━━━━━━━━┳━━━━━━━━━━━━━━━━━┓\n",
              "┃<span style=\"font-weight: bold\"> Layer (type)                         </span>┃<span style=\"font-weight: bold\"> Output Shape                </span>┃<span style=\"font-weight: bold\">         Param # </span>┃\n",
              "┡━━━━━━━━━━━━━━━━━━━━━━━━━━━━━━━━━━━━━━╇━━━━━━━━━━━━━━━━━━━━━━━━━━━━━╇━━━━━━━━━━━━━━━━━┩\n",
              "│ dense_14 (<span style=\"color: #0087ff; text-decoration-color: #0087ff\">Dense</span>)                     │ (<span style=\"color: #00d7ff; text-decoration-color: #00d7ff\">None</span>, <span style=\"color: #00af00; text-decoration-color: #00af00\">512</span>)                 │         <span style=\"color: #00af00; text-decoration-color: #00af00\">401,920</span> │\n",
              "├──────────────────────────────────────┼─────────────────────────────┼─────────────────┤\n",
              "│ dropout_7 (<span style=\"color: #0087ff; text-decoration-color: #0087ff\">Dropout</span>)                  │ (<span style=\"color: #00d7ff; text-decoration-color: #00d7ff\">None</span>, <span style=\"color: #00af00; text-decoration-color: #00af00\">512</span>)                 │               <span style=\"color: #00af00; text-decoration-color: #00af00\">0</span> │\n",
              "├──────────────────────────────────────┼─────────────────────────────┼─────────────────┤\n",
              "│ dense_15 (<span style=\"color: #0087ff; text-decoration-color: #0087ff\">Dense</span>)                     │ (<span style=\"color: #00d7ff; text-decoration-color: #00d7ff\">None</span>, <span style=\"color: #00af00; text-decoration-color: #00af00\">10</span>)                  │           <span style=\"color: #00af00; text-decoration-color: #00af00\">5,130</span> │\n",
              "└──────────────────────────────────────┴─────────────────────────────┴─────────────────┘\n",
              "</pre>\n"
            ]
          },
          "metadata": {}
        },
        {
          "output_type": "display_data",
          "data": {
            "text/plain": [
              "\u001b[1m Total params: \u001b[0m\u001b[38;5;34m407,052\u001b[0m (1.55 MB)\n"
            ],
            "text/html": [
              "<pre style=\"white-space:pre;overflow-x:auto;line-height:normal;font-family:Menlo,'DejaVu Sans Mono',consolas,'Courier New',monospace\"><span style=\"font-weight: bold\"> Total params: </span><span style=\"color: #00af00; text-decoration-color: #00af00\">407,052</span> (1.55 MB)\n",
              "</pre>\n"
            ]
          },
          "metadata": {}
        },
        {
          "output_type": "display_data",
          "data": {
            "text/plain": [
              "\u001b[1m Trainable params: \u001b[0m\u001b[38;5;34m407,050\u001b[0m (1.55 MB)\n"
            ],
            "text/html": [
              "<pre style=\"white-space:pre;overflow-x:auto;line-height:normal;font-family:Menlo,'DejaVu Sans Mono',consolas,'Courier New',monospace\"><span style=\"font-weight: bold\"> Trainable params: </span><span style=\"color: #00af00; text-decoration-color: #00af00\">407,050</span> (1.55 MB)\n",
              "</pre>\n"
            ]
          },
          "metadata": {}
        },
        {
          "output_type": "display_data",
          "data": {
            "text/plain": [
              "\u001b[1m Non-trainable params: \u001b[0m\u001b[38;5;34m0\u001b[0m (0.00 B)\n"
            ],
            "text/html": [
              "<pre style=\"white-space:pre;overflow-x:auto;line-height:normal;font-family:Menlo,'DejaVu Sans Mono',consolas,'Courier New',monospace\"><span style=\"font-weight: bold\"> Non-trainable params: </span><span style=\"color: #00af00; text-decoration-color: #00af00\">0</span> (0.00 B)\n",
              "</pre>\n"
            ]
          },
          "metadata": {}
        },
        {
          "output_type": "display_data",
          "data": {
            "text/plain": [
              "\u001b[1m Optimizer params: \u001b[0m\u001b[38;5;34m2\u001b[0m (12.00 B)\n"
            ],
            "text/html": [
              "<pre style=\"white-space:pre;overflow-x:auto;line-height:normal;font-family:Menlo,'DejaVu Sans Mono',consolas,'Courier New',monospace\"><span style=\"font-weight: bold\"> Optimizer params: </span><span style=\"color: #00af00; text-decoration-color: #00af00\">2</span> (12.00 B)\n",
              "</pre>\n"
            ]
          },
          "metadata": {}
        }
      ]
    },
    {
      "cell_type": "code",
      "source": [
        "loss, acc = new_model.evaluate(test_images, test_labels, verbose=2)\n",
        "print('Duzeltilmis model, accuracy(kesinlik): {:5.2f}%'.format(100 * acc))"
      ],
      "metadata": {
        "colab": {
          "base_uri": "https://localhost:8080/"
        },
        "id": "vCupAT3Apfjd",
        "outputId": "732a0c1c-54d5-4a86-9a4e-0a5d4502182e"
      },
      "execution_count": 27,
      "outputs": [
        {
          "output_type": "stream",
          "name": "stdout",
          "text": [
            "32/32 - 0s - 14ms/step - loss: 0.4301 - sparse_categorical_accuracy: 0.8760\n",
            "Duzeltilmis model, accuracy(kesinlik): 87.60%\n"
          ]
        }
      ]
    },
    {
      "cell_type": "markdown",
      "source": [
        "1.'.h5' Formatı (HDF5):\n",
        "  - HDF5 (Hierarchical Data Format) bir dosya formatıdır ve modelin yapısını, ağırlıkları ve eğitim bilgilerini (optimizer, loss, vs.) saklamak için yaygın olarak kullanılır.\n",
        "  - Bu format, verilerin ve modellerin hızlı ve verimli bir şekilde depolanmasını sağlar.\n",
        "  - .h5 formatı, hem Keras hem de TensorFlow tarafından desteklenir ve genel olarak uyumluluğu yüksektir.\n",
        "\n",
        "2.'.keras' Formatı:\n",
        "  - .keras formatı, TensorFlow 2.x ile gelen ve TensorFlow'la entegre olan bir formattır. Bu format, daha yeni bir standarttır ve TensorFlow'un modelin yapılandırmalarını, ağırlıkları ve diğer bilgileri saklama biçimi olarak kullanılabilir.\n",
        "  - .keras formatı, TensorFlow 2.x'in önerdiği yerel formatıdır.\n",
        "\n",
        "Benzerlikler:\n",
        "  - Her iki format da modelin yapısını, ağırlıkları ve optimizer'ı içerir.\n",
        "  - Her ikisi de modelin eğitim bilgilerini ve parametrelerini saklar, bu sayede model tekrar kullanılabilir.\n",
        "  - Hem .h5 hem de .keras formatları, TensorFlow ve Keras ile uyumludur.\n",
        "\n",
        "Farklar:\n",
        "  - .h5, daha eski ve genel bir formatken, .keras daha yeni bir TensorFlow formatıdır ve yalnızca TensorFlow ile uyumlu çalışabilir.\n",
        "  - .h5 formatı, daha geniş bir platformda kullanılabilirken, .keras formatı yalnızca TensorFlow ve Keras ortamlarında en iyi şekilde çalışır.\n",
        "  - .h5 formatı HDF5'e dayanırken, .keras formatı doğrudan TensorFlow'un kendi dosya yapısına dayanır."
      ],
      "metadata": {
        "id": "hpm-nG_zqY24"
      }
    },
    {
      "cell_type": "markdown",
      "source": [
        "# Sonuc\n",
        "\n",
        "Bir TensorFlow tutorial eğitim bölümünün daha sonuna geldik. Bu kısımda Save and load models(Modelleri kaydet ve yukle) kavramlarına değindik. Bundan sonra egittigimiz modelleri kayit ederek baska yerlerde kullanabilecegiz. Umarım çalışmam sizin için faydalı olmuştur. İyi günler, iyi çalışmalar dilerim.\n",
        "\n",
        "Aşağıdaki Linklerden beni takip edebilir ve yapacağım çalışmalardan haberdar olabilirsiniz!<br>\n",
        "[Linkedin](https://www.linkedin.com/in/ihsancenkiz/)<br>\n",
        "[Github](https://github.com/ihsncnkz)<br>\n",
        "[Kaggle](https://www.kaggle.com/ihsncnkz)"
      ],
      "metadata": {
        "id": "1WrDhtuOsHPm"
      }
    },
    {
      "cell_type": "code",
      "source": [],
      "metadata": {
        "id": "_RQR19tPsZmw"
      },
      "execution_count": null,
      "outputs": []
    }
  ]
}